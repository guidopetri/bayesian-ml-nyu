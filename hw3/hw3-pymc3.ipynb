{
 "cells": [
  {
   "cell_type": "code",
   "execution_count": 2,
   "metadata": {},
   "outputs": [],
   "source": [
    "import pymc3 as pm\n",
    "from scipy.io import loadmat\n",
    "import numpy as np\n",
    "\n",
    "dataset_1 = loadmat('occam1.mat')\n",
    "dataset_2 = loadmat('occam2.mat')"
   ]
  },
  {
   "cell_type": "code",
   "execution_count": null,
   "metadata": {},
   "outputs": [],
   "source": [
    "model_1 = pm.Model()\n",
    "model_2 = pm.Model()\n",
    "model_3 = pm.Model()\n",
    "\n",
    "x_shared = dataset_1['x']\n",
    "y_shared = dataset_1['y']\n",
    "\n",
    "with model_1:\n",
    "\n",
    "    # Priors for unknown model parameters\n",
    "    w = pm.Normal('w', mu=0, sigma=10)\n",
    "    k = pm.Normal('k', mu=0, sigma=10)\n",
    "    A = 1\n",
    "    B = 1\n",
    "    offset = 0\n",
    "    sigma = pm.HalfNormal('sigma', sigma=1)\n",
    "\n",
    "    # Expected value of outcome\n",
    "    mu = A / (B + pm.math.exp(-k * (x_shared - x_0))) + offset\n",
    "\n",
    "    # Likelihood (sampling distribution) of observations\n",
    "    Y_obs = pm.Normal('Y_obs', mu=mu, sigma=sigma, observed=y_shared)"
   ]
  }
 ],
 "metadata": {
  "kernelspec": {
   "display_name": "Python 3",
   "language": "python",
   "name": "python3"
  },
  "language_info": {
   "codemirror_mode": {
    "name": "ipython",
    "version": 3
   },
   "file_extension": ".py",
   "mimetype": "text/x-python",
   "name": "python",
   "nbconvert_exporter": "python",
   "pygments_lexer": "ipython3",
   "version": "3.7.0"
  }
 },
 "nbformat": 4,
 "nbformat_minor": 2
}
