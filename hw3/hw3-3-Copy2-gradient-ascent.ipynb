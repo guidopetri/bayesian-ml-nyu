{
 "cells": [
  {
   "cell_type": "markdown",
   "metadata": {},
   "source": [
    "# 3a"
   ]
  },
  {
   "cell_type": "code",
   "execution_count": 4,
   "metadata": {},
   "outputs": [],
   "source": [
    "from scipy.io import loadmat\n",
    "import numpy as np\n",
    "\n",
    "# load dataset\n",
    "dataset_1 = loadmat('occam1.mat')\n",
    "dataset_2 = loadmat('occam2.mat')"
   ]
  },
  {
   "cell_type": "code",
   "execution_count": 1070,
   "metadata": {},
   "outputs": [],
   "source": [
    "import math"
   ]
  },
  {
   "cell_type": "code",
   "execution_count": 2,
   "metadata": {},
   "outputs": [
    {
     "data": {
      "text/plain": [
       "(15, 1)"
      ]
     },
     "execution_count": 2,
     "metadata": {},
     "output_type": "execute_result"
    }
   ],
   "source": [
    "dataset_1['x'].shape"
   ]
  },
  {
   "cell_type": "code",
   "execution_count": 3,
   "metadata": {},
   "outputs": [
    {
     "data": {
      "text/plain": [
       "(100000, 1)"
      ]
     },
     "execution_count": 3,
     "metadata": {},
     "output_type": "execute_result"
    }
   ],
   "source": [
    "dataset_2['x'].shape"
   ]
  },
  {
   "cell_type": "code",
   "execution_count": null,
   "metadata": {},
   "outputs": [],
   "source": [
    "# gradient checker function: perturb a single dimension by epsilon and measure the difference\n",
    "def gradient_checker(gradient, objective_func, X, y, alpha, sigma, phi, z, check_variable,\n",
    "                     idx_z_check=0, epsilon=1e-4, tolerance=1e-4):\n",
    "    if check_variable == 'alpha':\n",
    "        approx_gradient = (objective_func(X, y, alpha + epsilon, sigma, phi, z)\n",
    "                           - objective_func(X, y, alpha - epsilon, sigma, phi, z)\n",
    "                           ) / (2 * epsilon)\n",
    "    elif check_variable == 'sigma':\n",
    "        approx_gradient = (objective_func(X, y, alpha, sigma + epsilon, phi, z)\n",
    "                           - objective_func(X, y, alpha, sigma - epsilon, phi, z)\n",
    "                           ) / (2 * epsilon)\n",
    "    elif check_variable == 'z':\n",
    "        approx_gradient = (objective_func(X, y, alpha, sigma, phi, z + np.array([epsilon * (idx == idx_z_check)\n",
    "                                                                                 for idx in range(len(z))]))\n",
    "                           - objective_func(X, y, alpha, sigma, phi, z - np.array([epsilon * (idx == idx_z_check)\n",
    "                                                                                   for idx in range(len(z))]))\n",
    "                           ) / (2 * epsilon)\n",
    "    # check the norm of the distance between the perturbed, numerical gradient and the analytical gradient\n",
    "    distance = np.linalg.norm(gradient - approx_gradient.item())\n",
    "    if distance > tolerance:\n",
    "        raise ValueError(f'Gradient did not match for parameters: alpha={alpha}, '\n",
    "                         f'sigma={sigma}, phi={phi}, z={z}, gradient={gradient}, '\n",
    "                         f'approx_gradient={approx_gradient.item()}, variable={check_variable}'\n",
    "                         )\n",
    "    return"
   ]
  },
  {
   "cell_type": "code",
   "execution_count": 1393,
   "metadata": {},
   "outputs": [],
   "source": [
    "# compute the gradients according to 1c\n",
    "def compute_gradients(X, y, alpha_2, sigma_2, phi, z=None):\n",
    "    # return gradient_z, gradient_alpha, gradient_sigma\n",
    "    # precalculate phi(X, z) so we don't have to calculate it several times\n",
    "    phi_xz = phi(X, z)\n",
    "    phi_t = phi_xz.T\n",
    "    N, k = phi_xz.shape\n",
    "    \n",
    "    # calculate Sigma since we also use it several times\n",
    "    Sigma = (1 / alpha_2) * np.identity(k) + (1 / sigma_2) * phi_t @ phi_xz\n",
    "    \n",
    "    # add jitter, according to hint 3\n",
    "    jitter_amount = 1e-6\n",
    "    Sigma = Sigma + jitter_amount * np.identity(k)\n",
    "    \n",
    "    # invert\n",
    "    sigma_inv = np.linalg.inv(Sigma)\n",
    "\n",
    "    # default initialization\n",
    "    gradient_z = 0\n",
    "    \n",
    "    if phi.z_shape != 0:\n",
    "        gradient_z = []\n",
    "        # for each dimension of z\n",
    "        for i in range(len(z)):\n",
    "            # take the derivative with respect to that dimension\n",
    "            phi_derivative = phi.z_derivative(X.squeeze(), z)[i]\n",
    "            phi_t_derivative = phi.z_derivative(X.squeeze(), z)[i].T\n",
    "\n",
    "            sigma_derivative = (phi_t_derivative @ phi_xz + phi_t @ phi_derivative) / sigma_2\n",
    "\n",
    "            # calculate gradient\n",
    "            gradient_z_i = 0.5 * (- np.trace(sigma_inv @ sigma_derivative)\n",
    "                                  + (y.T @ phi_derivative @ sigma_inv @ phi_t @ y\n",
    "                                     - y.T @ phi_xz @ sigma_inv @ sigma_derivative @ sigma_inv @ phi_t @ y\n",
    "                                     + y.T @ phi_xz @ sigma_inv @ phi_t_derivative @ y\n",
    "                                     ) / (sigma_2 ** 2)\n",
    "                                  )\n",
    "            gradient_z.append(gradient_z_i.item())\n",
    "\n",
    "    # calculate alpha and sigma gradient according to 1c\n",
    "    gradient_alpha = 0.5 * (- k / alpha_2\n",
    "                            + np.trace(sigma_inv) / (alpha_2 ** 2)\n",
    "                            + y.T @ phi_xz @ sigma_inv @ sigma_inv @ phi_t @ y / (sigma_2 ** 2 * alpha_2 ** 2))\n",
    "    \n",
    "    gradient_sigma = - 0.5 * (N / sigma_2\n",
    "                              - np.trace(sigma_inv @ phi_t @ phi_xz) / (sigma_2 ** 2)\n",
    "                              - y.T @ y / (sigma_2 ** 2)\n",
    "                              - y.T @ phi_xz @ (sigma_inv @ phi_t @ phi_xz @ sigma_inv / sigma_2\n",
    "                                                - 2 * sigma_inv) @ phi_t @ y / (sigma_2 ** 3)\n",
    "                              )\n",
    "    # return list, float, float\n",
    "    return gradient_z, gradient_alpha.item(), gradient_sigma.item()"
   ]
  },
  {
   "cell_type": "code",
   "execution_count": 852,
   "metadata": {},
   "outputs": [],
   "source": [
    "# the \"original\" version of 1b, without caring about dimensionality\n",
    "def calc_log_marginal_likelihood_old(X, y, alpha_2, sigma_2, phi, z=None):\n",
    "    N = X.shape[0]\n",
    "    # phi @ phi.T yields (N,N) shape matrix, which doesn't work for dataset 2\n",
    "    Sigma = sigma_2 * np.identity(N) + alpha_2 * phi(X, z) @ phi(X, z).T\n",
    "    \n",
    "    # add jitter, according to hint 3\n",
    "    jitter_amount = 1e-6\n",
    "    Sigma = Sigma + jitter_amount * np.identity(N)\n",
    "\n",
    "    # LML terms\n",
    "    first = - N * np.log(2 * np.pi) / 2\n",
    "    second = - np.log(np.linalg.det(Sigma)) / 2\n",
    "    third = - y.T @ np.linalg.inv(Sigma) @ y / 2\n",
    "\n",
    "    return first + second + third"
   ]
  },
  {
   "cell_type": "code",
   "execution_count": 1230,
   "metadata": {},
   "outputs": [],
   "source": [
    "# 1b with better dimensionality\n",
    "def calc_log_marginal_likelihood(X, y, alpha_2, sigma_2, phi, z=None):\n",
    "    # precalculation to avoid repeated evaluation of phi\n",
    "    phi_xz = phi(X, z)\n",
    "    N, phi_shape = phi_xz.shape\n",
    "    phi_t = phi_xz.T\n",
    "    # sigma is now (param_count_phi, param_count_phi) shape\n",
    "    Sigma = (1 / alpha_2) * np.identity(phi_shape) + (1 / sigma_2) * phi_t @ phi_xz\n",
    "    \n",
    "    # add jitter, according to hint 3\n",
    "    jitter_amount = 1e-6\n",
    "    Sigma = Sigma + jitter_amount * np.identity(phi_shape)\n",
    "\n",
    "    # LML terms\n",
    "    first = - N * np.log(2 * np.pi) / 2\n",
    "    second = - N * math.log(alpha_2 ** (phi_shape / N) * sigma_2) / 2\n",
    "    third = - math.log(np.linalg.det(-Sigma)) / 2\n",
    "    fourth = - y.T @ y / (2 * sigma_2)\n",
    "    fifth = y.T @ phi_xz @ np.linalg.inv(Sigma) @ phi_t @ y / (2 * (sigma_2 ** 2))\n",
    "\n",
    "    return first + second + third + fourth + fifth"
   ]
  },
  {
   "cell_type": "code",
   "execution_count": 1387,
   "metadata": {},
   "outputs": [],
   "source": [
    "class Model_1(object):\n",
    "    # model 1, according to 3a\n",
    "    def __init__(self):\n",
    "        # z doesn't matter\n",
    "        self.z_shape = 0\n",
    "        self.z_derivative = lambda x, z: None\n",
    "    \n",
    "    def __call__(self, x, *args):\n",
    "        # calling model_1(X, z) returns 1, x, x^2, x^3, x^4, x^5\n",
    "        return np.stack([np.ones(x.shape),\n",
    "                         x,\n",
    "                         x ** 2,\n",
    "                         x ** 3,\n",
    "                         x ** 4,\n",
    "                         x ** 5],\n",
    "                        ).squeeze().T\n",
    "\n",
    "class Model_2(object):\n",
    "    def __init__(self):\n",
    "        # z has two elements\n",
    "        self.z_shape = 2\n",
    "    \n",
    "    def z_derivative(self, x, z):\n",
    "        # derivatives of phi(x, z) with respect to z, for each element of z\n",
    "        # this is technically a tensor, but is implemented as a list of matrices\n",
    "        # shaped (2, N, 2)\n",
    "        return [np.stack([2 * (x - 1) ** 2 * np.exp(- ((x - 1) ** 2) / (z[0] ** 2)) / (z[0] ** 3),\n",
    "                         np.zeros(x.shape)]).T,\n",
    "                np.stack([np.zeros(x.shape),\n",
    "                          2 * (x - 5) ** 2 * np.exp(- ((x - 5) ** 2) / (z[1] ** 2)) / (z[1] ** 3),]).T\n",
    "                ]\n",
    "    \n",
    "    def __call__(self, x, z):\n",
    "        # phi_2 (X, z)\n",
    "        return np.stack([np.exp(- ((x - 1) ** 2 / z[0] ** 2)),\n",
    "                         np.exp(- ((x - 5) ** 2 / z[1] ** 2))],\n",
    "                         ).squeeze().T\n",
    "\n",
    "class Model_Test(object):\n",
    "    # for testing purposes\n",
    "    def __init__(self):\n",
    "        self.z_shape = 2\n",
    "    \n",
    "    def z_derivative(self, x, z):\n",
    "        # (2, N, 2) shape tensor\n",
    "        return [np.stack([x, np.zeros(x.shape)]).T,\n",
    "                np.stack([np.zeros(x.shape), x ** 2]).T\n",
    "                ]\n",
    "\n",
    "    def __call__(self, x, z):\n",
    "        # simple functions to make sure the derivatives for model 2 were not the problem\n",
    "        return np.stack([x * z[0], z[1] * x ** 2]).squeeze().T\n",
    "    \n",
    "class Model_3(object):\n",
    "    def __init__(self):\n",
    "        # z doesn't matter again\n",
    "        self.z_shape = 0\n",
    "        self.z_derivative = lambda x, z: None\n",
    "    \n",
    "    def __call__(self, x, *args):\n",
    "        # phi_3(X, z)\n",
    "        return np.stack([x,\n",
    "                         np.cos(2 * x)],\n",
    "                        ).squeeze().T"
   ]
  },
  {
   "cell_type": "code",
   "execution_count": 1388,
   "metadata": {},
   "outputs": [],
   "source": [
    "# initialize the models\n",
    "model_1 = Model_1()\n",
    "model_2 = Model_2()\n",
    "model_3 = Model_3()\n",
    "model_test = Model_Test()"
   ]
  },
  {
   "cell_type": "code",
   "execution_count": 1395,
   "metadata": {},
   "outputs": [
    {
     "data": {
      "text/plain": [
       "([-201.84040546517545, 171.7267329620542],\n",
       " 92.00499484961402,\n",
       " 1698.2944171554418)"
      ]
     },
     "execution_count": 1395,
     "metadata": {},
     "output_type": "execute_result"
    }
   ],
   "source": [
    "# small test for compute_gradients to see if it runs\n",
    "compute_gradients(dataset_1['x'],\n",
    "                  dataset_1['y'],\n",
    "                  4,\n",
    "                  3,\n",
    "                  model_2,\n",
    "                  z=[1, 2]\n",
    "                  )"
   ]
  },
  {
   "cell_type": "code",
   "execution_count": 1396,
   "metadata": {},
   "outputs": [
    {
     "data": {
      "text/plain": [
       "array([[-4757.08427572]])"
      ]
     },
     "execution_count": 1396,
     "metadata": {},
     "output_type": "execute_result"
    }
   ],
   "source": [
    "# same for calculating LML\n",
    "calc_log_marginal_likelihood(dataset_1['x'], dataset_1['y'], 4, 3, model_1, [1, 2])"
   ]
  },
  {
   "cell_type": "code",
   "execution_count": 1397,
   "metadata": {
    "scrolled": true
   },
   "outputs": [],
   "source": [
    "# checking if gradient checker works\n",
    "gradient_checker(-201.8404, calc_log_marginal_likelihood,\n",
    "                 dataset_1['x'], dataset_1['y'], 4, 3, model_2, np.array([1, 2]), 'z', idx_z_check=0, epsilon=1e-6)"
   ]
  },
  {
   "cell_type": "code",
   "execution_count": 1404,
   "metadata": {},
   "outputs": [],
   "source": [
    "# batch gradient ascent code adapted from my 1003 code\n",
    "def batch_grad_ascent(X, y, step_size_alpha=0.1, step_size_sigma=1, step_size_z=0.1,\n",
    "                       phi=None, grad_check=False):\n",
    "\n",
    "    # initialization procedures\n",
    "    likelihood_history = []\n",
    "    alpha_history = [1]\n",
    "    sigma_history = [1]\n",
    "    num_instances, num_features = X.shape[0], 1\n",
    "    z = np.ones(phi.z_shape)\n",
    "    alpha = 1\n",
    "    sigma = 1\n",
    "    iteration = 0\n",
    "    \n",
    "    # start the LML here\n",
    "    log_marginal_likelihood = calc_log_marginal_likelihood(X, y, alpha, sigma, phi, z)\n",
    "    likelihood_history.append(log_marginal_likelihood.item())\n",
    "    \n",
    "    if phi is None:\n",
    "        raise NotImplementedError\n",
    "    \n",
    "    # while not converged\n",
    "    while True:\n",
    "        iteration += 1\n",
    "        # compute the gradients\n",
    "        gradient_z, gradient_alpha, gradient_sigma = compute_gradients(X, y, alpha, sigma, phi, z)\n",
    "        if grad_check:\n",
    "            gradient_checker(gradient_alpha, calc_log_marginal_likelihood, X, y, alpha, sigma, phi, z, check_variable='alpha')\n",
    "            gradient_checker(gradient_sigma, calc_log_marginal_likelihood, X, y, alpha, sigma, phi, z, check_variable='sigma')\n",
    "            gradient_checker(gradient_z, calc_log_marginal_likelihood, X, y, alpha, sigma, phi, z, check_variable='z')\n",
    "        # step in the gradient direction (ascent, not descent)\n",
    "        # ensure that we do not go beyond 0 for alpha/sigma\n",
    "        z = [z[i] + step_size_z * gradient_z[i] for i in range(len(z))]\n",
    "        alpha = max(1e-16, alpha + step_size_alpha * gradient_alpha)\n",
    "        sigma = max(1e-16, sigma + step_size_sigma * gradient_sigma)\n",
    "        \n",
    "        # calculate the updated LML\n",
    "        log_marginal_likelihood = calc_log_marginal_likelihood(X, y, alpha, sigma, phi, z)\n",
    "        \n",
    "        if iteration % 10000 == 0:\n",
    "            # anneal every 10k iterations\n",
    "            step_size_alpha *= 0.9\n",
    "            step_size_sigma *= 0.9\n",
    "            step_size_z *= 0.9\n",
    "            print(f'At iteration {iteration}, diff size: {abs(likelihood_history[-1] - log_marginal_likelihood)}')\n",
    "        \n",
    "        if abs(likelihood_history[-1] - log_marginal_likelihood) < 1e-3:\n",
    "            # if converged to 1e-3, exit loop\n",
    "            break\n",
    "            \n",
    "        likelihood_history.append(log_marginal_likelihood.item())\n",
    "        alpha_history.append(alpha)\n",
    "        sigma_history.append(sigma)\n",
    "        \n",
    "        if np.isnan(log_marginal_likelihood.item()):\n",
    "            # if LML is NaN, then something went wrong. time to investigate\n",
    "            print('Something broke')\n",
    "            return z, alpha, sigma, likelihood_history, alpha_history, sigma_history\n",
    "    # return everything we need\n",
    "    return z, alpha, sigma, likelihood_history, alpha_history, sigma_history"
   ]
  },
  {
   "cell_type": "code",
   "execution_count": null,
   "metadata": {},
   "outputs": [],
   "source": [
    "results = []\n",
    "\n",
    "# for each model\n",
    "for model_idx, model in enumerate([model_1, model_2, model_3]):\n",
    "    # for each dataset\n",
    "    for dataset_idx, dataset in enumerate([dataset_1, dataset_2]):\n",
    "        # run the gradient ascent\n",
    "        z_hat, alpha_hat, sigma_hat, likelihood_history, alpha_history, sigma_history = batch_grad_ascent(dataset['x'],\n",
    "                                                                             dataset['y'],\n",
    "                                                                             step_size_alpha=(dataset_idx + 1) * 1e-2,\n",
    "                                                                             step_size_sigma=(dataset_idx + 1) * 1e-2,\n",
    "                                                                             step_size_z=(dataset_idx + 1) * 1e-2,\n",
    "                                                                             phi=model,\n",
    "                                                                             )\n",
    "        results.append((z_hat, alpha_hat, sigma_hat, likelihood_history[-1], alpha_history[-1], sigma_history[-1]))\n",
    "        print(f'Model {model_idx}, dataset {dataset_idx}, likelihood: {likelihood_history[-1]}')\n",
    "        print(f'alpha {alpha_hat}, sigma {sigma_hat}, z {z_hat}')"
   ]
  },
  {
   "cell_type": "code",
   "execution_count": 1529,
   "metadata": {},
   "outputs": [
    {
     "name": "stdout",
     "output_type": "stream",
     "text": [
      "model: 1, dataset: 1, z_hat: [], alpha_hat: 0.4353785095046029, sigma_hat: 354.0200529133279, maximal LML: -119.20505713229423\n",
      "\n",
      "model: 1, dataset: 2, z_hat: [], alpha_hat: 1e-16, sigma_hat: 2514048.4860248924, maximal LML: -828814.2872547597\n",
      "\n",
      "model: 2, dataset: 1, z_hat: [0.7008196507919382, 18.17007889934841], alpha_hat: 65.17658409212436, sigma_hat: 362.15753709090404, maximal LML: -108.35154482485123\n",
      "\n",
      "model: 2, dataset: 2, z_hat: [1e-16, 335.0918315259478], alpha_hat: 6.262438937758772e-05, sigma_hat: 2522296.238359275, maximal LML: -828977.8879457853\n",
      "\n",
      "model: 3, dataset: 1, z_hat: [], alpha_hat: 82.97761805260556, sigma_hat: 345.87419691751444, maximal LML: -108.20310620899798\n",
      "\n",
      "model: 3, dataset: 2, z_hat: [], alpha_hat: 1.8174113153563633e-05, sigma_hat: 2504646.1704369276, maximal LML: -828627.1295856825\n",
      "\n"
     ]
    }
   ],
   "source": [
    "# print best values separately from the running code\n",
    "[print(f'model: {1 + idx // 2}, dataset: {1 + idx % 2}, z_hat: {z},'\n",
    "       f' alpha_hat: {a}, sigma_hat: {s}, maximal LML: {l}\\n')\n",
    " for idx, (z, a, s, l, _, _) in enumerate(results)];"
   ]
  },
  {
   "cell_type": "code",
   "execution_count": 1466,
   "metadata": {},
   "outputs": [],
   "source": [
    "evidences = []\n",
    "\n",
    "# calculate evidences for each model/dataset combo\n",
    "for model_idx, model in enumerate([model_1, model_2, model_3]):\n",
    "    for dataset_idx, dataset in enumerate([dataset_1, dataset_2]):\n",
    "        # parameter count matters for the identity matrices\n",
    "        if model_idx == 0:\n",
    "            param_count = 6\n",
    "        else:\n",
    "            param_count = 2\n",
    "\n",
    "        N = dataset['x'].shape[0]\n",
    "        z_hat, alpha_hat, sigma_hat, likelihood_history, alpha_history, sigma_history = results[model_idx * 2 + dataset_idx]\n",
    "\n",
    "        # calculate log evidence because some of these numbers are too small for python to handle\n",
    "        log_evidence = (likelihood_history\n",
    "                        # parameter complexity\n",
    "                        + 0.5 * param_count * np.log(2 * np.pi)\n",
    "                        # prior\n",
    "                        + N * np.log((2 * np.pi) ** (-param_count / (2 * N)) * alpha_hat)\n",
    "                        + 0\n",
    "                        # rewriting A for tractability using (24) from matrix cookbook\n",
    "                        - 0.5 * N * np.log(sigma_hat)\n",
    "                        - 0.5 * param_count * np.log(alpha_hat)\n",
    "                        - 0.5 * np.log(\n",
    "                            np.linalg.det(- (1 / alpha_hat) * np.identity(param_count)\n",
    "                                          - (1 / sigma_hat) * model(dataset['x'], z_hat).T @ model(dataset['x'], z_hat)\n",
    "                                         )))\n",
    "\n",
    "        evidence = np.exp(log_evidence)  # becomes 0 for the second dataset because the evidence is so low...\n",
    "        print(f'Model {model_idx}, dataset {dataset_idx}, evidence: {evidence}')\n",
    "        evidences.append((model_idx, dataset_idx, log_evidence))"
   ]
  },
  {
   "cell_type": "code",
   "execution_count": 1467,
   "metadata": {},
   "outputs": [],
   "source": [
    "import pandas as pd\n",
    "\n",
    "df = pd.DataFrame(evidences, columns=['Model index', 'Dataset index', 'Evidence'])"
   ]
  },
  {
   "cell_type": "code",
   "execution_count": 1489,
   "metadata": {},
   "outputs": [
    {
     "data": {
      "image/png": "[encoded data removed]",
      "text/plain": [
       "<Figure size 936x504 with 2 Axes>"
      ]
     },
     "metadata": {},
     "output_type": "display_data"
    }
   ],
   "source": [
    "fig, axs = plt.subplots(1, 2, figsize=(13, 7))\n",
    "\n",
    "plt.axes(axs[0])\n",
    "df[df['Dataset index'] == 0]['Evidence'].plot.bar()\n",
    "plt.title('Dataset 1')\n",
    "plt.xlabel('Model index')\n",
    "plt.xticks(ticks=[0, 1, 2], labels=[0, 1, 2])\n",
    "plt.ylabel('Log evidence (higher is better)')\n",
    "\n",
    "plt.axes(axs[1])\n",
    "df[df['Dataset index'] == 1]['Evidence'].plot.bar()\n",
    "plt.title('Dataset 2')\n",
    "plt.xlabel('Model index')\n",
    "plt.xticks(ticks=[0, 1, 2], labels=[0, 1, 2])\n",
    "plt.ylabel('Log evidence (higher is better)');"
   ]
  },
  {
   "cell_type": "markdown",
   "metadata": {},
   "source": [
    "# 3c\n",
    "\n",
    "The model with the highest evidence on the second dataset is the second model (index 1), with\n",
    "\n",
    "$$\n",
    "\\phi(x, \\textbf{z}) = (\\exp(- \\dfrac{(x-1)^2}{z_1^2}), \\exp(- \\dfrac{(x-5)^2}{z_2^2}))^T\n",
    "$$\n",
    "\n",
    "and $\\textbf{z} = (z_1, z_2)^T$. The posterior mean and variance can be calculated using Bishop, 3.49 (with 3.50 and 3.51):\n",
    "\n",
    "$$\n",
    "p(\\textbf{w} | \\mathcal{D}) = \\mathcal{N}(\\textbf{w}| m_N, S_N)\n",
    "$$\n",
    "\n",
    "with\n",
    "\n",
    "$$\n",
    "m_N = S_N (S_0^{-1} m_0 + \\beta \\Phi^T \\textbf{t}\n",
    "$$\n",
    "\n",
    "$$\n",
    "S_N^{-1} = S_0^{-1} + \\beta \\Phi^T \\Phi\n",
    "$$\n",
    "\n",
    "Thus:"
   ]
  },
  {
   "cell_type": "code",
   "execution_count": 1513,
   "metadata": {},
   "outputs": [
    {
     "name": "stdout",
     "output_type": "stream",
     "text": [
      "Posterior mean: \n",
      "[[0.00000000e+00]\n",
      " [4.95580464e-06]], \n",
      "\n",
      "posterior variance: \n",
      "[[15968.2195697      0.        ]\n",
      " [    0.         15968.25921024]]\n"
     ]
    }
   ],
   "source": [
    "z_hat, alpha_hat, sigma_hat, likelihood_history, alpha_history, sigma_history = results[3]\n",
    "phi_xz = model_2(dataset_2['x'], z_hat)\n",
    "\n",
    "prior_mean = np.zeros((2, 1))\n",
    "S_N = (1 / alpha_hat) * np.identity(2) + (1 / sigma_hat) * phi_xz.T @ phi_xz\n",
    "m_N = np.linalg.inv(S_N) @ ((1 / alpha_hat) * np.identity(2) @ prior_mean + (1 / sigma_hat) * phi_xz.T @ dataset_2['y'])\n",
    "\n",
    "print(f'Posterior mean: \\n{m_N}, \\n\\nposterior variance: \\n{S_N}')"
   ]
  }
 ],
 "metadata": {
  "kernelspec": {
   "display_name": "Python 3",
   "language": "python",
   "name": "python3"
  },
  "language_info": {
   "codemirror_mode": {
    "name": "ipython",
    "version": 3
   },
   "file_extension": ".py",
   "mimetype": "text/x-python",
   "name": "python",
   "nbconvert_exporter": "python",
   "pygments_lexer": "ipython3",
   "version": "3.7.0"
  }
 },
 "nbformat": 4,
 "nbformat_minor": 2
}
