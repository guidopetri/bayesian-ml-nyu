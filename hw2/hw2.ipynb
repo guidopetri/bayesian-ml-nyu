{
 "cells": [
  {
   "cell_type": "code",
   "execution_count": 1,
   "metadata": {},
   "outputs": [],
   "source": [
    "import numpy as np\n",
    "import matplotlib.pyplot as plt\n",
    "%matplotlib inline"
   ]
  },
  {
   "cell_type": "code",
   "execution_count": 4,
   "metadata": {},
   "outputs": [],
   "source": [
    "N = 6\n",
    "K = 5\n",
    "\n",
    "G = np.array([[1, 0, 0, 0, 0],\n",
    "              [1, 0, 1, 0, 1],\n",
    "              [0, 1, 1, 1, 0],\n",
    "              [0, 1, 0, 0, 0],\n",
    "              [0, 0, 0, 0, 1],\n",
    "              [0, 0, 0, 1, 0],\n",
    "              ])\n",
    "assert G.shape == (N, K)"
   ]
  },
  {
   "cell_type": "code",
   "execution_count": 5,
   "metadata": {},
   "outputs": [],
   "source": [
    "F = np.ones(shape=(K, 2, 2))\n",
    "F[0, 1, 1] = 5\n",
    "F[1, 0, 1] = 0.5\n",
    "F[2, 0, 0] = 0\n",
    "F[3, 0, 0] = 2\n",
    "# F(j, p, q):\n",
    "# value of factor j when variable with the smaller numerical index is p and variable with larger numerical index is q"
   ]
  },
  {
   "cell_type": "markdown",
   "metadata": {},
   "source": [
    "# a"
   ]
  },
  {
   "cell_type": "markdown",
   "metadata": {},
   "source": [
    "![Graph for Homework 2, a](hw2_a_graph.png)\n",
    "\n",
    "The graph is singly connected, since there's only one path from any given variable $u$ to another variable $f$, for any $u$ and $f$."
   ]
  },
  {
   "cell_type": "markdown",
   "metadata": {},
   "source": [
    "# b"
   ]
  },
  {
   "cell_type": "code",
   "execution_count": 6,
   "metadata": {},
   "outputs": [
    {
     "data": {
      "text/plain": [
       "array([[0.21186441, 0.78813559],\n",
       "       [0.13559322, 0.86440678],\n",
       "       [0.45762712, 0.54237288],\n",
       "       [0.57627119, 0.42372881],\n",
       "       [0.5       , 0.5       ],\n",
       "       [0.57627119, 0.42372881]])"
      ]
     },
     "execution_count": 6,
     "metadata": {},
     "output_type": "execute_result"
    }
   ],
   "source": [
    "def computeMarginals(G, F):\n",
    "    \"\"\"\n",
    "    Compute marginal probabilities of all variables in the graph. Return: N x 2 matrix of\n",
    "    marginal probabilities.\n",
    "    \"\"\"\n",
    "    \n",
    "    # create variables for use later\n",
    "    VF = np.ones(shape=(N, K, 2))\n",
    "    FV = np.ones(shape=(K, N, 2))\n",
    "    Vsent = np.zeros(shape=(N, K))\n",
    "    Fsent = np.zeros(shape=(K, N))\n",
    "    forward_pass_order = []\n",
    "    \n",
    "    def send_message(node1, node2, was_variable, root):\n",
    "        \"\"\"\n",
    "        Send message between node1 and node2. Must know whether node1 is a variable or not,\n",
    "        as well as what the root node is.\n",
    "        \"\"\"\n",
    "        if was_variable:\n",
    "            # then node1 was a variable and node2 was a factor\n",
    "            \n",
    "            # make sure the message was not sent yet\n",
    "            assert Vsent[node1, node2] == 0\n",
    "            \n",
    "            # find the factors that this variable is connected to\n",
    "            connections = np.where(G[node1, :] == 1)[0]\n",
    "            if len(connections) > 1:\n",
    "                result = np.ones(shape=(2,))\n",
    "                # multiply the connections' messages, except for the factor we are currently messaging\n",
    "                for connection in connections:\n",
    "                    if connection == node2:\n",
    "                        # skip current factor\n",
    "                        continue\n",
    "                    result *= FV[connection, node1, :]\n",
    "                # save the message\n",
    "                VF[node1, node2, :] = result\n",
    "            else:\n",
    "                # if we only have one connection, it's a leaf variable so it returns 1\n",
    "                VF[node1, node2, :] = 1\n",
    "            # keep track of which messages were sent from variable to factor\n",
    "            Vsent[node1, node2] = 1\n",
    "        else:\n",
    "            # then node1 was a factor and node2 was a variable\n",
    "            \n",
    "            # make sure the message was not sent yet\n",
    "            assert Fsent[node1, node2] == 0\n",
    "            \n",
    "            # find the (two) variables that this factor is connected to\n",
    "            connections = np.where(G[:, node1] == 1)[0]\n",
    "            if node2 == connections[0]:\n",
    "                # if we're messaging the lower indexed variable, we need to get the message from the higher indexed variable\n",
    "                message_sent_to_factor = VF[connections[1], node1, :]\n",
    "                \n",
    "                # sum-product of factors with the message that was sent, equivalent to matrix multiplication\n",
    "                FV[node1, node2, :] = (F[node1, :, :] @ message_sent_to_factor)\n",
    "            else:\n",
    "                # if we are messaging the higher indexed variable\n",
    "                message_sent_to_factor = VF[connections[0], node1, :]\n",
    "                # have to take the transpose since we are messaging the higher indexed variable\n",
    "                FV[node1, node2, :] = (F[node1, :, :].T @ message_sent_to_factor)\n",
    "            \n",
    "            # keep track of which messages were sent from factor to variable\n",
    "            Fsent[node1, node2] = 1\n",
    "    \n",
    "    def traverse_graph(index, vector, is_variable):\n",
    "        \"\"\"\n",
    "        Traverse factor graph and find out what dependencies exist between factors and variables.\n",
    "        Saves dependencies in `forward_pass_order`. Start from the root and recursively find\n",
    "        dependencies.\n",
    "        \"\"\"\n",
    "        \n",
    "        if not vector.any():\n",
    "            # base case\n",
    "            if is_variable:\n",
    "                # if we hit a variable leaf, then we have no dependencies\n",
    "                return\n",
    "            else:\n",
    "                # we don't have factor leaves, but we could have them. we can use this for observed variables\n",
    "                raise NotImplementedError\n",
    "        \n",
    "        if is_variable:\n",
    "            # if we are starting out with a variable\n",
    "            result = 1\n",
    "            for factor_index, factor in enumerate(vector):\n",
    "                if factor:\n",
    "                    # for each connected factor (as written in `G`), introduce a dependency in `forward_pass_order`\n",
    "                    forward_pass_order.append((index, factor_index, is_variable))\n",
    "                    \n",
    "                    # remove the connection we already operated over\n",
    "                    without_connected_variable = G[:, factor_index].copy()\n",
    "                    without_connected_variable[index] = 0\n",
    "                    \n",
    "                    # find other dependencies of that factor recursively\n",
    "                    traverse_graph(factor_index,\n",
    "                                   without_connected_variable,\n",
    "                                   is_variable=False,\n",
    "                                   )\n",
    "            return\n",
    "        else:\n",
    "            # if we are starting out with a factor\n",
    "            for variable_index, variable in enumerate(vector):\n",
    "                if variable:\n",
    "                    # for each connected variable (as written in `G`), introduce a dependency\n",
    "                    forward_pass_order.append((index, variable_index, is_variable))\n",
    "                    \n",
    "                    # remove the connection we already looked at\n",
    "                    without_connected_factor = G[variable_index, :].copy()\n",
    "                    without_connected_factor[index] = 0\n",
    "                    \n",
    "                    # find other dependencies of that variable recursively\n",
    "                    traverse_graph(variable_index,\n",
    "                                   without_connected_factor,\n",
    "                                   is_variable=True,\n",
    "                                   )\n",
    "            return\n",
    "    \n",
    "    # graph traversal starting from root node 6 (index `5`)\n",
    "    root = 5\n",
    "    vector = G[root, :]\n",
    "    is_variable = True\n",
    "    \n",
    "    # traverse the graph\n",
    "    traverse_graph(root, vector, is_variable)\n",
    "    \n",
    "    # in opposite order - i.e. from leaves to the root -, send messages\n",
    "    for node1, node2, was_variable in forward_pass_order[::-1]:\n",
    "        send_message(node2, node1, not was_variable, root)\n",
    "    \n",
    "    # send messages from root to leaves\n",
    "    for node1, node2, was_variable in forward_pass_order:\n",
    "        send_message(node1, node2, was_variable, root)\n",
    "\n",
    "    # end state: make sure that all messages were sent that had to be sent\n",
    "    assert np.equal(Vsent, G).all()\n",
    "    assert np.equal(Fsent, G.T).all()\n",
    "    \n",
    "    # initialize variable that keeps our marginals\n",
    "    B = np.zeros(shape=(N, 2))\n",
    "    \n",
    "    for variable in range(N):\n",
    "        # for each variable, marginalize by taking the product of all factors that are connected to it\n",
    "        B[variable, :] = FV[:, variable, :].prod(axis=0)\n",
    "        \n",
    "    # normalize\n",
    "    # have to transpose it so that the broadcasting works properly...\n",
    "    B = (B.T / B.sum(axis=1)).T\n",
    "    \n",
    "    # return marginals\n",
    "    return B\n",
    "\n",
    "B = computeMarginals(G, F)\n",
    "B"
   ]
  },
  {
   "cell_type": "markdown",
   "metadata": {},
   "source": [
    "# c"
   ]
  },
  {
   "cell_type": "markdown",
   "metadata": {},
   "source": [
    "If I only care about the marginal probability of one of the variables, I would modify the algorithm to have that variable's index as its root (where my implementation says `root = 5`). I would also not require the backward pass through the graph, so only one graph traversal is required. Finally, I would skip the calculation of marginal probabilities for every variable at the end (where my implementation says `for variable in range(N):`) and instead just calculate the marginal probability for the specific index of the variable I want."
   ]
  },
  {
   "cell_type": "markdown",
   "metadata": {},
   "source": [
    "# d"
   ]
  },
  {
   "cell_type": "code",
   "execution_count": 7,
   "metadata": {
    "scrolled": true
   },
   "outputs": [
    {
     "data": {
      "text/plain": [
       "array([[0.21186441, 0.78813559],\n",
       "       [0.13559322, 0.86440678],\n",
       "       [0.45762712, 0.54237288],\n",
       "       [0.57627119, 0.42372881],\n",
       "       [0.5       , 0.5       ],\n",
       "       [0.57627119, 0.42372881]])"
      ]
     },
     "execution_count": 7,
     "metadata": {},
     "output_type": "execute_result"
    }
   ],
   "source": [
    "def bruteForce(G, F):\n",
    "    \"\"\"\n",
    "    Enumerate all 2^N configurations of variables. Return: N x 2 matrix of marginal probabilities.\n",
    "    \"\"\"\n",
    "    \n",
    "    possibilities = np.zeros(shape=(2,) * N)\n",
    "    \n",
    "    binary_possibilities = [0, 1]\n",
    "    \n",
    "    def get_possibilities(index, *args):\n",
    "        \"\"\"\n",
    "        Recursively find all possibilities and their individual probabilities.\n",
    "        \"\"\"\n",
    "        if index == N - 1:\n",
    "            # if we're the last index (i.e. base case)\n",
    "            for var in binary_possibilities:\n",
    "                new_args = tuple([var]) + args\n",
    "                result = 1\n",
    "                \n",
    "                for factor_index, factor in enumerate(F):\n",
    "                    # find the connections for each factor\n",
    "                    connections = G[:, factor_index]\n",
    "                    connection_indices = np.where(connections == 1)[0]\n",
    "                    first_index = connection_indices[0]\n",
    "                    second_index = connection_indices[1]\n",
    "                    \n",
    "                    # multiply the result by the factors' entries in `F`\n",
    "                    result *= factor[new_args[-(first_index + 1)], new_args[-(second_index + 1)]]\n",
    "                # save the probability\n",
    "                possibilities[new_args[::-1]] = result\n",
    "            return\n",
    "        \n",
    "        for var in binary_possibilities:\n",
    "            # recursively count up to the highest index N - 1\n",
    "            get_possibilities(index + 1, var, *args)\n",
    "    \n",
    "    # get the possibilities and their probabilities, starting from the variable indexed 0\n",
    "    get_possibilities(0)\n",
    "\n",
    "    # normalize\n",
    "    possibilities = possibilities / possibilities.sum()\n",
    "    \n",
    "    B = np.zeros(shape=(N, 2))\n",
    "    \n",
    "    for variable in range(N):\n",
    "        # marginalize by summing probabilities across all axes except the one of the variable (of course)\n",
    "        list_of_axes = list(range(N))\n",
    "        list_of_axes.remove(variable)\n",
    "        B[variable, :] = possibilities.sum(axis=tuple(list_of_axes))\n",
    "    return B\n",
    "\n",
    "B_bruteforce = bruteForce(G, F)\n",
    "B_bruteforce"
   ]
  },
  {
   "cell_type": "code",
   "execution_count": 8,
   "metadata": {},
   "outputs": [
    {
     "data": {
      "text/plain": [
       "array([[0.21186441, 0.78813559],\n",
       "       [0.13559322, 0.86440678],\n",
       "       [0.45762712, 0.54237288],\n",
       "       [0.57627119, 0.42372881],\n",
       "       [0.5       , 0.5       ],\n",
       "       [0.57627119, 0.42372881]])"
      ]
     },
     "execution_count": 8,
     "metadata": {},
     "output_type": "execute_result"
    }
   ],
   "source": [
    "B"
   ]
  },
  {
   "cell_type": "code",
   "execution_count": 12,
   "metadata": {},
   "outputs": [
    {
     "name": "stdout",
     "output_type": "stream",
     "text": [
      "355 µs ± 12 µs per loop (mean ± std. dev. of 7 runs, 1000 loops each)\n"
     ]
    }
   ],
   "source": [
    "%timeit computeMarginals(G, F)"
   ]
  },
  {
   "cell_type": "code",
   "execution_count": 13,
   "metadata": {},
   "outputs": [
    {
     "name": "stdout",
     "output_type": "stream",
     "text": [
      "1.94 ms ± 8.04 µs per loop (mean ± std. dev. of 7 runs, 1000 loops each)\n"
     ]
    }
   ],
   "source": [
    "%timeit bruteForce(G, F)"
   ]
  },
  {
   "cell_type": "markdown",
   "metadata": {},
   "source": [
    "### Comparison\n",
    "\n",
    "`B` and `B_bruteforce` yield the identical results. However, `B` only requires two graph traversals to calculate the marginals, whereas `B_bruteforce` requires listing and calculating the marginals for every combination. This makes it so that the brute force approach takes nearly ten times as long as the sum-product algorithm in our example."
   ]
  },
  {
   "cell_type": "markdown",
   "metadata": {},
   "source": [
    "# e"
   ]
  },
  {
   "cell_type": "markdown",
   "metadata": {},
   "source": [
    "You could condition on observed variables by adding a factor on those variables that takes only a single value, multiplying the variable by e.g. (0, 1) so that only one value is possible. In the code above, this would have to be implemented in the `raise NotImplementedError` line. This was not implemented since we did not have any factor leaves in our tree.\n",
    "\n",
    "Obviously, we would also have to update the matrices $G$ and $F$."
   ]
  },
  {
   "cell_type": "code",
   "execution_count": null,
   "metadata": {},
   "outputs": [],
   "source": []
  }
 ],
 "metadata": {
  "kernelspec": {
   "display_name": "Python 3",
   "language": "python",
   "name": "python3"
  },
  "language_info": {
   "codemirror_mode": {
    "name": "ipython",
    "version": 3
   },
   "file_extension": ".py",
   "mimetype": "text/x-python",
   "name": "python",
   "nbconvert_exporter": "python",
   "pygments_lexer": "ipython3",
   "version": "3.7.0"
  }
 },
 "nbformat": 4,
 "nbformat_minor": 2
}
