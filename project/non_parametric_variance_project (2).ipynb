{
 "cells": [
  {
   "cell_type": "code",
   "execution_count": 1,
   "metadata": {},
   "outputs": [],
   "source": [
    "from pyhmc import hmc\n",
    "import autograd.numpy as np  # Thinly-wrapped numpy\n",
    "import autograd.scipy as scipy\n",
    "from autograd import grad    # The only autograd function you may ever need\n",
    "from autograd import jacobian  \n",
    "from autograd import elementwise_grad as egrad \n",
    "from scipy.special import gamma\n",
    "from scipy.stats import norm, multivariate_normal\n",
    "import matplotlib.pyplot as plt\n",
    "from scipy.optimize import minimize\n"
   ]
  },
  {
   "cell_type": "code",
   "execution_count": 2,
   "metadata": {},
   "outputs": [
    {
     "data": {
      "text/plain": [
       "array([1., 2.])"
      ]
     },
     "execution_count": 2,
     "metadata": {},
     "output_type": "execute_result"
    }
   ],
   "source": [
    "def tanh(x,z):\n",
    "    \n",
    "    y = np.exp(-2.0*x*z)\n",
    "    return (1.0 - y) / (1.0 + y)\n",
    "\n",
    "\n",
    "def plano(x, param):\n",
    "    \n",
    "    \n",
    "    return x[0]+2*x[1]+param\n",
    "\n",
    "x = np.linspace(-7, 7, 200)\n",
    "\n",
    "grad(plano)(np.array([0.4, 0.3]), 0.5)\n"
   ]
  },
  {
   "cell_type": "code",
   "execution_count": 3,
   "metadata": {},
   "outputs": [],
   "source": [
    "L = 20.0\n",
    "\n",
    "def S(tau, theta):\n",
    "    \n",
    "    return theta[0]*np.exp(tau**2/theta[1])\n",
    "\n",
    "def Lambda(n,L):\n",
    "    return (n+1)*np.pi/(2*L)\n",
    "\n",
    "def gamma_plus(i,j,L):\n",
    "    \n",
    "    return Lambda(i,L) + Lambda(j,L)\n",
    "\n",
    "def gamma_minus(i,j,L):\n",
    "    \n",
    "    return Lambda(i,L) - Lambda(j,L)\n",
    "\n",
    "# def psi(x,i,j,L):\n",
    "    \n",
    "#     if i==j:\n",
    "        \n",
    "#         return 1/(2*L)*(x+L) - np.sin(gamma_plus(j,j,L)*(x+L) )/(2*L*gamma_plus(j,j,L))\n",
    "    \n",
    "#     else:\n",
    "        \n",
    "#          return np.sin(gamma_minus(i,j,L)*(x+L) )/(2*L*gamma_minus(i,j,L)) - np.sin(gamma_plus(i,j,L)*(x+L) )/(2*L*gamma_plus(i,j,L))\n",
    "\n",
    "        \n",
    "def psi(x,i,j,L):\n",
    "    \n",
    "    if i==j:\n",
    "        \n",
    "        t1 = 1/(2*L)*x\n",
    "        t2 = np.sin(gamma_plus(j,j,L)*(x+L) )/(2*L*gamma_plus(j,j,L)) - np.sin(gamma_plus(j,j,L)*(L) )/(2*L*gamma_plus(j,j,L))\n",
    "        \n",
    "        return t1 - t2\n",
    "    \n",
    "    else:\n",
    "        \n",
    "        t1 = np.sin(gamma_minus(i,j,L)*(x+L) )/(2*L*gamma_minus(i,j,L)) - np.sin(gamma_minus(i,j,L)*(L) )/(2*L*gamma_minus(i,j,L))\n",
    "        t2 = np.sin(gamma_plus(i,j,L)*(x+L) )/(2*L*gamma_plus(i,j,L)) - np.sin(gamma_plus(i,j,L)*(L) )/(2*L*gamma_plus(i,j,L))\n",
    "\n",
    "        return t1 - t2\n",
    "\n",
    "        \n",
    "def Psi(x,L, N):\n",
    "\n",
    "    MPsi = np.zeros((N,N))\n",
    "    for i in range(0,N):\n",
    "        for j in range(0,N):\n",
    "            MPsi[i,j] = psi(x,i,j,L)\n",
    "            \n",
    "    return MPsi\n",
    "        \n",
    "        \n",
    "def g(x, f_0, alpha):\n",
    "    \n",
    "    MPsi = Psi(x,L, len(alpha))\n",
    "    \n",
    "    return f_0 + alpha.T@ (MPsi@alpha)\n",
    "\n",
    "\n",
    "def f(x, f_0, alpha):\n",
    "    \n",
    "    N = len(alpha)\n",
    "    \n",
    "    #MPsi = Psi(x,L, N)\n",
    "    \n",
    "    quad = 0\n",
    "    \n",
    "    \n",
    "    for i in range(0,N):\n",
    "        for j in range(0,N):\n",
    "            quad = psi(x,i,j,L) * alpha[i] * alpha[j]\n",
    "    \n",
    "    \n",
    "    return f_0 + quad#alpha.T@ (MPsi@alpha)\n",
    "\n",
    "\n",
    "def f(x, f_0, alpha, MPsi):\n",
    "    \n",
    "#     N = len(alpha)\n",
    "    \n",
    "    #MPsi = Psi(x,L, N)\n",
    "    \n",
    "#     quad = 0\n",
    "    \n",
    "    \n",
    "#     for i in range(0,N):\n",
    "#         for j in range(0,N):\n",
    "#             quad = psi(x,i,j,L) * alpha[i] * alpha[j]\n",
    "    \n",
    "    \n",
    "    return f_0 + alpha.T@ (MPsi@alpha)\n",
    "\n",
    "\n",
    "    \n",
    "def Pre_Mat(N, theta):\n",
    "    \n",
    "    u = np.zeros(N)\n",
    "    \n",
    "    for i in range(N):\n",
    "        \n",
    "        u[i] = 1/S(Lambda(i, L), theta)\n",
    "        \n",
    "    return np.diag(u)\n",
    "\n",
    "\n",
    "def ker(x,y):\n",
    "    \n",
    "    return 1.0 +x*y*0\n",
    "\n",
    "\n"
   ]
  },
  {
   "cell_type": "code",
   "execution_count": 4,
   "metadata": {},
   "outputs": [],
   "source": [
    "def log_likelihood(f_0, alpha, Y, X, C, mu, MPsi):\n",
    "    \n",
    "#     f_0 = beta[0]\n",
    "#     alpha = beta[1:]\n",
    "  \n",
    "    l = 0\n",
    "    \n",
    "    for i in range(len(Y)):\n",
    "        \n",
    "\n",
    "        sigma2 = f(C[i], f_0, alpha, MPsi[i])\n",
    "        \n",
    "                \n",
    "        l += -( mu - Y[i]  )**2/sigma2 - np.log(sigma2)\n",
    "    \n",
    "    \n",
    "    return l\n",
    "\n",
    "def logp_f_0(log_f, theta1, theta2):\n",
    "    \n",
    "    f_0 = np.exp(log_f)\n",
    "    \n",
    "    #return - (f_0-theta1)**2/theta2\n",
    "    \n",
    "    \n",
    "    return  (theta1 -1)*log_f - theta2*np.exp(log_f) #+ theta1*np.log(theta2) - np.log(gamma(theta1))\n",
    "\n",
    "def logp_alpha(alpha, theta):\n",
    "    \n",
    "    \n",
    "    l = 0\n",
    "    \n",
    "    for i in range(len(alpha)):\n",
    "        \n",
    "        if S(Lambda(i,L), theta) <= 0.0:\n",
    "            print('Problema en S')\n",
    "        \n",
    "        l += -0.5*(alpha[i]**2/ S(Lambda(i,L), theta )) - 0.5*np.log(S(Lambda(i,L),theta ))\n",
    "    \n",
    "    return l\n",
    "\n",
    "\n",
    "def logp_mu(mu):\n",
    "    \n",
    "    return -0.5*mu**2/1 - 0.5*np.log(1)\n",
    "\n",
    "\n",
    "def log_p(beta, mu, theta1, theta2, theta, Y,X, C, MPsi):\n",
    "    \n",
    "    f_0 = np.exp(beta[0]) \n",
    "    alpha = beta[1:]\n",
    "    \n",
    "    return logp_mu(mu) + logp_alpha(alpha, theta)+ logp_f_0(beta[0], theta1, theta2)+log_likelihood(f_0, alpha, Y, X, C, mu, MPsi)\n",
    "\n",
    "\n"
   ]
  },
  {
   "cell_type": "code",
   "execution_count": 5,
   "metadata": {},
   "outputs": [],
   "source": [
    "#Gaussian process in the param\n",
    "\n",
    "# def log_likelihood_GP(f_0, alpha, Y, K, C):\n",
    "    \n",
    "#     f_0 = beta[0]\n",
    "#     alpha = beta[1:]\n",
    "  \n",
    "\n",
    "    \n",
    "#     D = np.zeros(len(C))\n",
    "    \n",
    "\n",
    "#     for i in range(len(C)):\n",
    "#         #we add a little noise to the diagonal to ensure PD of the matrix\n",
    "# #         f(C[i], f_0, alpha)\n",
    "# #         print(A[i,i], i)\n",
    "#         e_i = np.zeros(len(C))\n",
    "#         e_i[i] = 1.0\n",
    "#         D += (f(C[i], f_0, alpha) + 0.0001)*e_i\n",
    "#         A[i,i] += 0.0001\n",
    "    \n",
    "#     A = K + np.eye(len(C))*D\n",
    "    \n",
    "    \n",
    "    \n",
    "#     x = np.linalg.solve(A, Y)\n",
    "    \n",
    "    \n",
    "#     return -0.5*np.dot(Y,x) - 0.5*np.log(np.linalg.det(A))\n",
    "    \n",
    "\n",
    "\n",
    "# def log_p_GP(beta, theta1, theta2, theta, Y,K, C):\n",
    "    \n",
    "#     f_0 = beta[0] \n",
    "#     alpha = beta[1:]\n",
    "    \n",
    "#     return logp_alpha(alpha, theta)+ logp_f_0(f_0, theta1, theta2)+log_likelihood_GP(f_0, alpha, Y, K, C)\n",
    "\n",
    "\n"
   ]
  },
  {
   "cell_type": "code",
   "execution_count": 6,
   "metadata": {},
   "outputs": [],
   "source": [
    "# def g(c):\n",
    "#     return np.array([c ** 0, c, c ** 2]).squeeze()\n",
    "\n",
    "def g(c, w_0=0.5, w_1=7, w_2 = 10):\n",
    "    return w_0 ** 2 + (w_1 ** 2) * c + w_2 *c**2\n",
    "\n",
    "w_0 = 1.1\n",
    "w_1 = 2\n",
    "w_2 = 0.1\n",
    "w = np.array([w_0, w_1, w_2]).squeeze()\n",
    "\n",
    "num_samples = 20\n",
    "mu = 3\n",
    "\n",
    "\n",
    "X = np.linspace(0,1, num_samples)\n",
    "\n",
    "C = np.concatenate(  (np.random.uniform(0.5, 1.5, size = 10), np.random.uniform(2., 5., size = num_samples - 10) ) )\n",
    "\n",
    "\n",
    "sigma2 = g(C, *w)\n",
    "\n",
    "\n",
    "eps = []\n",
    "\n",
    "for sigma in sigma2:\n",
    "    assert sigma > 0, f'Sigma is {sigma}'\n",
    "    noise = norm(scale=sigma ** 0.5).rvs(1)\n",
    "    eps.append(noise)\n",
    "\n",
    "eps = np.array(eps).squeeze()\n",
    "assert eps.shape == (num_samples,)\n",
    "Y = mu + eps"
   ]
  },
  {
   "cell_type": "code",
   "execution_count": 7,
   "metadata": {},
   "outputs": [
    {
     "name": "stdout",
     "output_type": "stream",
     "text": [
      "2.4354652331493685\n"
     ]
    },
    {
     "data": {
      "text/plain": [
       "<matplotlib.collections.PathCollection at 0x1cf323860b8>"
      ]
     },
     "execution_count": 7,
     "metadata": {},
     "output_type": "execute_result"
    },
    {
     "data": {
      "image/png": "[encoded data removed]",
      "text/plain": [
       "<Figure size 432x288 with 1 Axes>"
      ]
     },
     "metadata": {},
     "output_type": "display_data"
    }
   ],
   "source": [
    "print(np.mean(Y))\n",
    "plt.scatter(C, sigma2)\n"
   ]
  },
  {
   "cell_type": "code",
   "execution_count": 10,
   "metadata": {},
   "outputs": [],
   "source": [
    "\n",
    "theta1 = 0.0\n",
    "theta2 = 3.\n",
    "theta = np.array([3., 1.0])\n",
    "\n",
    "\n",
    "\n",
    "K = np.zeros((num_samples, num_samples))\n",
    "\n",
    "for i in range(num_samples):\n",
    "    for j in range(num_samples):\n",
    "        K[i,j] = ker(X[i], X[j])\n",
    "beta_0 = np.array([0.4, 0.4, 1.0, 0.4, 0.4, 0.4, 0.5, 0.6, 1, 2]) +10\n",
    "\n",
    "N = len(beta_0) - 2\n",
    "\n",
    "\n",
    "MPsi = []\n",
    "\n",
    "for i in range(len(C)):\n",
    "    \n",
    "    MPsi.append(Psi(C[i],L, N))\n"
   ]
  },
  {
   "cell_type": "code",
   "execution_count": 9,
   "metadata": {},
   "outputs": [
    {
     "ename": "NameError",
     "evalue": "name 'MPsi' is not defined",
     "output_type": "error",
     "traceback": [
      "\u001b[1;31m---------------------------------------------------------------------------\u001b[0m",
      "\u001b[1;31mNameError\u001b[0m                                 Traceback (most recent call last)",
      "\u001b[1;32m<ipython-input-9-61c074f81d13>\u001b[0m in \u001b[0;36m<module>\u001b[1;34m()\u001b[0m\n\u001b[0;32m     58\u001b[0m \u001b[1;31m# log_p(beta_0, 0.4, 0.4, 0.5, np.array([0.4, 0.4]), Y, X, C)\u001b[0m\u001b[1;33m\u001b[0m\u001b[1;33m\u001b[0m\u001b[0m\n\u001b[0;32m     59\u001b[0m \u001b[1;33m\u001b[0m\u001b[0m\n\u001b[1;32m---> 60\u001b[1;33m \u001b[0mbeta_0\u001b[0m \u001b[1;33m=\u001b[0m \u001b[0mmaximum_posterior\u001b[0m\u001b[1;33m(\u001b[0m\u001b[0mbeta_0\u001b[0m\u001b[1;33m)\u001b[0m\u001b[1;33m\u001b[0m\u001b[0m\n\u001b[0m\u001b[0;32m     61\u001b[0m \u001b[1;33m\u001b[0m\u001b[0m\n\u001b[0;32m     62\u001b[0m \u001b[1;31m# print(beta_0)\u001b[0m\u001b[1;33m\u001b[0m\u001b[1;33m\u001b[0m\u001b[0m\n",
      "\u001b[1;32m<ipython-input-9-61c074f81d13>\u001b[0m in \u001b[0;36mmaximum_posterior\u001b[1;34m(beta_0)\u001b[0m\n\u001b[0;32m     43\u001b[0m     \u001b[0mHess\u001b[0m \u001b[1;33m=\u001b[0m \u001b[1;32mlambda\u001b[0m \u001b[0mbeta\u001b[0m\u001b[1;33m:\u001b[0m \u001b[0mjacobian\u001b[0m\u001b[1;33m(\u001b[0m\u001b[0mnab_p\u001b[0m\u001b[1;33m)\u001b[0m\u001b[1;33m(\u001b[0m\u001b[0mbeta\u001b[0m\u001b[1;33m)\u001b[0m\u001b[1;33m\u001b[0m\u001b[0m\n\u001b[0;32m     44\u001b[0m \u001b[1;33m\u001b[0m\u001b[0m\n\u001b[1;32m---> 45\u001b[1;33m     \u001b[0mbeta\u001b[0m \u001b[1;33m=\u001b[0m \u001b[0mminimize\u001b[0m\u001b[1;33m(\u001b[0m\u001b[0mto_opti\u001b[0m\u001b[1;33m,\u001b[0m \u001b[0mbeta_0\u001b[0m \u001b[1;33m,\u001b[0m \u001b[0mjac\u001b[0m\u001b[1;33m=\u001b[0m\u001b[0mnab_p\u001b[0m\u001b[1;33m,\u001b[0m \u001b[0mhess\u001b[0m \u001b[1;33m=\u001b[0m \u001b[0mHess\u001b[0m\u001b[1;33m,\u001b[0m\u001b[0mmethod\u001b[0m\u001b[1;33m=\u001b[0m\u001b[1;34m'Newton-CG'\u001b[0m\u001b[1;33m)\u001b[0m\u001b[1;33m.\u001b[0m\u001b[0mx\u001b[0m\u001b[1;33m\u001b[0m\u001b[0m\n\u001b[0m\u001b[0;32m     46\u001b[0m \u001b[1;33m\u001b[0m\u001b[0m\n\u001b[0;32m     47\u001b[0m \u001b[1;33m\u001b[0m\u001b[0m\n",
      "\u001b[1;32mc:\\python37\\lib\\site-packages\\scipy\\optimize\\_minimize.py\u001b[0m in \u001b[0;36mminimize\u001b[1;34m(fun, x0, args, method, jac, hess, hessp, bounds, constraints, tol, callback, options)\u001b[0m\n\u001b[0;32m    605\u001b[0m     \u001b[1;32melif\u001b[0m \u001b[0mmeth\u001b[0m \u001b[1;33m==\u001b[0m \u001b[1;34m'newton-cg'\u001b[0m\u001b[1;33m:\u001b[0m\u001b[1;33m\u001b[0m\u001b[0m\n\u001b[0;32m    606\u001b[0m         return _minimize_newtoncg(fun, x0, args, jac, hess, hessp, callback,\n\u001b[1;32m--> 607\u001b[1;33m                                   **options)\n\u001b[0m\u001b[0;32m    608\u001b[0m     \u001b[1;32melif\u001b[0m \u001b[0mmeth\u001b[0m \u001b[1;33m==\u001b[0m \u001b[1;34m'l-bfgs-b'\u001b[0m\u001b[1;33m:\u001b[0m\u001b[1;33m\u001b[0m\u001b[0m\n\u001b[0;32m    609\u001b[0m         return _minimize_lbfgsb(fun, x0, args, jac, bounds,\n",
      "\u001b[1;32mc:\\python37\\lib\\site-packages\\scipy\\optimize\\optimize.py\u001b[0m in \u001b[0;36m_minimize_newtoncg\u001b[1;34m(fun, x0, args, jac, hess, hessp, callback, xtol, eps, maxiter, disp, return_all, **unknown_options)\u001b[0m\n\u001b[0;32m   1586\u001b[0m     \u001b[0mk\u001b[0m \u001b[1;33m=\u001b[0m \u001b[1;36m0\u001b[0m\u001b[1;33m\u001b[0m\u001b[0m\n\u001b[0;32m   1587\u001b[0m     \u001b[0mgfk\u001b[0m \u001b[1;33m=\u001b[0m \u001b[1;32mNone\u001b[0m\u001b[1;33m\u001b[0m\u001b[0m\n\u001b[1;32m-> 1588\u001b[1;33m     \u001b[0mold_fval\u001b[0m \u001b[1;33m=\u001b[0m \u001b[0mf\u001b[0m\u001b[1;33m(\u001b[0m\u001b[0mx0\u001b[0m\u001b[1;33m)\u001b[0m\u001b[1;33m\u001b[0m\u001b[0m\n\u001b[0m\u001b[0;32m   1589\u001b[0m     \u001b[0mold_old_fval\u001b[0m \u001b[1;33m=\u001b[0m \u001b[1;32mNone\u001b[0m\u001b[1;33m\u001b[0m\u001b[0m\n\u001b[0;32m   1590\u001b[0m     \u001b[0mfloat64eps\u001b[0m \u001b[1;33m=\u001b[0m \u001b[0mnumpy\u001b[0m\u001b[1;33m.\u001b[0m\u001b[0mfinfo\u001b[0m\u001b[1;33m(\u001b[0m\u001b[0mnumpy\u001b[0m\u001b[1;33m.\u001b[0m\u001b[0mfloat64\u001b[0m\u001b[1;33m)\u001b[0m\u001b[1;33m.\u001b[0m\u001b[0meps\u001b[0m\u001b[1;33m\u001b[0m\u001b[0m\n",
      "\u001b[1;32mc:\\python37\\lib\\site-packages\\scipy\\optimize\\optimize.py\u001b[0m in \u001b[0;36mfunction_wrapper\u001b[1;34m(*wrapper_args)\u001b[0m\n\u001b[0;32m    325\u001b[0m     \u001b[1;32mdef\u001b[0m \u001b[0mfunction_wrapper\u001b[0m\u001b[1;33m(\u001b[0m\u001b[1;33m*\u001b[0m\u001b[0mwrapper_args\u001b[0m\u001b[1;33m)\u001b[0m\u001b[1;33m:\u001b[0m\u001b[1;33m\u001b[0m\u001b[0m\n\u001b[0;32m    326\u001b[0m         \u001b[0mncalls\u001b[0m\u001b[1;33m[\u001b[0m\u001b[1;36m0\u001b[0m\u001b[1;33m]\u001b[0m \u001b[1;33m+=\u001b[0m \u001b[1;36m1\u001b[0m\u001b[1;33m\u001b[0m\u001b[0m\n\u001b[1;32m--> 327\u001b[1;33m         \u001b[1;32mreturn\u001b[0m \u001b[0mfunction\u001b[0m\u001b[1;33m(\u001b[0m\u001b[1;33m*\u001b[0m\u001b[1;33m(\u001b[0m\u001b[0mwrapper_args\u001b[0m \u001b[1;33m+\u001b[0m \u001b[0margs\u001b[0m\u001b[1;33m)\u001b[0m\u001b[1;33m)\u001b[0m\u001b[1;33m\u001b[0m\u001b[0m\n\u001b[0m\u001b[0;32m    328\u001b[0m \u001b[1;33m\u001b[0m\u001b[0m\n\u001b[0;32m    329\u001b[0m     \u001b[1;32mreturn\u001b[0m \u001b[0mncalls\u001b[0m\u001b[1;33m,\u001b[0m \u001b[0mfunction_wrapper\u001b[0m\u001b[1;33m\u001b[0m\u001b[0m\n",
      "\u001b[1;32m<ipython-input-9-61c074f81d13>\u001b[0m in \u001b[0;36m<lambda>\u001b[1;34m(beta)\u001b[0m\n\u001b[0;32m     36\u001b[0m \u001b[1;32mdef\u001b[0m \u001b[0mmaximum_posterior\u001b[0m\u001b[1;33m(\u001b[0m\u001b[0mbeta_0\u001b[0m\u001b[1;33m)\u001b[0m\u001b[1;33m:\u001b[0m\u001b[1;33m\u001b[0m\u001b[0m\n\u001b[0;32m     37\u001b[0m \u001b[1;33m\u001b[0m\u001b[0m\n\u001b[1;32m---> 38\u001b[1;33m     \u001b[0mto_opti\u001b[0m \u001b[1;33m=\u001b[0m \u001b[1;32mlambda\u001b[0m \u001b[0mbeta\u001b[0m\u001b[1;33m:\u001b[0m \u001b[1;33m-\u001b[0m\u001b[0mlog_p\u001b[0m\u001b[1;33m(\u001b[0m\u001b[0mbeta\u001b[0m\u001b[1;33m[\u001b[0m\u001b[1;36m1\u001b[0m\u001b[1;33m:\u001b[0m\u001b[1;33m]\u001b[0m\u001b[1;33m,\u001b[0m \u001b[0mbeta\u001b[0m\u001b[1;33m[\u001b[0m\u001b[1;36m0\u001b[0m\u001b[1;33m]\u001b[0m\u001b[1;33m,\u001b[0m \u001b[0mtheta1\u001b[0m\u001b[1;33m,\u001b[0m \u001b[0mtheta2\u001b[0m\u001b[1;33m,\u001b[0m \u001b[0mtheta\u001b[0m\u001b[1;33m,\u001b[0m \u001b[0mY\u001b[0m\u001b[1;33m,\u001b[0m \u001b[0mX\u001b[0m\u001b[1;33m,\u001b[0m \u001b[0mC\u001b[0m\u001b[1;33m,\u001b[0m \u001b[0mMPsi\u001b[0m\u001b[1;33m)\u001b[0m\u001b[1;33m\u001b[0m\u001b[0m\n\u001b[0m\u001b[0;32m     39\u001b[0m \u001b[1;33m\u001b[0m\u001b[0m\n\u001b[0;32m     40\u001b[0m \u001b[1;33m\u001b[0m\u001b[0m\n",
      "\u001b[1;31mNameError\u001b[0m: name 'MPsi' is not defined"
     ]
    }
   ],
   "source": [
    "#Hyper Parameters\n",
    "import time\n",
    "\n",
    "t0 = time.time()\n",
    "\n",
    "#Hyper mean\n",
    "\n",
    "\n",
    "\n",
    "# Kernel of the GP\n",
    "\n",
    "\n",
    "\n",
    "def log_Evidence(theta, beta_0):\n",
    "    \n",
    "    to_opti = lambda beta: -log_p(beta[1:], beta[0], theta1, theta2, theta, Y, X, C, MPsi)\n",
    "\n",
    "\n",
    "    nab_p = lambda beta: grad(to_opti)(beta)\n",
    "    \n",
    "    \n",
    "    \n",
    "    Hess = lambda beta: jacobian(nab_p)(beta)\n",
    "\n",
    "    beta = minimize(to_opti, beta_0 , jac=nab_p, hess = Hess, method='Newton-CG').x\n",
    "    \n",
    "   \n",
    "    A = Hess(beta_0)\n",
    "\n",
    "    det = np.linalg.det(Hess*2*np.pi)\n",
    "    \n",
    "    return -to_opti(beta) + 0.5*np.log(det)\n",
    "\n",
    "\n",
    "\n",
    "def maximum_posterior(beta_0):\n",
    "    \n",
    "    to_opti = lambda beta: -log_p(beta[1:], beta[0], theta1, theta2, theta, Y, X, C, MPsi)\n",
    "\n",
    "\n",
    "    nab_p = lambda beta: grad(to_opti)(beta)\n",
    "    \n",
    "    Hess = lambda beta: jacobian(nab_p)(beta)\n",
    "\n",
    "    beta = minimize(to_opti, beta_0 , jac=nab_p, hess = Hess,method='Newton-CG').x\n",
    "    \n",
    "    \n",
    "#     det = np.linalg.det(Hess*2*np.pi)\n",
    "    \n",
    "    return beta\n",
    "\n",
    "\n",
    "\n",
    "\n",
    "\n",
    "\n",
    "\n",
    "# log_p(beta_0, 0.4, 0.4, 0.5, np.array([0.4, 0.4]), Y, X, C)\n",
    "\n",
    "beta_0 = maximum_posterior(beta_0)\n",
    "\n",
    "# print(beta_0)\n",
    "\n",
    "# to_opti = lambda beta: -log_p(beta[1:], beta[0], theta1, theta2, theta, Y, X, C, MPsi)\n",
    "\n",
    "\n",
    "# nab_p = lambda beta: grad(to_opti)(beta)\n",
    "\n",
    "\n",
    "# Hess = lambda beta: jacobian(nab_p)(beta)\n",
    "\n",
    "# minimize(to_opti, beta_0, jac=nab_p, hess = Hess, method='Newton-CG')\n",
    "\n",
    "\n",
    "\n",
    "minimize(to_opti, xbeta_0 , jac=nab_p, hess = Hess,method='Newton-CG')\n",
    "    \n",
    "\n",
    "\n",
    "# print(np.shape(MPsi[0]))\n",
    "# print(to_opti(beta_0))\n",
    "\n",
    "# nab_f = lambda x: grad(f)(0.4, x[0], x[1:])\n",
    "\n",
    "# theta = np.array([1.4, 2.0])\n",
    "\n",
    "# # grad_evidence = grad(log_Evidence)(theta, beta_0)\n",
    "\n",
    "# t0 = time.time()\n",
    "\n",
    "# print(log_Evidence(theta, beta_0))\n",
    "\n",
    "\n",
    "\n",
    "# print(time.time() - t0)\n",
    "\n",
    "# print(beta)\n"
   ]
  },
  {
   "cell_type": "code",
   "execution_count": 64,
   "metadata": {},
   "outputs": [
    {
     "name": "stdout",
     "output_type": "stream",
     "text": [
      "[ 2.96105349e+00 -3.54280716e+04  2.40666193e+00 -6.05602575e-01\n",
      " -1.83411887e+00  9.72518792e-01  2.54055427e+00 -1.40421048e+00\n",
      " -2.33084384e+00  1.34335210e+00]\n",
      "[ 2.59211080e+00 -3.54288879e+04  2.17301229e+00 -1.29143602e+00\n",
      " -2.49492087e+00  1.46607518e+00  2.12631352e+00 -1.98697528e+00\n",
      " -2.14247488e+00  4.15312725e-01]\n"
     ]
    }
   ],
   "source": [
    "to_sample = lambda beta: log_p(beta[1:], beta[0], theta1, theta2, theta, Y, X, C, MPsi)\n",
    "\n",
    "\n",
    "grad_p = lambda beta: grad(to_sample)(beta)\n",
    "\n",
    "def logprob(beta):\n",
    "    \n",
    "    return to_sample(beta), grad_p(beta) \n",
    "\n",
    "\n",
    "samples = hmc(logprob, x0=beta, n_samples=1000, epsilon = 0.1)\n",
    "\n",
    "print(samples[1])\n",
    "\n",
    "print(samples[50])"
   ]
  },
  {
   "cell_type": "code",
   "execution_count": 65,
   "metadata": {},
   "outputs": [
    {
     "data": {
      "text/plain": [
       "(20,)"
      ]
     },
     "execution_count": 65,
     "metadata": {},
     "output_type": "execute_result"
    }
   ],
   "source": [
    "aproximation_sampler = np.zeros( (len(C),1000) )\n",
    "\n",
    "\n",
    "for i in range(num_samples):\n",
    "    \n",
    "    for j in range(1000):\n",
    "    \n",
    "        aproximation_sampler[i,j] = f(C[i], np.exp(samples[j][1]), samples[j][2:], MPsi[i])\n",
    "        \n",
    "aproximate_mean = np.mean(aproximation_sampler, axis = 1)\n",
    "\n",
    "np.shape(aproximate_mean)"
   ]
  },
  {
   "cell_type": "code",
   "execution_count": 66,
   "metadata": {},
   "outputs": [
    {
     "data": {
      "text/plain": [
       "[Text(0.5, 0, 'c score'),\n",
       " Text(0, 0.5, '$\\\\sigma^2$'),\n",
       " Text(0.5, 1.0, 'Reconstruction of $g(c)$')]"
      ]
     },
     "execution_count": 66,
     "metadata": {},
     "output_type": "execute_result"
    },
    {
     "data": {
      "image/png": "[encoded data removed]",
      "text/plain": [
       "<Figure size 432x288 with 1 Axes>"
      ]
     },
     "metadata": {
      "needs_background": "light"
     },
     "output_type": "display_data"
    }
   ],
   "source": [
    "fig, ax = plt.subplots()\n",
    "\n",
    "ax.scatter(C, sigma2, c='b', label = 'real variance')\n",
    "ax.scatter(C, aproximate_mean, c = 'g', label = 'reconstructed variance')\n",
    "ax.legend()\n",
    "\n",
    "\n",
    "ax.set(xlabel='c score', ylabel='$\\sigma^2$', title='Reconstruction of $g(c)$')\n",
    "\n",
    "\n"
   ]
  },
  {
   "cell_type": "code",
   "execution_count": 67,
   "metadata": {
    "scrolled": true
   },
   "outputs": [
    {
     "name": "stdout",
     "output_type": "stream",
     "text": [
      "[ 6.17888684  2.72092531  7.51120854  5.02720801  3.68640927  4.40192767\n",
      "  6.91393665  5.66054092  7.24388642  3.31828984 13.78053285 15.2148628\n",
      " 17.30848289 19.58901788 11.74951435 16.80698161 19.28998852 12.97064107\n",
      " 17.86016745 15.15260745]\n"
     ]
    }
   ],
   "source": [
    "aproximation = np.zeros(len(C))\n",
    "\n",
    "Pres = jacobian(nab_p)(beta_0)\n",
    "\n",
    "\n",
    "Sigma = np.linalg.inv(Pres[2:, 2:])\n",
    "\n",
    "\n",
    "\n",
    "\n",
    "for i in range(num_samples):\n",
    "    \n",
    "    aproximation[i] = f(C[i], np.exp(beta[1]), beta[2:], MPsi[i]) + np.sum(Sigma*MPsi[i])\n",
    "    \n",
    "print(aproximation)"
   ]
  },
  {
   "cell_type": "code",
   "execution_count": 68,
   "metadata": {},
   "outputs": [
    {
     "data": {
      "text/plain": [
       "[Text(0.5, 0, 'c score'),\n",
       " Text(0, 0.5, '$\\\\sigma^2$'),\n",
       " Text(0.5, 1.0, 'Reconstruction of $g(c)$')]"
      ]
     },
     "execution_count": 68,
     "metadata": {},
     "output_type": "execute_result"
    },
    {
     "data": {
      "image/png": "[encoded data removed]",
      "text/plain": [
       "<Figure size 432x288 with 1 Axes>"
      ]
     },
     "metadata": {
      "needs_background": "light"
     },
     "output_type": "display_data"
    }
   ],
   "source": [
    "fig, ax = plt.subplots()\n",
    "\n",
    "ax.scatter(C, sigma2, c='b', label = 'real variance')\n",
    "ax.scatter(C, aproximation, c = 'g', label = 'reconstructed variance')\n",
    "ax.legend()\n",
    "\n",
    "\n",
    "ax.set(xlabel='c score', ylabel='$\\sigma^2$', title='Reconstruction of $g(c)$')\n",
    "\n"
   ]
  },
  {
   "cell_type": "code",
   "execution_count": 396,
   "metadata": {},
   "outputs": [
    {
     "name": "stdout",
     "output_type": "stream",
     "text": [
      "[ 2.90943223e+00 -8.57921984e+07 -3.06143528e+00 -4.52207025e+00\n",
      " -1.03031532e+01  2.83077645e+00  2.67340218e+00 -1.51842223e+01\n",
      "  3.45105871e+00  1.12805370e+01]\n"
     ]
    }
   ],
   "source": [
    "print(beta)"
   ]
  },
  {
   "cell_type": "code",
   "execution_count": 481,
   "metadata": {},
   "outputs": [
    {
     "name": "stdout",
     "output_type": "stream",
     "text": [
      "-0.11779093747585619\n",
      "-0.21851796214111566\n",
      "-0.13195548093876797\n"
     ]
    }
   ],
   "source": [
    "print((np.mean(Y) - 3)/3)\n",
    "print((beta[0] -3)/3)\n",
    "print((np.mean(Y[:10]) -3 )/3)"
   ]
  },
  {
   "cell_type": "code",
   "execution_count": 365,
   "metadata": {},
   "outputs": [
    {
     "data": {
      "text/plain": [
       "2.998609029097172"
      ]
     },
     "execution_count": 365,
     "metadata": {},
     "output_type": "execute_result"
    }
   ],
   "source": [
    "def second_aprox(Y, sigma2):\n",
    "    \n",
    "    pres = 1/sigma2\n",
    "    \n",
    "    tot = np.sum(pres)\n",
    "    \n",
    "    return 1/tot * np.dot(Y,pres)\n",
    "\n",
    "second_aprox(Y, aproximation)"
   ]
  },
  {
   "cell_type": "code",
   "execution_count": 14,
   "metadata": {},
   "outputs": [
    {
     "ename": "TypeError",
     "evalue": "log_p_GP() takes 7 positional arguments but 8 were given",
     "output_type": "error",
     "traceback": [
      "\u001b[0;31m---------------------------------------------------------------------------\u001b[0m",
      "\u001b[0;31mTypeError\u001b[0m                                 Traceback (most recent call last)",
      "\u001b[0;32m<ipython-input-14-f6b6ae46f4b3>\u001b[0m in \u001b[0;36m<module>\u001b[0;34m()\u001b[0m\n\u001b[1;32m     18\u001b[0m \u001b[0mbeta_0\u001b[0m \u001b[0;34m=\u001b[0m \u001b[0mnp\u001b[0m\u001b[0;34m.\u001b[0m\u001b[0marray\u001b[0m\u001b[0;34m(\u001b[0m\u001b[0;34m[\u001b[0m\u001b[0;36m0.4\u001b[0m\u001b[0;34m,\u001b[0m \u001b[0;36m0.4\u001b[0m\u001b[0;34m,\u001b[0m \u001b[0;36m1.0\u001b[0m\u001b[0;34m,\u001b[0m \u001b[0;36m0.4\u001b[0m\u001b[0;34m,\u001b[0m \u001b[0;36m0.4\u001b[0m\u001b[0;34m,\u001b[0m \u001b[0;36m0.4\u001b[0m\u001b[0;34m,\u001b[0m \u001b[0;36m0.5\u001b[0m\u001b[0;34m,\u001b[0m \u001b[0;36m0.6\u001b[0m\u001b[0;34m,\u001b[0m \u001b[0;36m1\u001b[0m\u001b[0;34m,\u001b[0m \u001b[0;36m2\u001b[0m\u001b[0;34m]\u001b[0m\u001b[0;34m)\u001b[0m \u001b[0;34m+\u001b[0m\u001b[0;36m10\u001b[0m\u001b[0;34m\u001b[0m\u001b[0;34m\u001b[0m\u001b[0m\n\u001b[1;32m     19\u001b[0m \u001b[0;34m\u001b[0m\u001b[0m\n\u001b[0;32m---> 20\u001b[0;31m \u001b[0mlog_p_GP\u001b[0m\u001b[0;34m(\u001b[0m\u001b[0mbeta_0\u001b[0m\u001b[0;34m,\u001b[0m \u001b[0;36m0.4\u001b[0m\u001b[0;34m,\u001b[0m \u001b[0;36m0.4\u001b[0m\u001b[0;34m,\u001b[0m \u001b[0;36m0.5\u001b[0m\u001b[0;34m,\u001b[0m \u001b[0mnp\u001b[0m\u001b[0;34m.\u001b[0m\u001b[0marray\u001b[0m\u001b[0;34m(\u001b[0m\u001b[0;34m[\u001b[0m\u001b[0;36m0.4\u001b[0m\u001b[0;34m,\u001b[0m \u001b[0;36m0.4\u001b[0m\u001b[0;34m]\u001b[0m\u001b[0;34m)\u001b[0m\u001b[0;34m,\u001b[0m \u001b[0mY\u001b[0m\u001b[0;34m,\u001b[0m \u001b[0mX\u001b[0m\u001b[0;34m,\u001b[0m \u001b[0mC\u001b[0m\u001b[0;34m)\u001b[0m\u001b[0;34m\u001b[0m\u001b[0;34m\u001b[0m\u001b[0m\n\u001b[0m\u001b[1;32m     21\u001b[0m \u001b[0;34m\u001b[0m\u001b[0m\n\u001b[1;32m     22\u001b[0m \u001b[0mto_opti_GP\u001b[0m \u001b[0;34m=\u001b[0m \u001b[0;32mlambda\u001b[0m \u001b[0mbeta\u001b[0m\u001b[0;34m:\u001b[0m \u001b[0;34m-\u001b[0m\u001b[0mlog_p_GP\u001b[0m\u001b[0;34m(\u001b[0m\u001b[0mbeta\u001b[0m\u001b[0;34m[\u001b[0m\u001b[0;36m1\u001b[0m\u001b[0;34m:\u001b[0m\u001b[0;34m]\u001b[0m\u001b[0;34m,\u001b[0m \u001b[0mbeta\u001b[0m\u001b[0;34m[\u001b[0m\u001b[0;36m0\u001b[0m\u001b[0;34m]\u001b[0m\u001b[0;34m,\u001b[0m \u001b[0mtheta1\u001b[0m\u001b[0;34m,\u001b[0m \u001b[0mtheta2\u001b[0m\u001b[0;34m,\u001b[0m \u001b[0mtheta\u001b[0m\u001b[0;34m,\u001b[0m \u001b[0mY\u001b[0m\u001b[0;34m,\u001b[0m \u001b[0mK\u001b[0m\u001b[0;34m,\u001b[0m \u001b[0mC\u001b[0m\u001b[0;34m)\u001b[0m\u001b[0;34m\u001b[0m\u001b[0;34m\u001b[0m\u001b[0m\n",
      "\u001b[0;31mTypeError\u001b[0m: log_p_GP() takes 7 positional arguments but 8 were given"
     ]
    }
   ],
   "source": [
    "#Hyper Parameters\n",
    "\n",
    "# theta1 = 0.0\n",
    "# theta2 = 3.\n",
    "# theta = np.array([20., 1.0])\n",
    "\n",
    "\n",
    "\n",
    "# # Kernel of the GP\n",
    "\n",
    "# K = np.zeros((num_samples, num_samples))\n",
    "\n",
    "# for i in range(num_samples):\n",
    "#     for j in range(num_samples):\n",
    "#         K[i,j] = ker(X[i], X[j])\n",
    "\n",
    "\n",
    "# beta_0 = np.array([0.4, 0.4, 1.0, 0.4, 0.4, 0.4, 0.5, 0.6, 1, 2]) +10\n",
    "\n",
    "# log_p_GP(beta_0, 0.4, 0.4, 0.5, np.array([0.4, 0.4]), Y, X, C)\n",
    "\n",
    "# to_opti_GP = lambda beta: -log_p_GP(beta[1:], beta[0], theta1, theta2, theta, Y, K, C)\n",
    "\n",
    "\n",
    "# nab_p_GP = lambda beta: grad(to_opti_GP)(beta)\n",
    "# Hessian_p_GP = lambda beta: jacobian(nab_p_GP)(beta)\n",
    "\n",
    "# na_p_GP(beta_0)"
   ]
  },
  {
   "cell_type": "code",
   "execution_count": 455,
   "metadata": {},
   "outputs": [],
   "source": [
    "\n",
    "def g(c, w_0=0.5, w_1=7, w_2 = 10):\n",
    "    return w_0 ** 2 + (w_1 ** 2) * c + w_2 *c**2\n",
    "\n",
    "num_samples = 20\n",
    "mu = 3\n",
    "\n",
    "w_0 = 1.1\n",
    "w_1 = 2\n",
    "w_2 = 0.1\n",
    "w = np.array([w_0, w_1, w_2]).squeeze()\n",
    "\n",
    "X = np.linspace(0,1, num_samples)\n",
    "\n",
    "exp_mean = np.zeros((5,15))\n",
    "alg_mean = np.zeros((5,15))\n",
    "good_mean = np.zeros((5,15))\n",
    "second_alg = np.zeros((5,15))\n",
    "\n",
    "\n",
    "\n",
    "K = np.zeros((num_samples, num_samples))\n",
    "\n",
    "for i in range(num_samples):\n",
    "    for j in range(num_samples):\n",
    "        K[i,j] = ker(X[i], X[j])\n",
    "\n",
    "\n",
    "beta_0 = np.array([0.4, 0.4, 1.0, 0.4, 0.4, 0.4, 0.5, 0.6, 1, 2]) +10\n",
    "\n",
    "alpha_alg = np.zeros((5, 15, len(beta_0) - 1))\n",
    "\n",
    "\n",
    "\n",
    "\n",
    "for i in range(5):\n",
    "    \n",
    "    for j in range(15):\n",
    "    \n",
    "        good_points = 4*(i+1)\n",
    "\n",
    "\n",
    "\n",
    "        C = np.concatenate(  (np.random.uniform(0.5, 1.5, size = good_points), np.random.uniform(2., 6., size = num_samples - good_points) ) )\n",
    "\n",
    "        sigma2 = g(C, *w)\n",
    "\n",
    "        eps = []\n",
    "\n",
    "        for sigma in sigma2:\n",
    "            assert sigma > 0, f'Sigma is {sigma}'\n",
    "            noise = norm(scale=sigma ** 0.5).rvs(1)\n",
    "            eps.append(noise)\n",
    "\n",
    "        eps = np.array(eps).squeeze()\n",
    "        assert eps.shape == (num_samples,)\n",
    "        Y = mu + eps\n",
    "        \n",
    "        exp_mean[i, j] = np.mean(Y) \n",
    "        good_mean[i,j] = np.mean(Y[0:good_points])\n",
    "        \n",
    "        \n",
    "        MPsi = []\n",
    "\n",
    "        for k in range(len(C)):\n",
    "    \n",
    "            MPsi.append(Psi(C[k],L, N))\n",
    "        \n",
    "        to_opti = lambda beta: -log_p(beta[1:], beta[0], theta1, theta2, theta, Y, X, C, MPsi)\n",
    "\n",
    "\n",
    "        nab_p = lambda beta: grad(to_opti)(beta)\n",
    "        \n",
    "        beta = minimize(to_opti, beta_0 , jac=nab_p, method='Newton-CG').x\n",
    "        \n",
    "        aproximation = np.zeros(len(C))\n",
    "\n",
    "\n",
    "        for l in range(num_samples):\n",
    "    \n",
    "            aproximation[l] = f(C[l], np.exp(beta[1]), beta[2:], MPsi[l])\n",
    "    \n",
    "        \n",
    "        \n",
    "        alg_mean[i,j] = beta[0]\n",
    "        \n",
    "        alpha_alg[i,j,:] = beta[1:]\n",
    "        \n",
    "        second_alg[i,j] = second_aprox(Y, aproximation)\n"
   ]
  },
  {
   "cell_type": "code",
   "execution_count": 500,
   "metadata": {},
   "outputs": [
    {
     "data": {
      "text/plain": [
       "[Text(0.5, 0, 'Percentage of good points'),\n",
       " Text(0, 0.5, '$E[| \\\\mu - \\\\hat{\\\\mu}| ]/\\\\mu$'),\n",
       " Text(0.5, 1.0, 'Error in estimated $\\\\mu$')]"
      ]
     },
     "execution_count": 500,
     "metadata": {},
     "output_type": "execute_result"
    },
    {
     "data": {
      "image/png": "[encoded data removed]",
      "text/plain": [
       "<Figure size 432x288 with 1 Axes>"
      ]
     },
     "metadata": {
      "needs_background": "light"
     },
     "output_type": "display_data"
    }
   ],
   "source": [
    "error_alg_20 = np.mean(np.absolute(alg_mean - mu)/mu, axis = 1)\n",
    "error_exp_20 = np.mean(np.absolute(exp_mean - mu)/mu, axis = 1)\n",
    "error_good_20 = np.mean(np.absolute(good_mean - mu)/mu, axis = 1)\n",
    "error_second_20 = np.mean(np.absolute(second_alg - mu)/mu, axis = 1)\n",
    "\n",
    "\n",
    "percentage = np.array([4, 8, 12, 16,20])/20 \n",
    "\n",
    "fig, ax = plt.subplots()\n",
    "ax.plot(percentage, error_alg_20, c = 'b', label = 'MPE')\n",
    "ax.plot(percentage, error_exp_20, c = 'k', label = 'Experimental mean')\n",
    "ax.plot(percentage, error_good_20, c = 'r', label = 'Experimental mean of good samples')\n",
    "ax.plot(percentage, error_second_20, c = 'g', label = 'With approx. of the variance')\n",
    "\n",
    "ax.legend()\n",
    "ax.set(xlabel='Percentage of good points', ylabel='$E[| \\mu - \\hat{\\mu}| ]/\\mu$',\n",
    "       title='Error in estimated $\\mu$')\n"
   ]
  },
  {
   "cell_type": "code",
   "execution_count": 446,
   "metadata": {},
   "outputs": [
    {
     "data": {
      "text/plain": [
       "[<matplotlib.lines.Line2D at 0x7fa52fac35f8>]"
      ]
     },
     "execution_count": 446,
     "metadata": {},
     "output_type": "execute_result"
    },
    {
     "data": {
      "image/png": "[encoded data removed]",
      "text/plain": [
       "<Figure size 432x288 with 1 Axes>"
      ]
     },
     "metadata": {
      "needs_background": "light"
     },
     "output_type": "display_data"
    }
   ],
   "source": [
    "# plt.plot(error_alg_40, c = 'b')\n",
    "# plt.plot(error_exp_40, c = 'k')\n",
    "# plt.plot(error_good_40, c = 'r')"
   ]
  },
  {
   "cell_type": "code",
   "execution_count": null,
   "metadata": {},
   "outputs": [],
   "source": []
  }
 ],
 "metadata": {
  "kernelspec": {
   "display_name": "Python 3",
   "language": "python",
   "name": "python3"
  },
  "language_info": {
   "codemirror_mode": {
    "name": "ipython",
    "version": 3
   },
   "file_extension": ".py",
   "mimetype": "text/x-python",
   "name": "python",
   "nbconvert_exporter": "python",
   "pygments_lexer": "ipython3",
   "version": "3.7.0"
  }
 },
 "nbformat": 4,
 "nbformat_minor": 2
}
