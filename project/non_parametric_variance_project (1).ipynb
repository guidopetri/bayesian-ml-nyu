{
 "cells": [
  {
   "cell_type": "code",
   "execution_count": 1,
   "metadata": {},
   "outputs": [],
   "source": [
    "from pyhmc import hmc\n",
    "import autograd.numpy as np  # Thinly-wrapped numpy\n",
    "import autograd.scipy as scipy\n",
    "from autograd import grad    # The only autograd function you may ever need\n",
    "from autograd import jacobian  \n",
    "from autograd import elementwise_grad as egrad \n",
    "from scipy.special import gamma\n",
    "from scipy.stats import norm, multivariate_normal\n",
    "import matplotlib.pyplot as plt\n",
    "from scipy.optimize import minimize\n"
   ]
  },
  {
   "cell_type": "code",
   "execution_count": 2,
   "metadata": {},
   "outputs": [
    {
     "data": {
      "text/plain": [
       "array([1., 2.])"
      ]
     },
     "execution_count": 2,
     "metadata": {},
     "output_type": "execute_result"
    }
   ],
   "source": [
    "def tanh(x,z):\n",
    "    \n",
    "    y = np.exp(-2.0*x*z)\n",
    "    return (1.0 - y) / (1.0 + y)\n",
    "\n",
    "\n",
    "def plano(x, param):\n",
    "    \n",
    "    \n",
    "    return x[0]+2*x[1]+param\n",
    "\n",
    "x = np.linspace(-7, 7, 200)\n",
    "\n",
    "grad(plano)(np.array([0.4, 0.3]), 0.5)\n"
   ]
  },
  {
   "cell_type": "code",
   "execution_count": 43,
   "metadata": {},
   "outputs": [],
   "source": [
    "L = 24.0\n",
    "\n",
    "def S(tau, theta):\n",
    "    \n",
    "    return theta[0]**2*np.exp(tau**2/theta[1]**2)\n",
    "\n",
    "def Lambda(n,L):\n",
    "    return (n+1)*np.pi/(2*L)\n",
    "\n",
    "def gamma_plus(i,j,L):\n",
    "    \n",
    "    return Lambda(i,L) + Lambda(j,L)\n",
    "\n",
    "def gamma_minus(i,j,L):\n",
    "    \n",
    "    return Lambda(i,L) - Lambda(j,L)\n",
    "\n",
    "\n",
    "        \n",
    "def psi(x,i,j,L):\n",
    "    \n",
    "    if i==j:\n",
    "        \n",
    "        t1 = 1/(2*L)*x\n",
    "        t2 = np.sin(gamma_plus(j,j,L)*(x+L) )/(2*L*gamma_plus(j,j,L)) - np.sin(gamma_plus(j,j,L)*(L) )/(2*L*gamma_plus(j,j,L))\n",
    "        \n",
    "        return t1 - t2\n",
    "    \n",
    "    else:\n",
    "        \n",
    "        t1 = np.sin(gamma_minus(i,j,L)*(x+L) )/(2*L*gamma_minus(i,j,L)) - np.sin(gamma_minus(i,j,L)*(L) )/(2*L*gamma_minus(i,j,L))\n",
    "        t2 = np.sin(gamma_plus(i,j,L)*(x+L) )/(2*L*gamma_plus(i,j,L)) - np.sin(gamma_plus(i,j,L)*(L) )/(2*L*gamma_plus(i,j,L))\n",
    "\n",
    "        return t1 - t2\n",
    "\n",
    "        \n",
    "def Psi(x,L, N):\n",
    "\n",
    "    MPsi = np.zeros((N,N))\n",
    "    for i in range(0,N):\n",
    "        for j in range(0,N):\n",
    "            MPsi[i,j] = psi(x,i,j,L)\n",
    "            \n",
    "    return MPsi\n",
    "        \n",
    "        \n",
    "def g(x, f_0, alpha):\n",
    "    \n",
    "    MPsi = Psi(x,L, len(alpha))\n",
    "    \n",
    "    return f_0 + alpha.T@ (MPsi@alpha)\n",
    "\n",
    "\n",
    "def f(x, f_0, alpha):\n",
    "    \n",
    "    N = len(alpha)\n",
    "    \n",
    "    #MPsi = Psi(x,L, N)\n",
    "    \n",
    "    quad = 0\n",
    "    \n",
    "    \n",
    "    for i in range(0,N):\n",
    "        for j in range(0,N):\n",
    "            quad = psi(x,i,j,L) * alpha[i] * alpha[j]\n",
    "    \n",
    "    \n",
    "    return f_0 + quad#alpha.T@ (MPsi@alpha)\n",
    "\n",
    "\n",
    "def f(x, f_0, alpha, MPsi):\n",
    "\n",
    "    \n",
    "    return f_0 + alpha.T@ (MPsi@alpha)\n",
    "\n",
    "\n",
    "    \n",
    "def Pre_Mat(N, theta):\n",
    "    \n",
    "    u = np.zeros(N)\n",
    "    \n",
    "    for i in range(N):\n",
    "        \n",
    "        u[i] = 1/S(Lambda(i, L), theta)\n",
    "        \n",
    "    return np.diag(u)\n",
    "\n",
    "\n",
    "def ker(x,y):\n",
    "    \n",
    "    return 1.0 +x*y*0\n",
    "\n",
    "\n"
   ]
  },
  {
   "cell_type": "code",
   "execution_count": 4,
   "metadata": {},
   "outputs": [],
   "source": [
    "def log_likelihood(f_0, alpha, Y, X, C, mu, MPsi):\n",
    "    \n",
    "#     f_0 = beta[0]\n",
    "#     alpha = beta[1:]\n",
    "  \n",
    "    l = 0\n",
    "    \n",
    "    for i in range(len(Y)):\n",
    "        \n",
    "\n",
    "        sigma2 = f(C[i], f_0, alpha, MPsi[i])\n",
    "        \n",
    "                \n",
    "        l += -( mu - Y[i]  )**2/sigma2 - np.log(sigma2)\n",
    "    \n",
    "    \n",
    "    return l\n",
    "\n",
    "def logp_f_0(log_f, theta1, theta2):\n",
    "    \n",
    "    f_0 = np.exp(log_f)\n",
    "    \n",
    "    #return - (f_0-theta1)**2/theta2\n",
    "    \n",
    "    \n",
    "    return  (theta1 -1)*log_f - theta2*f_0 + theta1*np.log(theta2) - np.log(gamma(theta1))\n",
    "\n",
    "def logp_alpha(alpha, theta):\n",
    "    \n",
    "    \n",
    "    l = 0\n",
    "    \n",
    "    for i in range(len(alpha)):\n",
    "        \n",
    "        if S(Lambda(i,L), theta) <= 0.0:\n",
    "            print('Problema en S')\n",
    "        \n",
    "        l += -0.5*(alpha[i]**2/ S(Lambda(i,L), theta )) - 0.5*np.log(S(Lambda(i,L),theta ))\n",
    "    \n",
    "    return l\n",
    "\n",
    "\n",
    "def logp_mu(mu):\n",
    "    \n",
    "    return -0.5*mu**2/1 - 0.5*np.log(1)\n",
    "\n",
    "\n",
    "def log_p(beta, mu, theta1, theta2, theta, Y,X, C, MPsi):\n",
    "    \n",
    "    if beta[0] > 1000:\n",
    "        print(\"aqui hay problema que g_0 es muy grande\")\n",
    "    \n",
    "    f_0 = np.exp(beta[0]) \n",
    "    alpha = beta[1:]\n",
    "    \n",
    "    return logp_mu(mu) + logp_alpha(alpha, theta)+ logp_f_0(beta[0], theta1, theta2)+log_likelihood(f_0, alpha, Y, X, C, mu, MPsi)\n",
    "\n",
    "\n"
   ]
  },
  {
   "cell_type": "code",
   "execution_count": 5,
   "metadata": {},
   "outputs": [],
   "source": [
    "#Gaussian process in the param\n",
    "\n",
    "def log_likelihood_GP(f_0, alpha, Y, K, C, MPsi):\n",
    "    \n",
    "  \n",
    "    \n",
    "    D = np.zeros(len(C))\n",
    "    \n",
    "\n",
    "    for i in range(len(C)):\n",
    "        #we add a little noise to the diagonal to ensure PD of the matrix\n",
    "#         f(C[i], f_0, alpha)\n",
    "#         print(A[i,i], i)\n",
    "        e_i = np.zeros(len(C))\n",
    "        e_i[i] = 1.0\n",
    "        sigma2 = f(C[i], f_0, alpha, MPsi[i])\n",
    "        D += sigma2*e_i  \n",
    "    \n",
    "    A = K + np.eye(len(C))*D\n",
    "    \n",
    "    x = np.linalg.solve(A, Y)\n",
    "    \n",
    "    return -0.5*np.dot(Y,x) - 0.5*np.log(np.linalg.det(A))\n",
    "    \n",
    "#     \n",
    "    \n",
    "    \n",
    "#     return -0.5*np.dot(Y,x) - 0.5*np.log(np.linalg.det(A))\n",
    "    \n",
    "\n",
    "\n",
    "def log_p_GP(beta, theta1, theta2, theta, Y,K, C, MPsi):\n",
    "    \n",
    "    f_0 = np.exp(beta[0]) \n",
    "    alpha = beta[1:]\n",
    "    \n",
    "    return logp_alpha(alpha, theta)+ logp_f_0(f_0, theta1, theta2)+log_likelihood_GP(f_0, alpha, Y, K, C, MPsi)\n",
    "\n",
    "\n"
   ]
  },
  {
   "cell_type": "code",
   "execution_count": 66,
   "metadata": {},
   "outputs": [
    {
     "name": "stdout",
     "output_type": "stream",
     "text": [
      "21.594199576606165\n"
     ]
    }
   ],
   "source": [
    "# def g(c):\n",
    "#     return np.array([c ** 0, c, c ** 2]).squeeze()\n",
    "\n",
    "def g_tilde(c, w_0=0.5, w_1=7, w_2 = 10):\n",
    "    return w_0 ** 2 + (w_1 ** 2) * c + w_2**2 *c**2\n",
    "\n",
    "\n",
    "\n",
    "mu = 3\n",
    "\n",
    "def g(c, w_0=0.5, w_1=7, w_2 = 10):\n",
    "    return g_tilde(c, w_0, w_1, w_2)/g_tilde(6, w_0, w_1, w_2) * mu**2\n",
    "\n",
    "\n",
    "\n",
    "\n",
    "w_0 = 1.1\n",
    "w_1 = np.sqrt(1.5)\n",
    "w_2 = np.sqrt(np.sqrt(0.1))\n",
    "w = np.array([w_0, w_1, w_2]).squeeze()\n",
    "\n",
    "print(g_tilde(6, w_0, w_1, w_2))\n",
    "\n",
    "w_0_equiv = 1.1/np.sqrt(21.594199576606165) * mu\n",
    "w_1_equiv = np.sqrt(1.5)/np.sqrt(21.594199576606165) * mu\n",
    "w_2_equiv = np.sqrt(np.sqrt(0.1))/np.sqrt(21.594199576606165) * mu\n",
    "w_equiv = np.array([w_0_equiv, w_1_equiv, w_2_equiv]).squeeze()\n",
    "\n",
    "\n",
    "\n",
    "num_samples = 50\n",
    "\n",
    "\n",
    "\n",
    "\n",
    "X = np.linspace(0,1, num_samples)\n",
    "\n",
    "# C = np.concatenate(  (np.linspace(0.0, 0.5, 10), np.linspace(2., 2.5, num_samples - 10) ) )\n",
    "C = np.concatenate(  (np.linspace(1.0, 2., 10), np.linspace(4., 6., num_samples - 10) ) )\n",
    "\n",
    "sigma2 = g(C, *w_equiv)\n",
    "\n",
    "\n",
    "eps = []\n",
    "\n",
    "for sigma in sigma2:\n",
    "    assert sigma > 0, f'Sigma is {sigma}'\n",
    "    noise = norm(scale=sigma ** 0.5).rvs(1)\n",
    "    eps.append(noise)\n",
    "\n",
    "eps = np.array(eps).squeeze()\n",
    "assert eps.shape == (num_samples,)\n",
    "Y = mu + eps\n"
   ]
  },
  {
   "cell_type": "code",
   "execution_count": 36,
   "metadata": {},
   "outputs": [
    {
     "name": "stdout",
     "output_type": "stream",
     "text": [
      "-6.051321674568555\n",
      "-20.028541585287357\n",
      "-11.7013205133904\n"
     ]
    },
    {
     "data": {
      "image/png": "[encoded data removed]",
      "text/plain": [
       "<Figure size 432x288 with 1 Axes>"
      ]
     },
     "metadata": {
      "needs_background": "light"
     },
     "output_type": "display_data"
    }
   ],
   "source": [
    "# w_0_equiv = 1.1/np.sqrt(21.594199576606165) * 3\n",
    "# w_1_equiv = np.sqrt(1.5)/np.sqrt(21.594199576606165) * 3\n",
    "# w_2_equiv = np.sqrt(0.1)/np.sqrt(21.594199576606165) * 3\n",
    "# w_equiv = np.array([w_0_equiv, w_1_equiv, w_2_equiv]).squeeze()\n",
    "\n",
    "# print(np.mean(Y))\n",
    "# print(np.mean(Y[:10]))\n",
    "# print(np.mean(Y[10:]))\n",
    "plt.scatter(C, sigma2)\n",
    "\n",
    "\n",
    "# to find right set of parameters\n",
    "\n",
    "\n",
    "def second_aprox(Y, sigma2):\n",
    "    \n",
    "    pres = 1/sigma2\n",
    "    \n",
    "    tot = np.sum(pres)\n",
    "    \n",
    "    return 1/tot * np.dot(Y,pres)\n",
    "\n",
    "\n",
    "print(np.mean(Y)/3*100 -1 *100)\n",
    "print(np.mean(Y[:10])/3*100 -1 *100)\n",
    "print(second_aprox(Y, sigma2)/3*100 -1 *100)\n"
   ]
  },
  {
   "cell_type": "markdown",
   "metadata": {},
   "source": [
    "## Marvin Code"
   ]
  },
  {
   "cell_type": "code",
   "execution_count": 50,
   "metadata": {},
   "outputs": [],
   "source": [
    "theta1 = 3.0\n",
    "theta2 = 3.\n",
    "theta = np.array([1.0, 4.0])\n",
    "\n",
    "# Theta = np.array([5,1, 1.0,1.0])\n",
    "\n",
    "\n",
    "\n",
    "K = np.zeros((num_samples, num_samples))\n",
    "\n",
    "for i in range(num_samples):\n",
    "    for j in range(num_samples):\n",
    "        K[i,j] = ker(X[i], X[j])\n",
    "        \n",
    "        \n",
    "beta_0 = np.array([0.4, 0.4, 1.0, 0.4, 0.4, 0.4, 0.5, 0.6, 1, 2, 0.3, 0.1])\n",
    "\n",
    "\n",
    "\n",
    "N = len(beta_0) - 2\n",
    "\n",
    "\n",
    "MPsi = []\n",
    "\n",
    "for i in range(len(C)):\n",
    "    \n",
    "    MPsi.append(Psi(C[i],L, N))\n"
   ]
  },
  {
   "cell_type": "code",
   "execution_count": 51,
   "metadata": {},
   "outputs": [
    {
     "data": {
      "text/plain": [
       "50"
      ]
     },
     "execution_count": 51,
     "metadata": {},
     "output_type": "execute_result"
    }
   ],
   "source": [
    "len(C)"
   ]
  },
  {
   "cell_type": "code",
   "execution_count": 68,
   "metadata": {},
   "outputs": [
    {
     "name": "stdout",
     "output_type": "stream",
     "text": [
      "evaluating log_evidence\n"
     ]
    },
    {
     "data": {
      "text/plain": [
       "149.72302466441735"
      ]
     },
     "execution_count": 68,
     "metadata": {},
     "output_type": "execute_result"
    }
   ],
   "source": [
    "log_Evidence(theta, beta_0)"
   ]
  },
  {
   "cell_type": "code",
   "execution_count": 52,
   "metadata": {},
   "outputs": [
    {
     "name": "stdout",
     "output_type": "stream",
     "text": [
      "[ 2.86947898 -0.15824469  1.4366478  -0.49613639 -1.22291563  0.89118283\n",
      "  0.84566348 -1.10972873 -0.39196236  1.12073424 -0.03731257 -0.94412476]\n",
      "evaluating log_evidence\n",
      "evaluating log_evidence\n",
      "evaluating log_evidence\n",
      "evaluating log_evidence\n",
      "evaluating log_evidence\n",
      "evaluating log_evidence\n",
      "evaluating log_evidence\n",
      "evaluating log_evidence\n",
      "evaluating log_evidence\n",
      "evaluating log_evidence\n",
      "evaluating log_evidence\n",
      "evaluating log_evidence\n",
      "evaluating log_evidence\n",
      "evaluating log_evidence\n",
      "evaluating log_evidence\n",
      "evaluating log_evidence\n",
      "evaluating log_evidence\n",
      "evaluating log_evidence\n",
      "evaluating log_evidence\n",
      "evaluating log_evidence\n",
      "evaluating log_evidence\n",
      "evaluating log_evidence\n",
      "evaluating log_evidence\n",
      "evaluating log_evidence\n",
      "evaluating log_evidence\n",
      "evaluating log_evidence\n",
      "evaluating log_evidence\n",
      "evaluating log_evidence\n",
      "evaluating log_evidence\n",
      "evaluating log_evidence\n",
      "evaluating log_evidence\n",
      "evaluating log_evidence\n",
      "evaluating log_evidence\n",
      "evaluating log_evidence\n",
      "evaluating log_evidence\n",
      "evaluating log_evidence\n",
      "evaluating log_evidence\n",
      "evaluating log_evidence\n",
      "evaluating log_evidence\n",
      "evaluating log_evidence\n",
      "evaluating log_evidence\n",
      "evaluating log_evidence\n",
      "evaluating log_evidence\n",
      "evaluating log_evidence\n",
      "evaluating log_evidence\n",
      "evaluating log_evidence\n",
      "evaluating log_evidence\n",
      "evaluating log_evidence\n",
      "evaluating log_evidence\n",
      "evaluating log_evidence\n",
      "evaluating log_evidence\n",
      "evaluating log_evidence\n",
      "evaluating log_evidence\n",
      "evaluating log_evidence\n",
      "evaluating log_evidence\n",
      "evaluating log_evidence\n",
      "evaluating log_evidence\n",
      "evaluating log_evidence\n",
      "evaluating log_evidence\n",
      "evaluating log_evidence\n",
      "evaluating log_evidence\n",
      "evaluating log_evidence\n",
      "evaluating log_evidence\n",
      "evaluating log_evidence\n",
      "evaluating log_evidence\n",
      "evaluating log_evidence\n",
      "evaluating log_evidence\n",
      "evaluating log_evidence\n",
      "evaluating log_evidence\n",
      "evaluating log_evidence\n",
      "evaluating log_evidence\n",
      "evaluating log_evidence\n",
      "evaluating log_evidence\n",
      "evaluating log_evidence\n",
      "evaluating log_evidence\n",
      "evaluating log_evidence\n",
      "evaluating log_evidence\n",
      "evaluating log_evidence\n",
      "evaluating log_evidence\n",
      "evaluating log_evidence\n",
      "evaluating log_evidence\n",
      "evaluating log_evidence\n",
      "evaluating log_evidence\n",
      "evaluating log_evidence\n",
      "evaluating log_evidence\n",
      "evaluating log_evidence\n",
      "evaluating log_evidence\n",
      "evaluating log_evidence\n",
      "evaluating log_evidence\n",
      "evaluating log_evidence\n",
      "evaluating log_evidence\n",
      "evaluating log_evidence\n",
      "evaluating log_evidence\n",
      "evaluating log_evidence\n",
      "evaluating log_evidence\n",
      "evaluating log_evidence\n",
      "evaluating log_evidence\n",
      "evaluating log_evidence\n",
      "189.4663507938385\n",
      "[2.55917580e+00 4.78811091e+05]\n"
     ]
    }
   ],
   "source": [
    "#Hyper Parameters\n",
    "import time\n",
    "\n",
    "t0 = time.time()\n",
    "\n",
    "#Hyper mean\n",
    "\n",
    "\n",
    "\n",
    "# Kernel of the GP\n",
    "\n",
    "\n",
    "\n",
    "def log_Evidence(theta, beta_0):\n",
    "    \n",
    "    print(\"evaluating log_evidence\")\n",
    "    \n",
    "#     theta = Theta[:2]\n",
    "#     theta1 = Theta[2]\n",
    "#     theta2 = Theta[3]\n",
    "    \n",
    "#     theta = np.exp(log_theta)\n",
    "\n",
    "    \n",
    "    to_opti = lambda beta: -log_p(beta[1:], beta[0], theta1, theta2, theta, Y, X, C, MPsi)\n",
    "\n",
    "\n",
    "    nab_p = lambda beta: grad(to_opti)(beta)\n",
    "    \n",
    "    \n",
    "    Hess = lambda beta: jacobian(nab_p)(beta)\n",
    "\n",
    "    beta = minimize(to_opti, beta_0 , jac=nab_p, hess = Hess, method='Newton-CG', options={\"xtol\": 0.01}).x\n",
    "    \n",
    "   \n",
    "    A = Hess(beta_0)\n",
    "\n",
    "    det = np.linalg.det(A*2*np.pi)\n",
    "    \n",
    " \n",
    "    \n",
    "#     print( A )\n",
    "    \n",
    "    return -(-to_opti(beta) - 0.5*np.log(det))\n",
    "\n",
    "\n",
    "\n",
    "def maximum_posterior(beta_0):\n",
    "    \n",
    "    to_opti = lambda beta: -log_p(beta[1:], beta[0], theta1, theta2, theta, Y, X, C, MPsi)\n",
    "\n",
    "\n",
    "    nab_p = lambda beta: grad(to_opti)(beta)\n",
    "    \n",
    "    Hess = lambda beta: jacobian(nab_p)(beta)\n",
    "\n",
    "    beta = minimize(to_opti, beta_0 , jac=nab_p, hess = Hess,method='Newton-CG').x\n",
    "    \n",
    "    \n",
    "#     det = np.linalg.det(Hess*2*np.pi)\n",
    "    \n",
    "    return beta\n",
    "\n",
    "\n",
    "\n",
    "\n",
    "\n",
    "# log_p(beta_0, 0.4, 0.4, 0.5, np.array([0.4, 0.4]), Y, X, C)\n",
    "\n",
    "beta_0 = maximum_posterior(beta_0)\n",
    "print(beta_0)\n",
    "# print(beta_0)\n",
    "\n",
    "\n",
    "\n",
    "\n",
    "\n",
    "\n",
    "# print(beta)\n",
    "t0 = time.time()\n",
    "\n",
    "theta_optimum = minimize(log_Evidence, theta, args=(beta_0,) , method='Powell', options = {'maxfev':40}).x\n",
    "print(time.time() - t0)\n",
    "\n",
    "print(theta_optimum)\n",
    "\n",
    "# theta = np.exp(log_theta)\n",
    "\n",
    "to_opti = lambda beta: -log_p(beta[1:], beta[0], theta1, theta2, theta_optimum, Y, X, C, MPsi)\n",
    "\n",
    "\n",
    "nab_p = lambda beta: grad(to_opti)(beta)\n",
    "\n",
    "beta = minimize(to_opti, beta_0, jac=nab_p, method='Newton-CG').x\n",
    "\n",
    "\n"
   ]
  },
  {
   "cell_type": "code",
   "execution_count": 53,
   "metadata": {},
   "outputs": [
    {
     "data": {
      "text/plain": [
       "(array([ 2.83023191, -0.29742301,  1.63283571, -0.58216585, -1.35564796,\n",
       "         1.03190171,  0.86203981, -1.2422532 , -0.26507859,  1.15664737,\n",
       "        -0.28945237, -0.78886435]),\n",
       " 3.0,\n",
       " 3.0,\n",
       " array([2.55917580e+00, 4.78811091e+05]),\n",
       " (50,),\n",
       " (50,),\n",
       " (50,),\n",
       " (50, 10, 10))"
      ]
     },
     "execution_count": 53,
     "metadata": {},
     "output_type": "execute_result"
    }
   ],
   "source": [
    "beta, theta1, theta2, theta_optimum, Y.shape, X.shape, C.shape, np.array(MPsi).shape"
   ]
  },
  {
   "cell_type": "code",
   "execution_count": 54,
   "metadata": {},
   "outputs": [
    {
     "name": "stdout",
     "output_type": "stream",
     "text": [
      "[2.55917580e+00 4.78811091e+05]\n",
      "[ 2.83023191 -0.29742301  1.63283571 -0.58216585 -1.35564796  1.03190171\n",
      "  0.86203981 -1.2422532  -0.26507859  1.15664737 -0.28945237 -0.78886435]\n"
     ]
    }
   ],
   "source": [
    "print(theta_optimum)\n",
    "print(beta)\n",
    "\n",
    "to_sample = lambda beta: log_p(beta[1:], beta[0], theta1, theta2, theta_optimum, Y, X, C, MPsi)\n",
    "\n",
    "\n",
    "grad_p = lambda beta: grad(to_sample)(beta)\n",
    "\n",
    "def logprob(beta):\n",
    "    \n",
    "    return to_sample(beta), grad_p(beta) \n",
    "\n",
    "\n",
    "samples = hmc(logprob, x0=beta, n_samples=500, epsilon = 0.1)\n",
    "\n"
   ]
  },
  {
   "cell_type": "code",
   "execution_count": 55,
   "metadata": {},
   "outputs": [],
   "source": [
    "# def sigma_fn(c, w_0=0.5, w_1=7):\n",
    "#     return w_0 ** 2 + (w_1 ** 2) * c\n",
    "\n",
    "# def sigma_dw_0(c, w_0, w_1):\n",
    "#     return 2 * w_0\n",
    "\n",
    "# def sigma_dw_1(c, w_0, w_1):\n",
    "#     return 2 * w_1 * c\n",
    "\n",
    "\n",
    "# def gamma_fn(c, w_0=0.1, w_1=0.5):\n",
    "#     return w_0 ** 2 + (w_1 ** 2) * c\n",
    "\n",
    "# def gamma_dw_0(c, w_0, w_1):\n",
    "#     return 2 * w_0\n",
    "\n",
    "# def gamma_dw_1(c, w_0, w_1):\n",
    "#     return 2 * w_1 * c\n",
    "\n",
    "\n",
    "# def g_tilde(c, w_0=0.5, w_1=7, w_2 = 10):\n",
    "#     return w_0 ** 2 + (w_1 ** 2) * c + w_2**2 *c**2\n",
    "\n",
    "# def g(c, w_0=0.5, w_1=7, w_2 = 10):\n",
    "#     return g_tilde(c, w_0, w_1, w_2)/g_tilde(6, w_0, w_1, w_2) * mu**2\n",
    "\n",
    "# def second_aprox(Y, sigma2):\n",
    "    \n",
    "#     pres = 1/sigma2\n",
    "    \n",
    "#     tot = np.sum(pres)\n",
    "    \n",
    "#     return 1/tot * np.dot(Y,pres)\n",
    "\n",
    "# def psi(x,i,j,L):\n",
    "    \n",
    "#     if i==j:\n",
    "        \n",
    "#         t1 = 1/(2*L)*x\n",
    "#         t2 = np.sin(gamma_plus(j,j,L)*(x+L) )/(2*L*gamma_plus(j,j,L)) - np.sin(gamma_plus(j,j,L)*(L) )/(2*L*gamma_plus(j,j,L))\n",
    "        \n",
    "#         return t1 - t2\n",
    "    \n",
    "#     else:\n",
    "        \n",
    "#         t1 = np.sin(gamma_minus(i,j,L)*(x+L) )/(2*L*gamma_minus(i,j,L)) - np.sin(gamma_minus(i,j,L)*(L) )/(2*L*gamma_minus(i,j,L))\n",
    "#         t2 = np.sin(gamma_plus(i,j,L)*(x+L) )/(2*L*gamma_plus(i,j,L)) - np.sin(gamma_plus(i,j,L)*(L) )/(2*L*gamma_plus(i,j,L))\n",
    "\n",
    "#         return t1 - t2\n",
    "\n",
    "        \n",
    "# def Psi(x,L, N):\n",
    "\n",
    "#     MPsi = np.zeros((N,N))\n",
    "#     for i in range(0,N):\n",
    "#         for j in range(0,N):\n",
    "#             MPsi[i,j] = psi(x,i,j,L)\n",
    "            \n",
    "#     return MPsi\n",
    "\n",
    "L = 24.0\n",
    "\n",
    "X = np.linspace(0,1, num_samples)\n",
    "num_samples = 50\n",
    "mu = 3\n",
    "\n",
    "w_0_equiv = 1.1/np.sqrt(21.594199576606165) * mu\n",
    "w_1_equiv = np.sqrt(1.5)/np.sqrt(21.594199576606165) * mu\n",
    "w_2_equiv = np.sqrt(np.sqrt(0.1))/np.sqrt(21.594199576606165) * mu\n",
    "w_equiv = np.array([w_0_equiv, w_1_equiv, w_2_equiv]).squeeze()\n",
    "\n",
    "\n",
    "# c = np.random.rand(num_samples)\n",
    "C = np.concatenate((np.linspace(1.0, 2., 10), np.linspace(4., 6., num_samples - 10)))\n",
    "sigma_2 = g(C, *w_equiv)\n",
    "\n",
    "eps = []\n",
    "\n",
    "for sigma in sigma_2:\n",
    "    assert sigma > 0, f'Sigma is {sigma}'\n",
    "    noise = norm(scale=sigma ** 0.5).rvs(1)\n",
    "    eps.append(noise)\n",
    "\n",
    "eps = np.array(eps).squeeze()\n",
    "assert eps.shape == (num_samples,)\n",
    "Y = mu + eps"
   ]
  },
  {
   "cell_type": "code",
   "execution_count": 56,
   "metadata": {},
   "outputs": [
    {
     "data": {
      "text/plain": [
       "Text(0.5, 1.0, 'Parametric Regression, Parametric Variance: Reconstruction of $g(c)$')"
      ]
     },
     "execution_count": 56,
     "metadata": {},
     "output_type": "execute_result"
    },
    {
     "data": {
      "image/png": "[encoded data removed]",
      "text/plain": [
       "<Figure size 432x288 with 1 Axes>"
      ]
     },
     "metadata": {
      "needs_background": "light"
     },
     "output_type": "display_data"
    }
   ],
   "source": [
    "plt.scatter(C, sigma_2)\n",
    "plt.xlabel(\"C-Score\")\n",
    "plt.ylabel(\"$\\sigma^2$\")\n",
    "plt.title('Parametric Regression, Parametric Variance: Reconstruction of $g(c)$')"
   ]
  },
  {
   "cell_type": "code",
   "execution_count": 57,
   "metadata": {},
   "outputs": [],
   "source": [
    "MPsi = []\n",
    "\n",
    "for i in range(len(C)):\n",
    "    \n",
    "    MPsi.append(Psi(C[i],L, N))\n",
    "    \n",
    "# theta_optimum = np.array([0.04635802, 2.21489177])\n",
    "# beta = np.array([ 1.43732340e+00,  1.12126097e-01, -1.42323154e-01, -1.03483569e-01,\n",
    "#        -3.03634735e-02, -4.78619386e-02, -2.04207881e+00, -4.85396220e-12,\n",
    "#        -4.88629106e-14,  7.67838751e-12, -8.70497366e-12, -1.03608578e-11,\n",
    "#        -2.02489771e-13, -7.69181423e-13, -6.98529823e-12, -5.74456208e-12,\n",
    "#        -3.65461512e-12])\n",
    "\n",
    "to_sample = lambda beta: log_p(beta[1:], beta[0], theta1, theta2, theta_optimum, Y, X, C, MPsi)\n",
    "\n",
    "\n",
    "grad_p = lambda beta: grad(to_sample)(beta)\n",
    "\n",
    "def logprob(beta):\n",
    "    \n",
    "    return to_sample(beta), grad_p(beta) \n",
    "\n",
    "\n",
    "samples = hmc(logprob, x0=beta, n_samples=500, epsilon = 0.1)"
   ]
  },
  {
   "cell_type": "code",
   "execution_count": 61,
   "metadata": {},
   "outputs": [
    {
     "name": "stderr",
     "output_type": "stream",
     "text": [
      "/Users/jinmeng1/opt/miniconda3/lib/python3.7/site-packages/seaborn/_decorators.py:43: FutureWarning: Pass the following variables as keyword args: x, y. From version 0.12, the only valid positional argument will be `data`, and passing other arguments without an explicit keyword will result in an error or misinterpretation.\n",
      "  FutureWarning\n"
     ]
    },
    {
     "data": {
      "image/png": "[encoded data removed]",
      "text/plain": [
       "<Figure size 504x360 with 1 Axes>"
      ]
     },
     "metadata": {
      "needs_background": "light"
     },
     "output_type": "display_data"
    }
   ],
   "source": [
    "plt.figure(figsize=(7, 5))\n",
    "sns.scatterplot(C, Y, s=10)\n",
    "\n",
    "# Bigger c value = more variance/uncertainty\n",
    "plt.xlabel('confidence score (c)')\n",
    "plt.ylabel('sample y')\n",
    "plt.title(\"Generated Data Samples\")\n",
    "plt.plot([0, 6], [Y.mean(), Y.mean()], 'r', label='mean')\n",
    "plt.legend(loc='upper right');"
   ]
  },
  {
   "cell_type": "code",
   "execution_count": 62,
   "metadata": {},
   "outputs": [
    {
     "name": "stdout",
     "output_type": "stream",
     "text": [
      "2.6976205777409263\n"
     ]
    },
    {
     "data": {
      "text/plain": [
       "[Text(0, 0.5, 'number of samples'),\n",
       " Text(0.5, 0, '$\\\\mu$'),\n",
       " Text(0.5, 1.0, 'Histogram for the mean')]"
      ]
     },
     "execution_count": 62,
     "metadata": {},
     "output_type": "execute_result"
    },
    {
     "data": {
      "image/png": "[encoded data removed]",
      "text/plain": [
       "<Figure size 432x288 with 1 Axes>"
      ]
     },
     "metadata": {
      "needs_background": "light"
     },
     "output_type": "display_data"
    }
   ],
   "source": [
    "C_test = np.linspace(0,2.5, 100)\n",
    "aproximation_sampler = np.zeros( (len(C_test),500) )\n",
    "\n",
    "\n",
    "\n",
    "MPsi_test = []\n",
    "\n",
    "for i in range(len(C_test)):\n",
    "    \n",
    "    MPsi_test.append(Psi(C_test[i],L, N))\n",
    "\n",
    "\n",
    "for i in range(len(C_test)):\n",
    "    \n",
    "    for j in range(500):\n",
    "    \n",
    "        aproximation_sampler[i,j] = f(C_test[i], np.exp(samples[j][1]), samples[j][2:], MPsi_test[i])\n",
    "        \n",
    "aproximate_mean = np.mean(aproximation_sampler, axis = 1)\n",
    "\n",
    "aproximate_std = np.std(aproximation_sampler, axis = 1)\n",
    "\n",
    "\n",
    "print(np.mean(samples[:,0]))\n",
    "\n",
    "\n",
    "fig, ax = plt.subplots()\n",
    "\n",
    "ax.hist(samples[:,0], bins = 20)\n",
    "ax.set(ylabel='number of samples', xlabel='$\\mu$', title='Histogram for the mean')\n",
    "\n",
    "\n"
   ]
  },
  {
   "cell_type": "code",
   "execution_count": 63,
   "metadata": {},
   "outputs": [
    {
     "data": {
      "text/plain": [
       "[Text(0, 0.5, '$\\\\sigma^2$'),\n",
       " Text(0.5, 0, 'c score'),\n",
       " Text(0.5, 1.0, 'Reconstruction of $g(c)$')]"
      ]
     },
     "execution_count": 63,
     "metadata": {},
     "output_type": "execute_result"
    },
    {
     "data": {
      "image/png": "[encoded data removed]",
      "text/plain": [
       "<Figure size 432x288 with 1 Axes>"
      ]
     },
     "metadata": {
      "needs_background": "light"
     },
     "output_type": "display_data"
    }
   ],
   "source": [
    "fig, ax = plt.subplots()\n",
    "\n",
    "ax.scatter(C, sigma2, c='b', label = 'real variance')\n",
    "ax.plot(C_test, aproximate_mean, c = 'g', label = 'reconstructed variance')\n",
    "ax.fill_between(C_test, aproximate_mean -  aproximate_std,aproximate_mean +  aproximate_std, alpha=0.3, label = 'uncertainty of reconstruction')\n",
    "# ax.plot(C_test, aproximate_mean -  aproximate_std)\n",
    "ax.legend()\n",
    "\n",
    "\n",
    "ax.set(xlabel='c score', ylabel='$\\sigma^2$', title='Reconstruction of $g(c)$')\n",
    "\n",
    "\n"
   ]
  },
  {
   "cell_type": "code",
   "execution_count": 64,
   "metadata": {
    "scrolled": true
   },
   "outputs": [
    {
     "name": "stdout",
     "output_type": "stream",
     "text": [
      "[ 1.80294777  1.96265382  2.13130382  2.30880631  2.49498519  2.68958119\n",
      "  2.89225463  3.10258906  3.32009615  3.54422143  7.89369537  7.99412876\n",
      "  8.09333854  8.19130403  8.28800766  8.38343493  8.47757444  8.57041776\n",
      "  8.66195947  8.75219705  8.84113083  8.92876395  9.01510224  9.10015415\n",
      "  9.18393068  9.26644526  9.34771365  9.42775385  9.50658598  9.58423216\n",
      "  9.66071641  9.73606451  9.81030387  9.88346344  9.95557356 10.02666583\n",
      " 10.09677299 10.1659288  10.23416789 10.30152566 10.36803814 10.43374188\n",
      " 10.49867381 10.56287115 10.62637128 10.68921163 10.75142958 10.81306235\n",
      " 10.87414691 10.93471988]\n"
     ]
    }
   ],
   "source": [
    "aproximation = np.zeros(len(C))\n",
    "\n",
    "Pres = jacobian(nab_p)(beta_0)\n",
    "\n",
    "\n",
    "Sigma = np.linalg.inv(Pres[2:, 2:])\n",
    "\n",
    "\n",
    "\n",
    "\n",
    "for i in range(num_samples):\n",
    "    \n",
    "    aproximation[i] = f(C[i], np.exp(beta[1]), beta[2:], MPsi[i]) + np.sum(Sigma*MPsi[i])\n",
    "    \n",
    "print(aproximation)"
   ]
  },
  {
   "cell_type": "code",
   "execution_count": 65,
   "metadata": {},
   "outputs": [
    {
     "data": {
      "text/plain": [
       "[Text(0, 0.5, '$\\\\sigma^2$'),\n",
       " Text(0.5, 0, 'c score'),\n",
       " Text(0.5, 1.0, 'Parametric Regression, Parametric Variance: Reconstruction of $g(c)$')]"
      ]
     },
     "execution_count": 65,
     "metadata": {},
     "output_type": "execute_result"
    },
    {
     "data": {
      "image/png": "[encoded data removed]",
      "text/plain": [
       "<Figure size 432x288 with 1 Axes>"
      ]
     },
     "metadata": {
      "needs_background": "light"
     },
     "output_type": "display_data"
    }
   ],
   "source": [
    "fig, ax = plt.subplots()\n",
    "\n",
    "ax.scatter(C, sigma2, c='b', label = 'real variance')\n",
    "ax.scatter(C, aproximation, c = 'g', label = 'reconstructed variance')\n",
    "ax.legend()\n",
    "\n",
    "\n",
    "ax.set(xlabel='c score', ylabel='$\\sigma^2$', title='Parametric Regression, Parametric Variance: Reconstruction of $g(c)$')\n",
    "\n"
   ]
  },
  {
   "cell_type": "code",
   "execution_count": 15,
   "metadata": {},
   "outputs": [
    {
     "name": "stdout",
     "output_type": "stream",
     "text": [
      "[ 3.05551791 -0.66471886  0.91085701 -0.71396829 -0.55515626  1.29271851\n",
      " -0.11365812 -1.61467259  1.01666772  1.58187129 -2.04920826 -1.12332766]\n"
     ]
    }
   ],
   "source": [
    "print(beta)"
   ]
  },
  {
   "cell_type": "code",
   "execution_count": 16,
   "metadata": {},
   "outputs": [
    {
     "name": "stdout",
     "output_type": "stream",
     "text": [
      "-0.04870992617479356\n",
      "0.018505970494419415\n",
      "0.08363287433937305\n",
      "0.011550087027222933\n"
     ]
    }
   ],
   "source": [
    "print((np.mean(Y) - 3)/3)\n",
    "print((beta[0] -3)/3)\n",
    "print((np.mean(Y[:10]) -3 )/3)\n",
    "print( (np.mean(samples[:,0]) -3 )/3 )"
   ]
  },
  {
   "cell_type": "code",
   "execution_count": 17,
   "metadata": {},
   "outputs": [
    {
     "data": {
      "text/plain": [
       "3.1055540052826247"
      ]
     },
     "execution_count": 17,
     "metadata": {},
     "output_type": "execute_result"
    }
   ],
   "source": [
    "def second_aprox(Y, sigma2):\n",
    "    \n",
    "    pres = 1/sigma2\n",
    "    \n",
    "    tot = np.sum(pres)\n",
    "    \n",
    "    return 1/tot * np.dot(Y,pres)\n",
    "\n",
    "second_aprox(Y, aproximation)"
   ]
  },
  {
   "cell_type": "markdown",
   "metadata": {},
   "source": [
    "Linear regression Model"
   ]
  },
  {
   "cell_type": "code",
   "execution_count": 18,
   "metadata": {},
   "outputs": [
    {
     "name": "stdout",
     "output_type": "stream",
     "text": [
      "28.6927569352021\n",
      "[0.2367141  0.26355853 0.12101284]\n"
     ]
    },
    {
     "name": "stderr",
     "output_type": "stream",
     "text": [
      "/Users/jinmeng1/opt/miniconda3/lib/python3.7/site-packages/seaborn/_decorators.py:43: FutureWarning: Pass the following variables as keyword args: x, y. From version 0.12, the only valid positional argument will be `data`, and passing other arguments without an explicit keyword will result in an error or misinterpretation.\n",
      "  FutureWarning\n"
     ]
    },
    {
     "data": {
      "image/png": "[encoded data removed]",
      "text/plain": [
       "<Figure size 720x504 with 1 Axes>"
      ]
     },
     "metadata": {
      "needs_background": "light"
     },
     "output_type": "display_data"
    }
   ],
   "source": [
    "# def g(c):\n",
    "#     return np.array([c ** 0, c, c ** 2]).squeeze()\n",
    "\n",
    "def g_tilde(c, w_0=0.5, w_1=7, w_2 = 10):\n",
    "    return w_0 + w_1  * c + w_2 *c**2\n",
    "\n",
    "\n",
    "\n",
    "\n",
    "def g(c, w_0=0.5, w_1=7, w_2 = 10):\n",
    "    return g_tilde(c, w_0, w_1, w_2)/g_tilde(6, w_0, w_1, w_2) * mu**2\n",
    "\n",
    "\n",
    "\n",
    "\n",
    "w_0 = 1.1\n",
    "w_1 = np.sqrt(1.5)\n",
    "w_2 = np.sqrt(np.sqrt(0.1))\n",
    "w = np.array([w_0, w_1, w_2]).squeeze()\n",
    "\n",
    "print(g_tilde(6, w_0, w_1, w_2))\n",
    "\n",
    "w_0_equiv = 1.1/np.sqrt(21.594199576606165) \n",
    "w_1_equiv = np.sqrt(1.5)/np.sqrt(21.594199576606165) \n",
    "w_2_equiv = np.sqrt(np.sqrt(0.1))/np.sqrt(21.594199576606165) \n",
    "w_equiv = np.array([w_0_equiv, w_1_equiv, w_2_equiv]).squeeze()\n",
    "\n",
    "\n",
    "def f_reg(x):\n",
    "    \n",
    "    return  x + np.cos(x**2)\n",
    "\n",
    "\n",
    "\n",
    "num_samples = 50\n",
    "\n",
    "\n",
    "\n",
    "\n",
    "\n",
    "X = np.linspace(0,1, num_samples)\n",
    "\n",
    "C = np.concatenate(  (np.linspace(0.0, 0.1, 10), np.linspace(1., 1.5, num_samples - 10) ) )\n",
    "\n",
    "np.random.shuffle(C)\n",
    "\n",
    "print(w_equiv)\n",
    "\n",
    "sigma2 = g_tilde(C, *w_equiv)/5\n",
    "\n",
    "\n",
    "eps = []\n",
    "\n",
    "for sigma in sigma2:\n",
    "    assert sigma > 0, f'Sigma is {sigma}'\n",
    "    noise = norm(scale=sigma ** 0.5).rvs(1)\n",
    "    eps.append(noise)\n",
    "\n",
    "eps = np.array(eps).squeeze()\n",
    "assert eps.shape == (num_samples,)\n",
    "Y = f_reg(X) + eps\n",
    "\n",
    "import seaborn as sns\n",
    "\n",
    "plt.figure(figsize=(10, 7))\n",
    "sns.scatterplot(X,\n",
    "                Y,\n",
    "                hue=C,\n",
    "                )\n",
    "plt.plot(X,f_reg(X))\n",
    "plt.xlabel('sample x')\n",
    "plt.ylabel('sample y')\n",
    "plt.legend(loc='upper right');\n",
    "\n",
    "\n"
   ]
  },
  {
   "cell_type": "code",
   "execution_count": 19,
   "metadata": {},
   "outputs": [],
   "source": [
    "#Linear regression\n",
    "\n",
    "def phi(x):\n",
    "    \n",
    "    return np.array([1, np.cos(x), np.cos(2*x), np.cos(3*x), np.cos(4*x), np.cos(5*x)])\n",
    "\n",
    "\n",
    "\n",
    "def log_likelihood_reg(f_0, alpha, Y, X, C, w, MPsi):\n",
    "    \n",
    "#     f_0 = beta[0]\n",
    "#     alpha = beta[1:]\n",
    "  \n",
    "    l = 0\n",
    "    \n",
    "    for i in range(len(Y)):\n",
    "        \n",
    "\n",
    "        sigma2 = f(C[i], f_0, alpha, MPsi[i])\n",
    "        \n",
    "        fx = np.dot(w, phi(X[i]))\n",
    "        \n",
    "                \n",
    "        l += -( fx - Y[i]  )**2/sigma2 - np.log(sigma2)\n",
    "    \n",
    "    \n",
    "    return l\n",
    "\n",
    "def logp_f_0(log_f, theta1, theta2):\n",
    "    \n",
    "    f_0 = np.exp(log_f)\n",
    "    \n",
    "    #return - (f_0-theta1)**2/theta2\n",
    "    \n",
    "    \n",
    "    return  (theta1 -1)*log_f - theta2*f_0 + theta1*np.log(theta2) - np.log(gamma(theta1))\n",
    "\n",
    "def logp_alpha(alpha, theta):\n",
    "    \n",
    "    \n",
    "    l = 0\n",
    "    \n",
    "    for i in range(len(alpha)):\n",
    "        \n",
    "        if S(Lambda(i,L), theta) <= 0.0:\n",
    "            print('Problema en S')\n",
    "        \n",
    "        l += -0.5*(alpha[i]**2/ S(Lambda(i,L), theta )) - 0.5*np.log(S(Lambda(i,L),theta ))\n",
    "    \n",
    "    return l\n",
    "\n",
    "\n",
    "def logp_w(w):\n",
    "    \n",
    "    Sig = 1/(np.arange(6) + 1)**2\n",
    "    \n",
    "    return np.sum(-0.5*w**2/Sig - 0.5*np.log(Sig))\n",
    "\n",
    "\n",
    "def log_p_reg(beta, w, theta1, theta2, theta, Y,X, C, MPsi):\n",
    "    \n",
    "    if beta[0] > 1000:\n",
    "        print(\"aqui hay problema que g_0 es muy grande\")\n",
    "    \n",
    "    f_0 = np.exp(beta[0]) \n",
    "    alpha = beta[1:]\n",
    "    \n",
    "    return logp_w(w) + logp_alpha(alpha, theta)+ logp_f_0(beta[0], theta1, theta2)+log_likelihood_reg(f_0, alpha, Y, X, C, w, MPsi)\n",
    "\n",
    "\n",
    "\n"
   ]
  },
  {
   "cell_type": "code",
   "execution_count": 20,
   "metadata": {},
   "outputs": [],
   "source": [
    "theta1 = 3.0\n",
    "theta2 = 3.\n",
    "theta = np.array([2.06085246, 1.19000197])\n",
    "\n",
    "# Theta = np.array([5,1, 1.0,1.0])\n",
    "\n",
    "\n",
    "\n",
    "K = np.zeros((num_samples, num_samples))\n",
    "\n",
    "for i in range(num_samples):\n",
    "    for j in range(num_samples):\n",
    "        K[i,j] = ker(X[i], X[j])\n",
    "        \n",
    "        \n",
    "beta_0 = np.ones(17)\n",
    "\n",
    "\n",
    "\n",
    "N = len(beta_0) - 7\n",
    "\n",
    "\n",
    "MPsi = []\n",
    "\n",
    "for i in range(len(C)):\n",
    "    \n",
    "    MPsi.append(Psi(C[i],L, N))"
   ]
  },
  {
   "cell_type": "code",
   "execution_count": 21,
   "metadata": {},
   "outputs": [
    {
     "name": "stdout",
     "output_type": "stream",
     "text": [
      "[ 1.41985593  0.1125028  -0.13873457 -0.10285658 -0.03556238 -0.05902513\n",
      " -2.5340308   0.18937201  0.14441107 -0.2245366  -0.29428966  0.29890447\n",
      "  0.45526602 -0.42115032 -0.63325348  0.60588967  0.83446331]\n",
      "evaluating log_evidence\n",
      "evaluating log_evidence\n",
      "evaluating log_evidence\n",
      "evaluating log_evidence\n",
      "evaluating log_evidence\n",
      "evaluating log_evidence\n",
      "evaluating log_evidence\n",
      "evaluating log_evidence\n",
      "evaluating log_evidence\n",
      "evaluating log_evidence\n",
      "evaluating log_evidence\n",
      "evaluating log_evidence\n",
      "evaluating log_evidence\n",
      "evaluating log_evidence\n",
      "evaluating log_evidence\n",
      "evaluating log_evidence\n",
      "evaluating log_evidence\n",
      "evaluating log_evidence\n",
      "evaluating log_evidence\n",
      "evaluating log_evidence\n",
      "evaluating log_evidence\n",
      "evaluating log_evidence\n",
      "evaluating log_evidence\n",
      "evaluating log_evidence\n",
      "evaluating log_evidence\n",
      "evaluating log_evidence\n",
      "evaluating log_evidence\n",
      "evaluating log_evidence\n",
      "evaluating log_evidence\n",
      "evaluating log_evidence\n",
      "evaluating log_evidence\n",
      "evaluating log_evidence\n",
      "evaluating log_evidence\n",
      "evaluating log_evidence\n",
      "evaluating log_evidence\n",
      "evaluating log_evidence\n",
      "evaluating log_evidence\n",
      "evaluating log_evidence\n",
      "evaluating log_evidence\n",
      "evaluating log_evidence\n",
      "evaluating log_evidence\n",
      "evaluating log_evidence\n",
      "evaluating log_evidence\n",
      "evaluating log_evidence\n",
      "evaluating log_evidence\n",
      "evaluating log_evidence\n",
      "evaluating log_evidence\n",
      "evaluating log_evidence\n",
      "evaluating log_evidence\n",
      "evaluating log_evidence\n",
      "evaluating log_evidence\n",
      "evaluating log_evidence\n",
      "evaluating log_evidence\n",
      "evaluating log_evidence\n",
      "evaluating log_evidence\n",
      "evaluating log_evidence\n",
      "evaluating log_evidence\n",
      "evaluating log_evidence\n",
      "evaluating log_evidence\n",
      "evaluating log_evidence\n",
      "evaluating log_evidence\n",
      "evaluating log_evidence\n",
      "evaluating log_evidence\n",
      "evaluating log_evidence\n",
      "evaluating log_evidence\n",
      "evaluating log_evidence\n",
      "evaluating log_evidence\n",
      "evaluating log_evidence\n",
      "evaluating log_evidence\n",
      "evaluating log_evidence\n",
      "185.01144123077393\n",
      "[0.04635802 2.21489177]\n",
      "[0.04635802 2.21489177]\n",
      "[ 1.43732340e+00  1.12126097e-01 -1.42323154e-01 -1.03483569e-01\n",
      " -3.03634735e-02 -4.78619386e-02 -2.04207881e+00 -4.85396220e-12\n",
      " -4.88629106e-14  7.67838751e-12 -8.70497366e-12 -1.03608578e-11\n",
      " -2.02489771e-13 -7.69181423e-13 -6.98529823e-12 -5.74456208e-12\n",
      " -3.65461512e-12]\n"
     ]
    }
   ],
   "source": [
    "#Hyper Parameters\n",
    "import time\n",
    "\n",
    "t0 = time.time()\n",
    "\n",
    "#Hyper mean\n",
    "\n",
    "\n",
    "\n",
    "# Kernel of the GP\n",
    "\n",
    "\n",
    "\n",
    "def log_Evidence(theta, beta_0):\n",
    "    \n",
    "    print(\"evaluating log_evidence\")\n",
    "    \n",
    "#     theta = Theta[:2]\n",
    "#     theta1 = Theta[2]\n",
    "#     theta2 = Theta[3]\n",
    "    \n",
    "#     theta = np.exp(log_theta)\n",
    "\n",
    "    \n",
    "    to_opti = lambda beta: -log_p_reg(beta[6:], beta[:6], theta1, theta2, theta, Y, X, C, MPsi)\n",
    "\n",
    "\n",
    "    nab_p = lambda beta: grad(to_opti)(beta)\n",
    "    \n",
    "    \n",
    "    Hess = lambda beta: jacobian(nab_p)(beta)\n",
    "\n",
    "    beta = minimize(to_opti, beta_0 , jac=nab_p, hess = Hess, method='Newton-CG', options={\"xtol\": 0.01}).x\n",
    "    \n",
    "   \n",
    "    A = Hess(beta_0)\n",
    "\n",
    "    det = np.linalg.det(A*2*np.pi)\n",
    "    \n",
    " \n",
    "    \n",
    "#     print( A )\n",
    "    \n",
    "    return -(-to_opti(beta) - 0.5*np.log(det))\n",
    "\n",
    "\n",
    "\n",
    "def maximum_posterior(beta_0):\n",
    "    \n",
    "    to_opti = lambda beta: -log_p_reg(beta[6:], beta[:6], theta1, theta2, theta, Y, X, C, MPsi)\n",
    "\n",
    "\n",
    "    nab_p = lambda beta: grad(to_opti)(beta)\n",
    "    \n",
    "    Hess = lambda beta: jacobian(nab_p)(beta)\n",
    "\n",
    "    beta = minimize(to_opti, beta_0 , jac=nab_p, hess = Hess,method='Newton-CG').x\n",
    "    \n",
    "    \n",
    "#     det = np.linalg.det(Hess*2*np.pi)\n",
    "    \n",
    "    return beta\n",
    "\n",
    "\n",
    "\n",
    "\n",
    "\n",
    "# log_p(beta_0, 0.4, 0.4, 0.5, np.array([0.4, 0.4]), Y, X, C)\n",
    "\n",
    "beta_0 = maximum_posterior(beta_0)\n",
    "print(beta_0)\n",
    "# print(beta_0)\n",
    "\n",
    "\n",
    "\n",
    "\n",
    "\n",
    "\n",
    "# print(beta)\n",
    "t0 = time.time()\n",
    "\n",
    "theta_optimum = minimize(log_Evidence, theta, args=(beta_0,) , method='Powell', options = {'maxfev':40}).x\n",
    "print(time.time() - t0)\n",
    "\n",
    "print(theta_optimum)\n",
    "\n",
    "# theta = np.exp(log_theta)\n",
    "\n",
    "to_opti = lambda beta: -log_p_reg(beta[6:], beta[:6], theta1, theta2, theta_optimum, Y, X, C, MPsi)\n",
    "\n",
    "\n",
    "nab_p = lambda beta: grad(to_opti)(beta)\n",
    "\n",
    "beta = minimize(to_opti, beta_0, jac=nab_p, method='Newton-CG').x\n",
    "\n",
    "\n",
    "print(theta_optimum)\n",
    "print(beta)\n",
    "\n",
    "to_sample = lambda beta: log_p_reg(beta[6:], beta[:6], theta1, theta2, theta_optimum, Y, X, C, MPsi)\n",
    "\n",
    "\n",
    "grad_p = lambda beta: grad(to_sample)(beta)\n",
    "\n",
    "def logprob(beta):\n",
    "    \n",
    "    return to_sample(beta), grad_p(beta) \n",
    "\n",
    "\n",
    "samples = hmc(logprob, x0=beta, n_samples=300, epsilon = 0.1)\n",
    "\n",
    "\n"
   ]
  },
  {
   "cell_type": "code",
   "execution_count": 22,
   "metadata": {},
   "outputs": [
    {
     "name": "stderr",
     "output_type": "stream",
     "text": [
      "/Users/jinmeng1/opt/miniconda3/lib/python3.7/site-packages/autograd/numpy/numpy_wrapper.py:77: VisibleDeprecationWarning: Creating an ndarray from ragged nested sequences (which is a list-or-tuple of lists-or-tuples-or ndarrays with different lengths or shapes) is deprecated. If you meant to do this, you must specify 'dtype=object' when creating the ndarray\n",
      "  return _np.array(args, *array_args, **array_kwargs)\n"
     ]
    },
    {
     "data": {
      "text/plain": [
       "<matplotlib.collections.PolyCollection at 0x7fe060d09850>"
      ]
     },
     "execution_count": 22,
     "metadata": {},
     "output_type": "execute_result"
    },
    {
     "data": {
      "image/png": "[encoded data removed]",
      "text/plain": [
       "<Figure size 432x288 with 1 Axes>"
      ]
     },
     "metadata": {
      "needs_background": "light"
     },
     "output_type": "display_data"
    }
   ],
   "source": [
    "X_test = np.linspace(0,1,100)\n",
    "C_test = np.linspace(0,1.5, 100)\n",
    "\n",
    "sample_function = np.zeros((100, len(samples) ))\n",
    "\n",
    "sample_g = np.zeros((100, len(samples) ))\n",
    "\n",
    "MPsi_test = []\n",
    "\n",
    "for i in range(len(C_test)):\n",
    "    \n",
    "    MPsi_test.append(Psi(C_test[i],L, N))\n",
    "\n",
    "\n",
    "\n",
    "for i in range(len(samples)):\n",
    "    \n",
    "    sample_function[:,i] = np.dot(phi(X_test), samples[i][:6])\n",
    "    \n",
    "    for j in range(len(C_test)):\n",
    "        sample_g[j,i] = f(C_test[j], np.exp(samples[i][6]), samples[i][7:], MPsi_test[j])\n",
    "        \n",
    "g_mean = np.mean(sample_g, axis = 1)\n",
    "\n",
    "g_std = np.std(sample_g, axis = 1)\n",
    "\n",
    "\n",
    "    \n",
    "    \n",
    "mean_function = np.mean(sample_function, axis = 1)\n",
    "std_function = np.std(sample_function, axis = 1)\n",
    "\n",
    "\n",
    "fig, ax = plt.subplots()\n",
    "\n",
    "ax.scatter(C, sigma2, c='b', label = 'real function')\n",
    "ax.plot(C_test, g_mean, c = 'g', label = 'reconstructed function')\n",
    "ax.fill_between(C_test, g_mean -  g_std, g_mean +  g_std, alpha=0.3, label = 'uncertainty of reconstruction')\n",
    "\n",
    "\n"
   ]
  },
  {
   "cell_type": "code",
   "execution_count": 23,
   "metadata": {},
   "outputs": [
    {
     "name": "stderr",
     "output_type": "stream",
     "text": [
      "/Users/jinmeng1/opt/miniconda3/lib/python3.7/site-packages/seaborn/_decorators.py:43: FutureWarning: Pass the following variables as keyword args: x, y. From version 0.12, the only valid positional argument will be `data`, and passing other arguments without an explicit keyword will result in an error or misinterpretation.\n",
      "  FutureWarning\n"
     ]
    },
    {
     "data": {
      "image/png": "[encoded data removed]",
      "text/plain": [
       "<Figure size 432x288 with 1 Axes>"
      ]
     },
     "metadata": {
      "needs_background": "light"
     },
     "output_type": "display_data"
    }
   ],
   "source": [
    "fig, ax = plt.subplots()\n",
    "\n",
    "ax.plot(X_test, f_reg(X_test), c='b', label = 'real function')\n",
    "ax.plot(X_test, mean_function, c = 'g', label = 'reconstructed function')\n",
    "ax.fill_between(X_test, mean_function -  std_function,mean_function +  std_function, alpha=0.3, label = 'uncertainty of reconstruction')\n",
    "# ax.plot(C_test, aproximate_mean -  aproximate_std)\n",
    "ax.legend()\n",
    "\n",
    "\n",
    "ax.set(xlabel='x', ylabel='y', title='Reconstruction of $f(x)$')\n",
    "\n",
    "# ax.figure(figsize=(10, 7))\n",
    "sns.scatterplot(X,\n",
    "                Y,\n",
    "                hue=C,\n",
    "                )\n",
    "# plt.plot(X,f_reg(X))\n",
    "# plt.xlabel('sample x')\n",
    "# plt.ylabel('sample y')\n",
    "plt.legend(loc='upper left');\n",
    "\n"
   ]
  },
  {
   "cell_type": "code",
   "execution_count": 24,
   "metadata": {},
   "outputs": [
    {
     "ename": "ValueError",
     "evalue": "matmul: Input operand 1 has a mismatch in its core dimension 0, with gufunc signature (n?,k),(k,m?)->(n?,m?) (size 8 is different from 10)",
     "output_type": "error",
     "traceback": [
      "\u001b[0;31m---------------------------------------------------------------------------\u001b[0m",
      "\u001b[0;31mValueError\u001b[0m                                Traceback (most recent call last)",
      "\u001b[0;32m<ipython-input-24-7acd80f6fb54>\u001b[0m in \u001b[0;36m<module>\u001b[0;34m\u001b[0m\n\u001b[1;32m     72\u001b[0m         \u001b[0mnab_p\u001b[0m \u001b[0;34m=\u001b[0m \u001b[0;32mlambda\u001b[0m \u001b[0mbeta\u001b[0m\u001b[0;34m:\u001b[0m \u001b[0mgrad\u001b[0m\u001b[0;34m(\u001b[0m\u001b[0mto_opti\u001b[0m\u001b[0;34m)\u001b[0m\u001b[0;34m(\u001b[0m\u001b[0mbeta\u001b[0m\u001b[0;34m)\u001b[0m\u001b[0;34m\u001b[0m\u001b[0;34m\u001b[0m\u001b[0m\n\u001b[1;32m     73\u001b[0m \u001b[0;34m\u001b[0m\u001b[0m\n\u001b[0;32m---> 74\u001b[0;31m         \u001b[0mbeta\u001b[0m \u001b[0;34m=\u001b[0m \u001b[0mminimize\u001b[0m\u001b[0;34m(\u001b[0m\u001b[0mto_opti\u001b[0m\u001b[0;34m,\u001b[0m \u001b[0mbeta_0\u001b[0m \u001b[0;34m,\u001b[0m \u001b[0mjac\u001b[0m\u001b[0;34m=\u001b[0m\u001b[0mnab_p\u001b[0m\u001b[0;34m,\u001b[0m \u001b[0mmethod\u001b[0m\u001b[0;34m=\u001b[0m\u001b[0;34m'Newton-CG'\u001b[0m\u001b[0;34m)\u001b[0m\u001b[0;34m.\u001b[0m\u001b[0mx\u001b[0m\u001b[0;34m\u001b[0m\u001b[0;34m\u001b[0m\u001b[0m\n\u001b[0m\u001b[1;32m     75\u001b[0m \u001b[0;34m\u001b[0m\u001b[0m\n\u001b[1;32m     76\u001b[0m         \u001b[0maproximation\u001b[0m \u001b[0;34m=\u001b[0m \u001b[0mnp\u001b[0m\u001b[0;34m.\u001b[0m\u001b[0mzeros\u001b[0m\u001b[0;34m(\u001b[0m\u001b[0mlen\u001b[0m\u001b[0;34m(\u001b[0m\u001b[0mC\u001b[0m\u001b[0;34m)\u001b[0m\u001b[0;34m)\u001b[0m\u001b[0;34m\u001b[0m\u001b[0;34m\u001b[0m\u001b[0m\n",
      "\u001b[0;32m~/opt/miniconda3/lib/python3.7/site-packages/scipy/optimize/_minimize.py\u001b[0m in \u001b[0;36mminimize\u001b[0;34m(fun, x0, args, method, jac, hess, hessp, bounds, constraints, tol, callback, options)\u001b[0m\n\u001b[1;32m    613\u001b[0m     \u001b[0;32melif\u001b[0m \u001b[0mmeth\u001b[0m \u001b[0;34m==\u001b[0m \u001b[0;34m'newton-cg'\u001b[0m\u001b[0;34m:\u001b[0m\u001b[0;34m\u001b[0m\u001b[0;34m\u001b[0m\u001b[0m\n\u001b[1;32m    614\u001b[0m         return _minimize_newtoncg(fun, x0, args, jac, hess, hessp, callback,\n\u001b[0;32m--> 615\u001b[0;31m                                   **options)\n\u001b[0m\u001b[1;32m    616\u001b[0m     \u001b[0;32melif\u001b[0m \u001b[0mmeth\u001b[0m \u001b[0;34m==\u001b[0m \u001b[0;34m'l-bfgs-b'\u001b[0m\u001b[0;34m:\u001b[0m\u001b[0;34m\u001b[0m\u001b[0;34m\u001b[0m\u001b[0m\n\u001b[1;32m    617\u001b[0m         return _minimize_lbfgsb(fun, x0, args, jac, bounds,\n",
      "\u001b[0;32m~/opt/miniconda3/lib/python3.7/site-packages/scipy/optimize/optimize.py\u001b[0m in \u001b[0;36m_minimize_newtoncg\u001b[0;34m(fun, x0, args, jac, hess, hessp, callback, xtol, eps, maxiter, disp, return_all, **unknown_options)\u001b[0m\n\u001b[1;32m   1683\u001b[0m     \u001b[0;31m# TODO: allow hess to be approximated by FD?\u001b[0m\u001b[0;34m\u001b[0m\u001b[0;34m\u001b[0m\u001b[0;34m\u001b[0m\u001b[0m\n\u001b[1;32m   1684\u001b[0m     \u001b[0;31m# TODO: add hessp (callable or FD) to ScalarFunction?\u001b[0m\u001b[0;34m\u001b[0m\u001b[0;34m\u001b[0m\u001b[0;34m\u001b[0m\u001b[0m\n\u001b[0;32m-> 1685\u001b[0;31m     \u001b[0msf\u001b[0m \u001b[0;34m=\u001b[0m \u001b[0m_prepare_scalar_function\u001b[0m\u001b[0;34m(\u001b[0m\u001b[0mfun\u001b[0m\u001b[0;34m,\u001b[0m \u001b[0mx0\u001b[0m\u001b[0;34m,\u001b[0m \u001b[0mjac\u001b[0m\u001b[0;34m,\u001b[0m \u001b[0margs\u001b[0m\u001b[0;34m=\u001b[0m\u001b[0margs\u001b[0m\u001b[0;34m,\u001b[0m \u001b[0mepsilon\u001b[0m\u001b[0;34m=\u001b[0m\u001b[0meps\u001b[0m\u001b[0;34m,\u001b[0m \u001b[0mhess\u001b[0m\u001b[0;34m=\u001b[0m\u001b[0mfhess\u001b[0m\u001b[0;34m)\u001b[0m\u001b[0;34m\u001b[0m\u001b[0;34m\u001b[0m\u001b[0m\n\u001b[0m\u001b[1;32m   1686\u001b[0m     \u001b[0mf\u001b[0m \u001b[0;34m=\u001b[0m \u001b[0msf\u001b[0m\u001b[0;34m.\u001b[0m\u001b[0mfun\u001b[0m\u001b[0;34m\u001b[0m\u001b[0;34m\u001b[0m\u001b[0m\n\u001b[1;32m   1687\u001b[0m     \u001b[0mfprime\u001b[0m \u001b[0;34m=\u001b[0m \u001b[0msf\u001b[0m\u001b[0;34m.\u001b[0m\u001b[0mgrad\u001b[0m\u001b[0;34m\u001b[0m\u001b[0;34m\u001b[0m\u001b[0m\n",
      "\u001b[0;32m~/opt/miniconda3/lib/python3.7/site-packages/scipy/optimize/optimize.py\u001b[0m in \u001b[0;36m_prepare_scalar_function\u001b[0;34m(fun, x0, jac, args, bounds, epsilon, finite_diff_rel_step, hess)\u001b[0m\n\u001b[1;32m    260\u001b[0m     \u001b[0;31m# calculation reduces overall function evaluations.\u001b[0m\u001b[0;34m\u001b[0m\u001b[0;34m\u001b[0m\u001b[0;34m\u001b[0m\u001b[0m\n\u001b[1;32m    261\u001b[0m     sf = ScalarFunction(fun, x0, args, grad, hess,\n\u001b[0;32m--> 262\u001b[0;31m                         finite_diff_rel_step, bounds, epsilon=epsilon)\n\u001b[0m\u001b[1;32m    263\u001b[0m \u001b[0;34m\u001b[0m\u001b[0m\n\u001b[1;32m    264\u001b[0m     \u001b[0;32mreturn\u001b[0m \u001b[0msf\u001b[0m\u001b[0;34m\u001b[0m\u001b[0;34m\u001b[0m\u001b[0m\n",
      "\u001b[0;32m~/opt/miniconda3/lib/python3.7/site-packages/scipy/optimize/_differentiable_functions.py\u001b[0m in \u001b[0;36m__init__\u001b[0;34m(self, fun, x0, args, grad, hess, finite_diff_rel_step, finite_diff_bounds, epsilon)\u001b[0m\n\u001b[1;32m     74\u001b[0m \u001b[0;34m\u001b[0m\u001b[0m\n\u001b[1;32m     75\u001b[0m         \u001b[0mself\u001b[0m\u001b[0;34m.\u001b[0m\u001b[0m_update_fun_impl\u001b[0m \u001b[0;34m=\u001b[0m \u001b[0mupdate_fun\u001b[0m\u001b[0;34m\u001b[0m\u001b[0;34m\u001b[0m\u001b[0m\n\u001b[0;32m---> 76\u001b[0;31m         \u001b[0mself\u001b[0m\u001b[0;34m.\u001b[0m\u001b[0m_update_fun\u001b[0m\u001b[0;34m(\u001b[0m\u001b[0;34m)\u001b[0m\u001b[0;34m\u001b[0m\u001b[0;34m\u001b[0m\u001b[0m\n\u001b[0m\u001b[1;32m     77\u001b[0m \u001b[0;34m\u001b[0m\u001b[0m\n\u001b[1;32m     78\u001b[0m         \u001b[0;31m# Gradient evaluation\u001b[0m\u001b[0;34m\u001b[0m\u001b[0;34m\u001b[0m\u001b[0;34m\u001b[0m\u001b[0m\n",
      "\u001b[0;32m~/opt/miniconda3/lib/python3.7/site-packages/scipy/optimize/_differentiable_functions.py\u001b[0m in \u001b[0;36m_update_fun\u001b[0;34m(self)\u001b[0m\n\u001b[1;32m    164\u001b[0m     \u001b[0;32mdef\u001b[0m \u001b[0m_update_fun\u001b[0m\u001b[0;34m(\u001b[0m\u001b[0mself\u001b[0m\u001b[0;34m)\u001b[0m\u001b[0;34m:\u001b[0m\u001b[0;34m\u001b[0m\u001b[0;34m\u001b[0m\u001b[0m\n\u001b[1;32m    165\u001b[0m         \u001b[0;32mif\u001b[0m \u001b[0;32mnot\u001b[0m \u001b[0mself\u001b[0m\u001b[0;34m.\u001b[0m\u001b[0mf_updated\u001b[0m\u001b[0;34m:\u001b[0m\u001b[0;34m\u001b[0m\u001b[0;34m\u001b[0m\u001b[0m\n\u001b[0;32m--> 166\u001b[0;31m             \u001b[0mself\u001b[0m\u001b[0;34m.\u001b[0m\u001b[0m_update_fun_impl\u001b[0m\u001b[0;34m(\u001b[0m\u001b[0;34m)\u001b[0m\u001b[0;34m\u001b[0m\u001b[0;34m\u001b[0m\u001b[0m\n\u001b[0m\u001b[1;32m    167\u001b[0m             \u001b[0mself\u001b[0m\u001b[0;34m.\u001b[0m\u001b[0mf_updated\u001b[0m \u001b[0;34m=\u001b[0m \u001b[0;32mTrue\u001b[0m\u001b[0;34m\u001b[0m\u001b[0;34m\u001b[0m\u001b[0m\n\u001b[1;32m    168\u001b[0m \u001b[0;34m\u001b[0m\u001b[0m\n",
      "\u001b[0;32m~/opt/miniconda3/lib/python3.7/site-packages/scipy/optimize/_differentiable_functions.py\u001b[0m in \u001b[0;36mupdate_fun\u001b[0;34m()\u001b[0m\n\u001b[1;32m     71\u001b[0m \u001b[0;34m\u001b[0m\u001b[0m\n\u001b[1;32m     72\u001b[0m         \u001b[0;32mdef\u001b[0m \u001b[0mupdate_fun\u001b[0m\u001b[0;34m(\u001b[0m\u001b[0;34m)\u001b[0m\u001b[0;34m:\u001b[0m\u001b[0;34m\u001b[0m\u001b[0;34m\u001b[0m\u001b[0m\n\u001b[0;32m---> 73\u001b[0;31m             \u001b[0mself\u001b[0m\u001b[0;34m.\u001b[0m\u001b[0mf\u001b[0m \u001b[0;34m=\u001b[0m \u001b[0mfun_wrapped\u001b[0m\u001b[0;34m(\u001b[0m\u001b[0mself\u001b[0m\u001b[0;34m.\u001b[0m\u001b[0mx\u001b[0m\u001b[0;34m)\u001b[0m\u001b[0;34m\u001b[0m\u001b[0;34m\u001b[0m\u001b[0m\n\u001b[0m\u001b[1;32m     74\u001b[0m \u001b[0;34m\u001b[0m\u001b[0m\n\u001b[1;32m     75\u001b[0m         \u001b[0mself\u001b[0m\u001b[0;34m.\u001b[0m\u001b[0m_update_fun_impl\u001b[0m \u001b[0;34m=\u001b[0m \u001b[0mupdate_fun\u001b[0m\u001b[0;34m\u001b[0m\u001b[0;34m\u001b[0m\u001b[0m\n",
      "\u001b[0;32m~/opt/miniconda3/lib/python3.7/site-packages/scipy/optimize/_differentiable_functions.py\u001b[0m in \u001b[0;36mfun_wrapped\u001b[0;34m(x)\u001b[0m\n\u001b[1;32m     68\u001b[0m         \u001b[0;32mdef\u001b[0m \u001b[0mfun_wrapped\u001b[0m\u001b[0;34m(\u001b[0m\u001b[0mx\u001b[0m\u001b[0;34m)\u001b[0m\u001b[0;34m:\u001b[0m\u001b[0;34m\u001b[0m\u001b[0;34m\u001b[0m\u001b[0m\n\u001b[1;32m     69\u001b[0m             \u001b[0mself\u001b[0m\u001b[0;34m.\u001b[0m\u001b[0mnfev\u001b[0m \u001b[0;34m+=\u001b[0m \u001b[0;36m1\u001b[0m\u001b[0;34m\u001b[0m\u001b[0;34m\u001b[0m\u001b[0m\n\u001b[0;32m---> 70\u001b[0;31m             \u001b[0;32mreturn\u001b[0m \u001b[0mfun\u001b[0m\u001b[0;34m(\u001b[0m\u001b[0mx\u001b[0m\u001b[0;34m,\u001b[0m \u001b[0;34m*\u001b[0m\u001b[0margs\u001b[0m\u001b[0;34m)\u001b[0m\u001b[0;34m\u001b[0m\u001b[0;34m\u001b[0m\u001b[0m\n\u001b[0m\u001b[1;32m     71\u001b[0m \u001b[0;34m\u001b[0m\u001b[0m\n\u001b[1;32m     72\u001b[0m         \u001b[0;32mdef\u001b[0m \u001b[0mupdate_fun\u001b[0m\u001b[0;34m(\u001b[0m\u001b[0;34m)\u001b[0m\u001b[0;34m:\u001b[0m\u001b[0;34m\u001b[0m\u001b[0;34m\u001b[0m\u001b[0m\n",
      "\u001b[0;32m<ipython-input-24-7acd80f6fb54>\u001b[0m in \u001b[0;36m<lambda>\u001b[0;34m(beta)\u001b[0m\n\u001b[1;32m     67\u001b[0m             \u001b[0mMPsi\u001b[0m\u001b[0;34m.\u001b[0m\u001b[0mappend\u001b[0m\u001b[0;34m(\u001b[0m\u001b[0mPsi\u001b[0m\u001b[0;34m(\u001b[0m\u001b[0mC\u001b[0m\u001b[0;34m[\u001b[0m\u001b[0mk\u001b[0m\u001b[0;34m]\u001b[0m\u001b[0;34m,\u001b[0m\u001b[0mL\u001b[0m\u001b[0;34m,\u001b[0m \u001b[0mN\u001b[0m\u001b[0;34m)\u001b[0m\u001b[0;34m)\u001b[0m\u001b[0;34m\u001b[0m\u001b[0;34m\u001b[0m\u001b[0m\n\u001b[1;32m     68\u001b[0m \u001b[0;34m\u001b[0m\u001b[0m\n\u001b[0;32m---> 69\u001b[0;31m         \u001b[0mto_opti\u001b[0m \u001b[0;34m=\u001b[0m \u001b[0;32mlambda\u001b[0m \u001b[0mbeta\u001b[0m\u001b[0;34m:\u001b[0m \u001b[0;34m-\u001b[0m\u001b[0mlog_p\u001b[0m\u001b[0;34m(\u001b[0m\u001b[0mbeta\u001b[0m\u001b[0;34m[\u001b[0m\u001b[0;36m1\u001b[0m\u001b[0;34m:\u001b[0m\u001b[0;34m]\u001b[0m\u001b[0;34m,\u001b[0m \u001b[0mbeta\u001b[0m\u001b[0;34m[\u001b[0m\u001b[0;36m0\u001b[0m\u001b[0;34m]\u001b[0m\u001b[0;34m,\u001b[0m \u001b[0mtheta1\u001b[0m\u001b[0;34m,\u001b[0m \u001b[0mtheta2\u001b[0m\u001b[0;34m,\u001b[0m \u001b[0mtheta\u001b[0m\u001b[0;34m,\u001b[0m \u001b[0mY\u001b[0m\u001b[0;34m,\u001b[0m \u001b[0mX\u001b[0m\u001b[0;34m,\u001b[0m \u001b[0mC\u001b[0m\u001b[0;34m,\u001b[0m \u001b[0mMPsi\u001b[0m\u001b[0;34m)\u001b[0m\u001b[0;34m\u001b[0m\u001b[0;34m\u001b[0m\u001b[0m\n\u001b[0m\u001b[1;32m     70\u001b[0m \u001b[0;34m\u001b[0m\u001b[0m\n\u001b[1;32m     71\u001b[0m \u001b[0;34m\u001b[0m\u001b[0m\n",
      "\u001b[0;32m<ipython-input-4-40d9508d3021>\u001b[0m in \u001b[0;36mlog_p\u001b[0;34m(beta, mu, theta1, theta2, theta, Y, X, C, MPsi)\u001b[0m\n\u001b[1;32m     54\u001b[0m     \u001b[0malpha\u001b[0m \u001b[0;34m=\u001b[0m \u001b[0mbeta\u001b[0m\u001b[0;34m[\u001b[0m\u001b[0;36m1\u001b[0m\u001b[0;34m:\u001b[0m\u001b[0;34m]\u001b[0m\u001b[0;34m\u001b[0m\u001b[0;34m\u001b[0m\u001b[0m\n\u001b[1;32m     55\u001b[0m \u001b[0;34m\u001b[0m\u001b[0m\n\u001b[0;32m---> 56\u001b[0;31m     \u001b[0;32mreturn\u001b[0m \u001b[0mlogp_mu\u001b[0m\u001b[0;34m(\u001b[0m\u001b[0mmu\u001b[0m\u001b[0;34m)\u001b[0m \u001b[0;34m+\u001b[0m \u001b[0mlogp_alpha\u001b[0m\u001b[0;34m(\u001b[0m\u001b[0malpha\u001b[0m\u001b[0;34m,\u001b[0m \u001b[0mtheta\u001b[0m\u001b[0;34m)\u001b[0m\u001b[0;34m+\u001b[0m \u001b[0mlogp_f_0\u001b[0m\u001b[0;34m(\u001b[0m\u001b[0mbeta\u001b[0m\u001b[0;34m[\u001b[0m\u001b[0;36m0\u001b[0m\u001b[0;34m]\u001b[0m\u001b[0;34m,\u001b[0m \u001b[0mtheta1\u001b[0m\u001b[0;34m,\u001b[0m \u001b[0mtheta2\u001b[0m\u001b[0;34m)\u001b[0m\u001b[0;34m+\u001b[0m\u001b[0mlog_likelihood\u001b[0m\u001b[0;34m(\u001b[0m\u001b[0mf_0\u001b[0m\u001b[0;34m,\u001b[0m \u001b[0malpha\u001b[0m\u001b[0;34m,\u001b[0m \u001b[0mY\u001b[0m\u001b[0;34m,\u001b[0m \u001b[0mX\u001b[0m\u001b[0;34m,\u001b[0m \u001b[0mC\u001b[0m\u001b[0;34m,\u001b[0m \u001b[0mmu\u001b[0m\u001b[0;34m,\u001b[0m \u001b[0mMPsi\u001b[0m\u001b[0;34m)\u001b[0m\u001b[0;34m\u001b[0m\u001b[0;34m\u001b[0m\u001b[0m\n\u001b[0m\u001b[1;32m     57\u001b[0m \u001b[0;34m\u001b[0m\u001b[0m\n\u001b[1;32m     58\u001b[0m \u001b[0;34m\u001b[0m\u001b[0m\n",
      "\u001b[0;32m<ipython-input-4-40d9508d3021>\u001b[0m in \u001b[0;36mlog_likelihood\u001b[0;34m(f_0, alpha, Y, X, C, mu, MPsi)\u001b[0m\n\u001b[1;32m      9\u001b[0m \u001b[0;34m\u001b[0m\u001b[0m\n\u001b[1;32m     10\u001b[0m \u001b[0;34m\u001b[0m\u001b[0m\n\u001b[0;32m---> 11\u001b[0;31m         \u001b[0msigma2\u001b[0m \u001b[0;34m=\u001b[0m \u001b[0mf\u001b[0m\u001b[0;34m(\u001b[0m\u001b[0mC\u001b[0m\u001b[0;34m[\u001b[0m\u001b[0mi\u001b[0m\u001b[0;34m]\u001b[0m\u001b[0;34m,\u001b[0m \u001b[0mf_0\u001b[0m\u001b[0;34m,\u001b[0m \u001b[0malpha\u001b[0m\u001b[0;34m,\u001b[0m \u001b[0mMPsi\u001b[0m\u001b[0;34m[\u001b[0m\u001b[0mi\u001b[0m\u001b[0;34m]\u001b[0m\u001b[0;34m)\u001b[0m\u001b[0;34m\u001b[0m\u001b[0;34m\u001b[0m\u001b[0m\n\u001b[0m\u001b[1;32m     12\u001b[0m \u001b[0;34m\u001b[0m\u001b[0m\n\u001b[1;32m     13\u001b[0m \u001b[0;34m\u001b[0m\u001b[0m\n",
      "\u001b[0;32m<ipython-input-3-c72e4ca28039>\u001b[0m in \u001b[0;36mf\u001b[0;34m(x, f_0, alpha, MPsi)\u001b[0m\n\u001b[1;32m     92\u001b[0m \u001b[0;34m\u001b[0m\u001b[0m\n\u001b[1;32m     93\u001b[0m \u001b[0;34m\u001b[0m\u001b[0m\n\u001b[0;32m---> 94\u001b[0;31m     \u001b[0;32mreturn\u001b[0m \u001b[0mf_0\u001b[0m \u001b[0;34m+\u001b[0m \u001b[0malpha\u001b[0m\u001b[0;34m.\u001b[0m\u001b[0mT\u001b[0m\u001b[0;34m@\u001b[0m \u001b[0;34m(\u001b[0m\u001b[0mMPsi\u001b[0m\u001b[0;34m@\u001b[0m\u001b[0malpha\u001b[0m\u001b[0;34m)\u001b[0m\u001b[0;34m\u001b[0m\u001b[0;34m\u001b[0m\u001b[0m\n\u001b[0m\u001b[1;32m     95\u001b[0m \u001b[0;34m\u001b[0m\u001b[0m\n\u001b[1;32m     96\u001b[0m \u001b[0;34m\u001b[0m\u001b[0m\n",
      "\u001b[0;31mValueError\u001b[0m: matmul: Input operand 1 has a mismatch in its core dimension 0, with gufunc signature (n?,k),(k,m?)->(n?,m?) (size 8 is different from 10)"
     ]
    }
   ],
   "source": [
    "\n",
    "\n",
    "\n",
    "\n",
    "\n",
    "# previous experiments\n",
    "def g(c, w_0=0.5, w_1=7, w_2 = 10):\n",
    "    return w_0 ** 2 + (w_1 ** 2) * c + w_2 *c**2\n",
    "\n",
    "num_samples = 20\n",
    "mu = 3\n",
    "\n",
    "w_0 = 1.1\n",
    "w_1 = 2\n",
    "w_2 = 0.1\n",
    "w = np.array([w_0, w_1, w_2]).squeeze()\n",
    "\n",
    "X = np.linspace(0,1, num_samples)\n",
    "\n",
    "exp_mean = np.zeros((5,15))\n",
    "alg_mean = np.zeros((5,15))\n",
    "good_mean = np.zeros((5,15))\n",
    "second_alg = np.zeros((5,15))\n",
    "\n",
    "\n",
    "\n",
    "K = np.zeros((num_samples, num_samples))\n",
    "\n",
    "for i in range(num_samples):\n",
    "    for j in range(num_samples):\n",
    "        K[i,j] = ker(X[i], X[j])\n",
    "\n",
    "\n",
    "beta_0 = np.array([0.4, 0.4, 1.0, 0.4, 0.4, 0.4, 0.5, 0.6, 1, 2]) +10\n",
    "\n",
    "alpha_alg = np.zeros((5, 15, len(beta_0) - 1))\n",
    "\n",
    "\n",
    "\n",
    "\n",
    "for i in range(5):\n",
    "    \n",
    "    for j in range(15):\n",
    "    \n",
    "        good_points = 4*(i+1)\n",
    "\n",
    "\n",
    "\n",
    "        C = np.concatenate(  (np.random.uniform(0.5, 1.5, size = good_points), np.random.uniform(2., 6., size = num_samples - good_points) ) )\n",
    "\n",
    "        sigma2 = g(C, *w)\n",
    "\n",
    "        eps = []\n",
    "\n",
    "        for sigma in sigma2:\n",
    "            assert sigma > 0, f'Sigma is {sigma}'\n",
    "            noise = norm(scale=sigma ** 0.5).rvs(1)\n",
    "            eps.append(noise)\n",
    "\n",
    "        eps = np.array(eps).squeeze()\n",
    "        assert eps.shape == (num_samples,)\n",
    "        Y = mu + eps\n",
    "        \n",
    "        exp_mean[i, j] = np.mean(Y) \n",
    "        good_mean[i,j] = np.mean(Y[0:good_points])\n",
    "        \n",
    "        \n",
    "        MPsi = []\n",
    "\n",
    "        for k in range(len(C)):\n",
    "    \n",
    "            MPsi.append(Psi(C[k],L, N))\n",
    "        \n",
    "        to_opti = lambda beta: -log_p(beta[1:], beta[0], theta1, theta2, theta, Y, X, C, MPsi)\n",
    "\n",
    "\n",
    "        nab_p = lambda beta: grad(to_opti)(beta)\n",
    "        \n",
    "        beta = minimize(to_opti, beta_0 , jac=nab_p, method='Newton-CG').x\n",
    "        \n",
    "        aproximation = np.zeros(len(C))\n",
    "\n",
    "\n",
    "        for l in range(num_samples):\n",
    "    \n",
    "            aproximation[l] = f(C[l], np.exp(beta[1]), beta[2:], MPsi[l])\n",
    "    \n",
    "        \n",
    "        \n",
    "        alg_mean[i,j] = beta[0]\n",
    "        \n",
    "        alpha_alg[i,j,:] = beta[1:]\n",
    "        \n",
    "        second_alg[i,j] = second_aprox(Y, aproximation)\n"
   ]
  },
  {
   "cell_type": "code",
   "execution_count": null,
   "metadata": {},
   "outputs": [],
   "source": [
    "error_alg_20 = np.mean(np.absolute(alg_mean - mu)/mu, axis = 1)\n",
    "error_exp_20 = np.mean(np.absolute(exp_mean - mu)/mu, axis = 1)\n",
    "error_good_20 = np.mean(np.absolute(good_mean - mu)/mu, axis = 1)\n",
    "error_second_20 = np.mean(np.absolute(second_alg - mu)/mu, axis = 1)\n",
    "\n",
    "\n",
    "percentage = np.array([4, 8, 12, 16,20])/20 \n",
    "\n",
    "fig, ax = plt.subplots()\n",
    "ax.plot(percentage, error_alg_20, c = 'b', label = 'MPE')\n",
    "ax.plot(percentage, error_exp_20, c = 'k', label = 'Experimental mean')\n",
    "ax.plot(percentage, error_good_20, c = 'r', label = 'Experimental mean of good samples')\n",
    "ax.plot(percentage, error_second_20, c = 'g', label = 'With approx. of the variance')\n",
    "\n",
    "ax.legend()\n",
    "ax.set(xlabel='Percentage of good points', ylabel='$E[| \\mu - \\hat{\\mu}| ]/\\mu$',\n",
    "       title='Error in estimated $\\mu$')\n"
   ]
  },
  {
   "cell_type": "code",
   "execution_count": null,
   "metadata": {},
   "outputs": [],
   "source": [
    "# plt.plot(error_alg_40, c = 'b')\n",
    "# plt.plot(error_exp_40, c = 'k')\n",
    "# plt.plot(error_good_40, c = 'r')"
   ]
  },
  {
   "cell_type": "code",
   "execution_count": null,
   "metadata": {},
   "outputs": [],
   "source": []
  }
 ],
 "metadata": {
  "kernelspec": {
   "display_name": "Python 3",
   "language": "python",
   "name": "python3"
  },
  "language_info": {
   "codemirror_mode": {
    "name": "ipython",
    "version": 3
   },
   "file_extension": ".py",
   "mimetype": "text/x-python",
   "name": "python",
   "nbconvert_exporter": "python",
   "pygments_lexer": "ipython3",
   "version": "3.7.4"
  }
 },
 "nbformat": 4,
 "nbformat_minor": 2
}
