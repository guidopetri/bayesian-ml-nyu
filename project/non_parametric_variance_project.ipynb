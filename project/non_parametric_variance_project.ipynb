{
 "cells": [
  {
   "cell_type": "code",
   "execution_count": 145,
   "metadata": {},
   "outputs": [],
   "source": [
    "import autograd.numpy as np  # Thinly-wrapped numpy\n",
    "from autograd import grad    # The only autograd function you may ever need\n",
    "from autograd import jacobian  \n",
    "from autograd import elementwise_grad as egrad \n",
    "from scipy.special import gamma\n",
    "from scipy.stats import norm, multivariate_normal\n",
    "import matplotlib.pyplot as plt\n",
    "from scipy.optimize import minimize\n",
    "from pyhmc import hmc"
   ]
  },
  {
   "cell_type": "code",
   "execution_count": 146,
   "metadata": {},
   "outputs": [
    {
     "data": {
      "text/plain": [
       "array([1., 2.])"
      ]
     },
     "execution_count": 146,
     "metadata": {},
     "output_type": "execute_result"
    }
   ],
   "source": [
    "def tanh(x,z):\n",
    "    \n",
    "    y = np.exp(-2.0*x*z)\n",
    "    return (1.0 - y) / (1.0 + y)\n",
    "\n",
    "\n",
    "def plano(x, param):\n",
    "    \n",
    "    \n",
    "    return x[0]+2*x[1]+param\n",
    "\n",
    "x = np.linspace(-7, 7, 200)\n",
    "\n",
    "grad(plano)(np.array([0.4, 0.3]), 0.5)\n"
   ]
  },
  {
   "cell_type": "code",
   "execution_count": 147,
   "metadata": {},
   "outputs": [],
   "source": [
    "L = 20.0\n",
    "\n",
    "def S(tau, theta):\n",
    "    \n",
    "    return theta[0]*np.exp(tau**2/theta[1])\n",
    "\n",
    "def Lambda(n,L):\n",
    "    return (n+1)*np.pi/(2*L)\n",
    "\n",
    "def gamma_plus(i,j,L):\n",
    "    \n",
    "    return Lambda(i,L) + Lambda(j,L)\n",
    "\n",
    "def gamma_minus(i,j,L):\n",
    "    \n",
    "    return Lambda(i,L) - Lambda(j,L)\n",
    "\n",
    "# def psi(x,i,j,L):\n",
    "    \n",
    "#     if i==j:\n",
    "        \n",
    "#         return 1/(2*L)*(x+L) - np.sin(gamma_plus(j,j,L)*(x+L) )/(2*L*gamma_plus(j,j,L))\n",
    "    \n",
    "#     else:\n",
    "        \n",
    "#          return np.sin(gamma_minus(i,j,L)*(x+L) )/(2*L*gamma_minus(i,j,L)) - np.sin(gamma_plus(i,j,L)*(x+L) )/(2*L*gamma_plus(i,j,L))\n",
    "\n",
    "        \n",
    "def psi(x,i,j,L):\n",
    "    \n",
    "    if i==j:\n",
    "        \n",
    "        t1 = 1/(2*L)*x\n",
    "        t2 = np.sin(gamma_plus(j,j,L)*(x+L) )/(2*L*gamma_plus(j,j,L)) - np.sin(gamma_plus(j,j,L)*(L) )/(2*L*gamma_plus(j,j,L))\n",
    "        \n",
    "        return t1 - t2\n",
    "    \n",
    "    else:\n",
    "        \n",
    "        t1 = np.sin(gamma_minus(i,j,L)*(x+L) )/(2*L*gamma_minus(i,j,L)) - np.sin(gamma_minus(i,j,L)*(L) )/(2*L*gamma_minus(i,j,L))\n",
    "        t2 = np.sin(gamma_plus(i,j,L)*(x+L) )/(2*L*gamma_plus(i,j,L)) - np.sin(gamma_plus(i,j,L)*(L) )/(2*L*gamma_plus(i,j,L))\n",
    "\n",
    "        return t1 - t2\n",
    "\n",
    "        \n",
    "def Psi(x,L, N):\n",
    "\n",
    "    MPsi = np.zeros((N,N))\n",
    "    for i in range(0,N):\n",
    "        for j in range(0,N):\n",
    "            MPsi[i,j] = psi(x,i,j,L)\n",
    "            \n",
    "    return MPsi\n",
    "        \n",
    "        \n",
    "def g(x, f_0, alpha):\n",
    "    \n",
    "    MPsi = Psi(x,L, len(alpha))\n",
    "    \n",
    "    return f_0 + alpha.T@ (MPsi@alpha)\n",
    "\n",
    "\n",
    "def f(x, f_0, alpha):\n",
    "    \n",
    "    N = len(alpha)\n",
    "    \n",
    "    #MPsi = Psi(x,L, N)\n",
    "    \n",
    "    quad = 0\n",
    "    \n",
    "    \n",
    "    for i in range(0,N):\n",
    "        for j in range(0,N):\n",
    "            quad = psi(x,i,j,L) * alpha[i] * alpha[j]\n",
    "    \n",
    "    \n",
    "    return f_0 + quad#alpha.T@ (MPsi@alpha)\n",
    "\n",
    "\n",
    "def f(x, f_0, alpha, MPsi):\n",
    "    \n",
    "#     N = len(alpha)\n",
    "    \n",
    "    #MPsi = Psi(x,L, N)\n",
    "    \n",
    "#     quad = 0\n",
    "    \n",
    "    \n",
    "#     for i in range(0,N):\n",
    "#         for j in range(0,N):\n",
    "#             quad = psi(x,i,j,L) * alpha[i] * alpha[j]\n",
    "    \n",
    "    \n",
    "    return f_0 + alpha.T@ (MPsi@alpha)\n",
    "\n",
    "\n",
    "    \n",
    "def Pre_Mat(N, theta):\n",
    "    \n",
    "    u = np.zeros(N)\n",
    "    \n",
    "    for i in range(N):\n",
    "        \n",
    "        u[i] = 1/S(Lambda(i, L), theta)\n",
    "        \n",
    "    return np.diag(u)\n",
    "\n",
    "\n",
    "def ker(x,y):\n",
    "    \n",
    "    return 1.0 +x*y*0\n",
    "\n",
    "\n"
   ]
  },
  {
   "cell_type": "code",
   "execution_count": 148,
   "metadata": {},
   "outputs": [],
   "source": [
    "def log_likelihood(f_0, alpha, Y, X, C, mu, MPsi):\n",
    "    \n",
    "#     f_0 = beta[0]\n",
    "#     alpha = beta[1:]\n",
    "  \n",
    "    l = 0\n",
    "    \n",
    "    for i in range(len(Y)):\n",
    "        \n",
    "\n",
    "        sigma2 = f(C[i], f_0, alpha, MPsi[i])\n",
    "        \n",
    "                \n",
    "        l += -( mu - Y[i]  )**2/sigma2 - np.log(sigma2)\n",
    "    \n",
    "    \n",
    "    return l\n",
    "\n",
    "def logp_f_0(log_f, theta1, theta2):\n",
    "    \n",
    "    f_0 = np.exp(log_f)\n",
    "    \n",
    "    #return - (f_0-theta1)**2/theta2\n",
    "    \n",
    "    \n",
    "    return  (theta1 -1)*log_f - theta2*np.exp(log_f) #+ theta1*np.log(theta2) - np.log(gamma(theta1))\n",
    "\n",
    "def logp_alpha(alpha, theta):\n",
    "    \n",
    "    \n",
    "    l = 0\n",
    "    \n",
    "    for i in range(len(alpha)):\n",
    "        \n",
    "        if S(Lambda(i,L), theta) <= 0.0:\n",
    "            print('Problema en S')\n",
    "        \n",
    "        l += -0.5*(alpha[i]**2/ S(Lambda(i,L), theta )) - 0.5*np.log(S(Lambda(i,L),theta ))\n",
    "    \n",
    "    return l\n",
    "\n",
    "\n",
    "def logp_mu(mu):\n",
    "    \n",
    "    return -0.5*mu**2/1 - 0.5*np.log(1)\n",
    "\n",
    "\n",
    "def log_p(beta, mu, theta1, theta2, theta, Y,X, C, MPsi):\n",
    "    \n",
    "    f_0 = np.exp(beta[0]) \n",
    "    alpha = beta[1:]\n",
    "    \n",
    "    return logp_mu(mu) + logp_alpha(alpha, theta)+ logp_f_0(beta[0], theta1, theta2)+log_likelihood(f_0, alpha, Y, X, C, mu, MPsi)\n",
    "\n",
    "\n"
   ]
  },
  {
   "cell_type": "code",
   "execution_count": 149,
   "metadata": {},
   "outputs": [],
   "source": [
    "#Gaussian process in the param\n",
    "\n",
    "# def log_likelihood_GP(f_0, alpha, Y, K, C):\n",
    "    \n",
    "#     f_0 = beta[0]\n",
    "#     alpha = beta[1:]\n",
    "  \n",
    "\n",
    "    \n",
    "#     D = np.zeros(len(C))\n",
    "    \n",
    "\n",
    "#     for i in range(len(C)):\n",
    "#         #we add a little noise to the diagonal to ensure PD of the matrix\n",
    "# #         f(C[i], f_0, alpha)\n",
    "# #         print(A[i,i], i)\n",
    "#         e_i = np.zeros(len(C))\n",
    "#         e_i[i] = 1.0\n",
    "#         D += (f(C[i], f_0, alpha) + 0.0001)*e_i\n",
    "#         A[i,i] += 0.0001\n",
    "    \n",
    "#     A = K + np.eye(len(C))*D\n",
    "    \n",
    "    \n",
    "    \n",
    "#     x = np.linalg.solve(A, Y)\n",
    "    \n",
    "    \n",
    "#     return -0.5*np.dot(Y,x) - 0.5*np.log(np.linalg.det(A))\n",
    "    \n",
    "\n",
    "\n",
    "# def log_p_GP(beta, theta1, theta2, theta, Y,K, C):\n",
    "    \n",
    "#     f_0 = beta[0] \n",
    "#     alpha = beta[1:]\n",
    "    \n",
    "#     return logp_alpha(alpha, theta)+ logp_f_0(f_0, theta1, theta2)+log_likelihood_GP(f_0, alpha, Y, K, C)\n",
    "\n",
    "\n"
   ]
  },
  {
   "cell_type": "code",
   "execution_count": 150,
   "metadata": {},
   "outputs": [],
   "source": [
    "# def g(c):\n",
    "#     return np.array([c ** 0, c, c ** 2]).squeeze()\n",
    "\n",
    "def g(c, w_0=0.5, w_1=7, w_2 = 10):\n",
    "    return w_0 ** 2 + (w_1 ** 2) * c + w_2 *c**2\n",
    "\n",
    "w_0 = 1.1\n",
    "w_1 = 2\n",
    "w_2 = 0.1\n",
    "w = np.array([w_0, w_1, w_2]).squeeze()\n",
    "\n",
    "num_samples = 20\n",
    "mu = 3\n",
    "\n",
    "\n",
    "X = np.linspace(0,1, num_samples)\n",
    "\n",
    "C = np.concatenate(  (np.random.uniform(0.5, 1.5, size = 10), np.random.uniform(2., 6., size = num_samples - 10) ) )\n",
    "\n",
    "\n",
    "sigma2 = g(C, *w)\n",
    "\n",
    "\n",
    "eps = []\n",
    "\n",
    "for sigma in sigma2:\n",
    "    assert sigma > 0, f'Sigma is {sigma}'\n",
    "    noise = norm(scale=sigma ** 0.5).rvs(1)\n",
    "    eps.append(noise)\n",
    "\n",
    "eps = np.array(eps).squeeze()\n",
    "assert eps.shape == (num_samples,)\n",
    "Y = mu + eps"
   ]
  },
  {
   "cell_type": "code",
   "execution_count": 151,
   "metadata": {},
   "outputs": [
    {
     "data": {
      "text/plain": [
       "<matplotlib.collections.PathCollection at 0x7f8a474ac950>"
      ]
     },
     "execution_count": 151,
     "metadata": {},
     "output_type": "execute_result"
    },
    {
     "data": {
      "image/png": "[encoded data removed]",
      "text/plain": [
       "<Figure size 432x288 with 1 Axes>"
      ]
     },
     "metadata": {
      "needs_background": "light"
     },
     "output_type": "display_data"
    }
   ],
   "source": [
    "plt.scatter(C, sigma2)"
   ]
  },
  {
   "cell_type": "code",
   "execution_count": 152,
   "metadata": {},
   "outputs": [],
   "source": [
    "# diagonal = np.zeros(len(C))\n",
    "\n",
    "# for i in range(len(diagonal)):\n",
    "#     diagonal[i] = f(C[i], 0.3, np.array([0.1, 0.2, 1.]))\n",
    "    \n",
    "# F = np.diag(diagonal)\n",
    "\n"
   ]
  },
  {
   "cell_type": "code",
   "execution_count": 153,
   "metadata": {},
   "outputs": [
    {
     "name": "stdout",
     "output_type": "stream",
     "text": [
      "0.14148974418640137\n"
     ]
    }
   ],
   "source": [
    "#Hyper Parameters\n",
    "import time\n",
    "\n",
    "t0 = time.time()\n",
    "\n",
    "theta1 = 0.0\n",
    "theta2 = 3.\n",
    "theta = np.array([20., 1.0])\n",
    "\n",
    "#Hyper mean\n",
    "\n",
    "mu = 3.1\n",
    "\n",
    "\n",
    "# Kernel of the GP\n",
    "\n",
    "K = np.zeros((num_samples, num_samples))\n",
    "\n",
    "for i in range(num_samples):\n",
    "    for j in range(num_samples):\n",
    "        K[i,j] = ker(X[i], X[j])\n",
    "\n",
    "\n",
    "beta_0 = np.array([0.4, 0.4, 1.0, 0.4, 0.4, 0.4, 0.5, 0.6, 1, 2]) +10\n",
    "N = len(beta_0) - 2\n",
    "\n",
    "# log_p(beta_0, 0.4, 0.4, 0.5, np.array([0.4, 0.4]), Y, X, C)\n",
    "\n",
    "MPsi = []\n",
    "\n",
    "for i in range(len(C)):\n",
    "    \n",
    "    MPsi.append(Psi(C[i],L, N))\n",
    "\n",
    "    \n",
    "to_opti = lambda beta: -log_p(beta[1:], beta[0], theta1, theta2, theta, Y, X, C, MPsi)\n",
    "to_sample = lambda beta: log_p(beta[1:], beta[0], theta1, theta2, theta, Y, X, C, MPsi)\n",
    "\n",
    "\n",
    "nab_p = lambda beta: grad(to_sample)(beta)\n",
    "\n",
    "# print(np.shape(MPsi[0]))\n",
    "# print(to_opti(beta_0))\n",
    "\n",
    "# nab_f = lambda x: grad(f)(0.4, x[0], x[1:])\n",
    "\n",
    "\n",
    "beta = minimize(to_opti, beta_0 , jac=nab_p, method='Newton-CG').x\n",
    "\n",
    "print(time.time() - t0)\n"
   ]
  },
  {
   "cell_type": "code",
   "execution_count": 155,
   "metadata": {},
   "outputs": [
    {
     "data": {
      "text/plain": [
       "array([10.4, 10.4, 11. , 10.4, 10.4, 10.4, 10.5, 10.6, 11. , 12. ])"
      ]
     },
     "execution_count": 155,
     "metadata": {},
     "output_type": "execute_result"
    }
   ],
   "source": [
    "beta"
   ]
  },
  {
   "cell_type": "code",
   "execution_count": null,
   "metadata": {},
   "outputs": [],
   "source": []
  },
  {
   "cell_type": "code",
   "execution_count": 134,
   "metadata": {},
   "outputs": [],
   "source": [
    "def lobprob(beta):\n",
    "    return to_sample(beta), grad(to_opti)(beta)"
   ]
  },
  {
   "cell_type": "code",
   "execution_count": 139,
   "metadata": {},
   "outputs": [],
   "source": [
    "samples = hmc(logprob, x0=beta, n_samples=100, epsilon=.2)"
   ]
  },
  {
   "cell_type": "code",
   "execution_count": 140,
   "metadata": {},
   "outputs": [
    {
     "data": {
      "text/plain": [
       "array([[10.4, 10.4, 11. , 10.4, 10.4, 10.4, 10.5, 10.6, 11. , 12. ],\n",
       "       [10.4, 10.4, 11. , 10.4, 10.4, 10.4, 10.5, 10.6, 11. , 12. ],\n",
       "       [10.4, 10.4, 11. , 10.4, 10.4, 10.4, 10.5, 10.6, 11. , 12. ],\n",
       "       [10.4, 10.4, 11. , 10.4, 10.4, 10.4, 10.5, 10.6, 11. , 12. ],\n",
       "       [10.4, 10.4, 11. , 10.4, 10.4, 10.4, 10.5, 10.6, 11. , 12. ],\n",
       "       [10.4, 10.4, 11. , 10.4, 10.4, 10.4, 10.5, 10.6, 11. , 12. ],\n",
       "       [10.4, 10.4, 11. , 10.4, 10.4, 10.4, 10.5, 10.6, 11. , 12. ],\n",
       "       [10.4, 10.4, 11. , 10.4, 10.4, 10.4, 10.5, 10.6, 11. , 12. ],\n",
       "       [10.4, 10.4, 11. , 10.4, 10.4, 10.4, 10.5, 10.6, 11. , 12. ],\n",
       "       [10.4, 10.4, 11. , 10.4, 10.4, 10.4, 10.5, 10.6, 11. , 12. ],\n",
       "       [10.4, 10.4, 11. , 10.4, 10.4, 10.4, 10.5, 10.6, 11. , 12. ],\n",
       "       [10.4, 10.4, 11. , 10.4, 10.4, 10.4, 10.5, 10.6, 11. , 12. ],\n",
       "       [10.4, 10.4, 11. , 10.4, 10.4, 10.4, 10.5, 10.6, 11. , 12. ],\n",
       "       [10.4, 10.4, 11. , 10.4, 10.4, 10.4, 10.5, 10.6, 11. , 12. ],\n",
       "       [10.4, 10.4, 11. , 10.4, 10.4, 10.4, 10.5, 10.6, 11. , 12. ],\n",
       "       [10.4, 10.4, 11. , 10.4, 10.4, 10.4, 10.5, 10.6, 11. , 12. ],\n",
       "       [10.4, 10.4, 11. , 10.4, 10.4, 10.4, 10.5, 10.6, 11. , 12. ],\n",
       "       [10.4, 10.4, 11. , 10.4, 10.4, 10.4, 10.5, 10.6, 11. , 12. ],\n",
       "       [10.4, 10.4, 11. , 10.4, 10.4, 10.4, 10.5, 10.6, 11. , 12. ],\n",
       "       [10.4, 10.4, 11. , 10.4, 10.4, 10.4, 10.5, 10.6, 11. , 12. ],\n",
       "       [10.4, 10.4, 11. , 10.4, 10.4, 10.4, 10.5, 10.6, 11. , 12. ],\n",
       "       [10.4, 10.4, 11. , 10.4, 10.4, 10.4, 10.5, 10.6, 11. , 12. ],\n",
       "       [10.4, 10.4, 11. , 10.4, 10.4, 10.4, 10.5, 10.6, 11. , 12. ],\n",
       "       [10.4, 10.4, 11. , 10.4, 10.4, 10.4, 10.5, 10.6, 11. , 12. ],\n",
       "       [10.4, 10.4, 11. , 10.4, 10.4, 10.4, 10.5, 10.6, 11. , 12. ],\n",
       "       [10.4, 10.4, 11. , 10.4, 10.4, 10.4, 10.5, 10.6, 11. , 12. ],\n",
       "       [10.4, 10.4, 11. , 10.4, 10.4, 10.4, 10.5, 10.6, 11. , 12. ],\n",
       "       [10.4, 10.4, 11. , 10.4, 10.4, 10.4, 10.5, 10.6, 11. , 12. ],\n",
       "       [10.4, 10.4, 11. , 10.4, 10.4, 10.4, 10.5, 10.6, 11. , 12. ],\n",
       "       [10.4, 10.4, 11. , 10.4, 10.4, 10.4, 10.5, 10.6, 11. , 12. ],\n",
       "       [10.4, 10.4, 11. , 10.4, 10.4, 10.4, 10.5, 10.6, 11. , 12. ],\n",
       "       [10.4, 10.4, 11. , 10.4, 10.4, 10.4, 10.5, 10.6, 11. , 12. ],\n",
       "       [10.4, 10.4, 11. , 10.4, 10.4, 10.4, 10.5, 10.6, 11. , 12. ],\n",
       "       [10.4, 10.4, 11. , 10.4, 10.4, 10.4, 10.5, 10.6, 11. , 12. ],\n",
       "       [10.4, 10.4, 11. , 10.4, 10.4, 10.4, 10.5, 10.6, 11. , 12. ],\n",
       "       [10.4, 10.4, 11. , 10.4, 10.4, 10.4, 10.5, 10.6, 11. , 12. ],\n",
       "       [10.4, 10.4, 11. , 10.4, 10.4, 10.4, 10.5, 10.6, 11. , 12. ],\n",
       "       [10.4, 10.4, 11. , 10.4, 10.4, 10.4, 10.5, 10.6, 11. , 12. ],\n",
       "       [10.4, 10.4, 11. , 10.4, 10.4, 10.4, 10.5, 10.6, 11. , 12. ],\n",
       "       [10.4, 10.4, 11. , 10.4, 10.4, 10.4, 10.5, 10.6, 11. , 12. ],\n",
       "       [10.4, 10.4, 11. , 10.4, 10.4, 10.4, 10.5, 10.6, 11. , 12. ],\n",
       "       [10.4, 10.4, 11. , 10.4, 10.4, 10.4, 10.5, 10.6, 11. , 12. ],\n",
       "       [10.4, 10.4, 11. , 10.4, 10.4, 10.4, 10.5, 10.6, 11. , 12. ],\n",
       "       [10.4, 10.4, 11. , 10.4, 10.4, 10.4, 10.5, 10.6, 11. , 12. ],\n",
       "       [10.4, 10.4, 11. , 10.4, 10.4, 10.4, 10.5, 10.6, 11. , 12. ],\n",
       "       [10.4, 10.4, 11. , 10.4, 10.4, 10.4, 10.5, 10.6, 11. , 12. ],\n",
       "       [10.4, 10.4, 11. , 10.4, 10.4, 10.4, 10.5, 10.6, 11. , 12. ],\n",
       "       [10.4, 10.4, 11. , 10.4, 10.4, 10.4, 10.5, 10.6, 11. , 12. ],\n",
       "       [10.4, 10.4, 11. , 10.4, 10.4, 10.4, 10.5, 10.6, 11. , 12. ],\n",
       "       [10.4, 10.4, 11. , 10.4, 10.4, 10.4, 10.5, 10.6, 11. , 12. ],\n",
       "       [10.4, 10.4, 11. , 10.4, 10.4, 10.4, 10.5, 10.6, 11. , 12. ],\n",
       "       [10.4, 10.4, 11. , 10.4, 10.4, 10.4, 10.5, 10.6, 11. , 12. ],\n",
       "       [10.4, 10.4, 11. , 10.4, 10.4, 10.4, 10.5, 10.6, 11. , 12. ],\n",
       "       [10.4, 10.4, 11. , 10.4, 10.4, 10.4, 10.5, 10.6, 11. , 12. ],\n",
       "       [10.4, 10.4, 11. , 10.4, 10.4, 10.4, 10.5, 10.6, 11. , 12. ],\n",
       "       [10.4, 10.4, 11. , 10.4, 10.4, 10.4, 10.5, 10.6, 11. , 12. ],\n",
       "       [10.4, 10.4, 11. , 10.4, 10.4, 10.4, 10.5, 10.6, 11. , 12. ],\n",
       "       [10.4, 10.4, 11. , 10.4, 10.4, 10.4, 10.5, 10.6, 11. , 12. ],\n",
       "       [10.4, 10.4, 11. , 10.4, 10.4, 10.4, 10.5, 10.6, 11. , 12. ],\n",
       "       [10.4, 10.4, 11. , 10.4, 10.4, 10.4, 10.5, 10.6, 11. , 12. ],\n",
       "       [10.4, 10.4, 11. , 10.4, 10.4, 10.4, 10.5, 10.6, 11. , 12. ],\n",
       "       [10.4, 10.4, 11. , 10.4, 10.4, 10.4, 10.5, 10.6, 11. , 12. ],\n",
       "       [10.4, 10.4, 11. , 10.4, 10.4, 10.4, 10.5, 10.6, 11. , 12. ],\n",
       "       [10.4, 10.4, 11. , 10.4, 10.4, 10.4, 10.5, 10.6, 11. , 12. ],\n",
       "       [10.4, 10.4, 11. , 10.4, 10.4, 10.4, 10.5, 10.6, 11. , 12. ],\n",
       "       [10.4, 10.4, 11. , 10.4, 10.4, 10.4, 10.5, 10.6, 11. , 12. ],\n",
       "       [10.4, 10.4, 11. , 10.4, 10.4, 10.4, 10.5, 10.6, 11. , 12. ],\n",
       "       [10.4, 10.4, 11. , 10.4, 10.4, 10.4, 10.5, 10.6, 11. , 12. ],\n",
       "       [10.4, 10.4, 11. , 10.4, 10.4, 10.4, 10.5, 10.6, 11. , 12. ],\n",
       "       [10.4, 10.4, 11. , 10.4, 10.4, 10.4, 10.5, 10.6, 11. , 12. ],\n",
       "       [10.4, 10.4, 11. , 10.4, 10.4, 10.4, 10.5, 10.6, 11. , 12. ],\n",
       "       [10.4, 10.4, 11. , 10.4, 10.4, 10.4, 10.5, 10.6, 11. , 12. ],\n",
       "       [10.4, 10.4, 11. , 10.4, 10.4, 10.4, 10.5, 10.6, 11. , 12. ],\n",
       "       [10.4, 10.4, 11. , 10.4, 10.4, 10.4, 10.5, 10.6, 11. , 12. ],\n",
       "       [10.4, 10.4, 11. , 10.4, 10.4, 10.4, 10.5, 10.6, 11. , 12. ],\n",
       "       [10.4, 10.4, 11. , 10.4, 10.4, 10.4, 10.5, 10.6, 11. , 12. ],\n",
       "       [10.4, 10.4, 11. , 10.4, 10.4, 10.4, 10.5, 10.6, 11. , 12. ],\n",
       "       [10.4, 10.4, 11. , 10.4, 10.4, 10.4, 10.5, 10.6, 11. , 12. ],\n",
       "       [10.4, 10.4, 11. , 10.4, 10.4, 10.4, 10.5, 10.6, 11. , 12. ],\n",
       "       [10.4, 10.4, 11. , 10.4, 10.4, 10.4, 10.5, 10.6, 11. , 12. ],\n",
       "       [10.4, 10.4, 11. , 10.4, 10.4, 10.4, 10.5, 10.6, 11. , 12. ],\n",
       "       [10.4, 10.4, 11. , 10.4, 10.4, 10.4, 10.5, 10.6, 11. , 12. ],\n",
       "       [10.4, 10.4, 11. , 10.4, 10.4, 10.4, 10.5, 10.6, 11. , 12. ],\n",
       "       [10.4, 10.4, 11. , 10.4, 10.4, 10.4, 10.5, 10.6, 11. , 12. ],\n",
       "       [10.4, 10.4, 11. , 10.4, 10.4, 10.4, 10.5, 10.6, 11. , 12. ],\n",
       "       [10.4, 10.4, 11. , 10.4, 10.4, 10.4, 10.5, 10.6, 11. , 12. ],\n",
       "       [10.4, 10.4, 11. , 10.4, 10.4, 10.4, 10.5, 10.6, 11. , 12. ],\n",
       "       [10.4, 10.4, 11. , 10.4, 10.4, 10.4, 10.5, 10.6, 11. , 12. ],\n",
       "       [10.4, 10.4, 11. , 10.4, 10.4, 10.4, 10.5, 10.6, 11. , 12. ],\n",
       "       [10.4, 10.4, 11. , 10.4, 10.4, 10.4, 10.5, 10.6, 11. , 12. ],\n",
       "       [10.4, 10.4, 11. , 10.4, 10.4, 10.4, 10.5, 10.6, 11. , 12. ],\n",
       "       [10.4, 10.4, 11. , 10.4, 10.4, 10.4, 10.5, 10.6, 11. , 12. ],\n",
       "       [10.4, 10.4, 11. , 10.4, 10.4, 10.4, 10.5, 10.6, 11. , 12. ],\n",
       "       [10.4, 10.4, 11. , 10.4, 10.4, 10.4, 10.5, 10.6, 11. , 12. ],\n",
       "       [10.4, 10.4, 11. , 10.4, 10.4, 10.4, 10.5, 10.6, 11. , 12. ],\n",
       "       [10.4, 10.4, 11. , 10.4, 10.4, 10.4, 10.5, 10.6, 11. , 12. ],\n",
       "       [10.4, 10.4, 11. , 10.4, 10.4, 10.4, 10.5, 10.6, 11. , 12. ],\n",
       "       [10.4, 10.4, 11. , 10.4, 10.4, 10.4, 10.5, 10.6, 11. , 12. ],\n",
       "       [10.4, 10.4, 11. , 10.4, 10.4, 10.4, 10.5, 10.6, 11. , 12. ],\n",
       "       [10.4, 10.4, 11. , 10.4, 10.4, 10.4, 10.5, 10.6, 11. , 12. ]])"
      ]
     },
     "execution_count": 140,
     "metadata": {},
     "output_type": "execute_result"
    }
   ],
   "source": [
    "samples"
   ]
  },
  {
   "cell_type": "code",
   "execution_count": 37,
   "metadata": {},
   "outputs": [
    {
     "name": "stdout",
     "output_type": "stream",
     "text": [
      "[6.03618803 6.38435363 6.1514817  7.52878896 5.39144518 7.20483307\n",
      " 6.20300604 6.33157877 4.32656842 6.80429861 8.80189843 8.94064132\n",
      " 8.80218961 8.93141681 9.04423673 9.14778872 8.67962333 8.80594817\n",
      " 8.83120794 9.3696882 ]\n"
     ]
    }
   ],
   "source": [
    "aproximation = np.zeros(len(C))\n",
    "\n",
    "\n",
    "for i in range(num_samples):\n",
    "    \n",
    "    aproximation[i] = f(C[i], np.exp(beta[1]), beta[2:], MPsi[i])\n",
    "    \n",
    "print(aproximation)"
   ]
  },
  {
   "cell_type": "code",
   "execution_count": 38,
   "metadata": {},
   "outputs": [
    {
     "data": {
      "text/plain": [
       "[Text(0, 0.5, '$\\\\sigma^2$'),\n",
       " Text(0.5, 0, 'c score'),\n",
       " Text(0.5, 1.0, 'Reconstruction of $g(c)$')]"
      ]
     },
     "execution_count": 38,
     "metadata": {},
     "output_type": "execute_result"
    },
    {
     "data": {
      "image/png": "[encoded data removed]",
      "text/plain": [
       "<Figure size 432x288 with 1 Axes>"
      ]
     },
     "metadata": {
      "needs_background": "light"
     },
     "output_type": "display_data"
    }
   ],
   "source": [
    "fig, ax = plt.subplots()\n",
    "\n",
    "ax.scatter(C, sigma2, c='b', label = 'real variance')\n",
    "ax.scatter(C, aproximation, c = 'g', label = 'reconstructed variance')\n",
    "ax.legend()\n",
    "\n",
    "\n",
    "ax.set(xlabel='c score', ylabel='$\\sigma^2$', title='Reconstruction of $g(c)$')\n",
    "\n"
   ]
  },
  {
   "cell_type": "code",
   "execution_count": 39,
   "metadata": {},
   "outputs": [
    {
     "name": "stdout",
     "output_type": "stream",
     "text": [
      "[ 2.08488703e+00 -2.97515746e+04  3.11913259e+00  3.49199007e-01\n",
      " -2.77961098e+00 -5.36760481e-01  3.55185593e+00  2.63831940e+00\n",
      " -3.16420562e+00 -2.40212994e+00]\n"
     ]
    }
   ],
   "source": [
    "print(beta)"
   ]
  },
  {
   "cell_type": "code",
   "execution_count": 40,
   "metadata": {},
   "outputs": [
    {
     "name": "stdout",
     "output_type": "stream",
     "text": [
      "-0.27428960424364995\n",
      "-0.3050376551176681\n",
      "0.14217229589540784\n"
     ]
    }
   ],
   "source": [
    "print((np.mean(Y) - 3)/3)\n",
    "print((beta[0] -3)/3)\n",
    "print((np.mean(Y[:10]) -3 )/3)"
   ]
  },
  {
   "cell_type": "code",
   "execution_count": 41,
   "metadata": {},
   "outputs": [
    {
     "data": {
      "text/plain": [
       "2.4592130305298454"
      ]
     },
     "execution_count": 41,
     "metadata": {},
     "output_type": "execute_result"
    }
   ],
   "source": [
    "def second_aprox(Y, sigma2):\n",
    "    \n",
    "    pres = 1/sigma2\n",
    "    \n",
    "    tot = np.sum(pres)\n",
    "    \n",
    "    return 1/tot * np.dot(Y,pres)\n",
    "\n",
    "second_aprox(Y, aproximation)"
   ]
  },
  {
   "cell_type": "code",
   "execution_count": 42,
   "metadata": {},
   "outputs": [],
   "source": [
    "#Hyper Parameters\n",
    "\n",
    "# theta1 = 0.0\n",
    "# theta2 = 3.\n",
    "# theta = np.array([20., 1.0])\n",
    "\n",
    "\n",
    "\n",
    "# # Kernel of the GP\n",
    "\n",
    "# K = np.zeros((num_samples, num_samples))\n",
    "\n",
    "# for i in range(num_samples):\n",
    "#     for j in range(num_samples):\n",
    "#         K[i,j] = ker(X[i], X[j])\n",
    "\n",
    "\n",
    "# beta_0 = np.array([0.4, 0.4, 1.0, 0.4, 0.4, 0.4, 0.5, 0.6, 1, 2]) +10\n",
    "\n",
    "# log_p_GP(beta_0, 0.4, 0.4, 0.5, np.array([0.4, 0.4]), Y, X, C)\n",
    "\n",
    "# to_opti_GP = lambda beta: -log_p_GP(beta[1:], beta[0], theta1, theta2, theta, Y, K, C)\n",
    "\n",
    "\n",
    "# nab_p_GP = lambda beta: grad(to_opti_GP)(beta)\n",
    "# Hessian_p_GP = lambda beta: jacobian(nab_p_GP)(beta)\n",
    "\n",
    "# na_p_GP(beta_0)"
   ]
  },
  {
   "cell_type": "code",
   "execution_count": 44,
   "metadata": {},
   "outputs": [],
   "source": [
    "\n",
    "def g(c, w_0=0.5, w_1=7, w_2 = 10):\n",
    "    return w_0 ** 2 + (w_1 ** 2) * c + w_2 *c**2\n",
    "\n",
    "num_samples = 20\n",
    "mu = 3\n",
    "\n",
    "w_0 = 1.1\n",
    "w_1 = 2\n",
    "w_2 = 0.1\n",
    "w = np.array([w_0, w_1, w_2]).squeeze()\n",
    "\n",
    "X = np.linspace(0,1, num_samples)\n",
    "\n",
    "exp_mean = np.zeros((5,15))\n",
    "alg_mean = np.zeros((5,15))\n",
    "good_mean = np.zeros((5,15))\n",
    "second_alg = np.zeros((5,15))\n",
    "\n",
    "\n",
    "\n",
    "K = np.zeros((num_samples, num_samples))\n",
    "\n",
    "for i in range(num_samples):\n",
    "    for j in range(num_samples):\n",
    "        K[i,j] = ker(X[i], X[j])\n",
    "\n",
    "\n",
    "beta_0 = np.array([0.4, 0.4, 1.0, 0.4, 0.4, 0.4, 0.5, 0.6, 1, 2]) +10\n",
    "\n",
    "alpha_alg = np.zeros((5, 15, len(beta_0) - 1))\n",
    "\n",
    "\n",
    "\n",
    "\n",
    "for i in range(5):\n",
    "    \n",
    "    for j in range(15):\n",
    "    \n",
    "        good_points = 4*(i+1)\n",
    "\n",
    "\n",
    "\n",
    "        C = np.concatenate(  (np.random.uniform(0.5, 1.5, size = good_points), np.random.uniform(2., 6., size = num_samples - good_points) ) )\n",
    "\n",
    "        sigma2 = g(C, *w)\n",
    "\n",
    "        eps = []\n",
    "\n",
    "        for sigma in sigma2:\n",
    "            assert sigma > 0, f'Sigma is {sigma}'\n",
    "            noise = norm(scale=sigma ** 0.5).rvs(1)\n",
    "            eps.append(noise)\n",
    "\n",
    "        eps = np.array(eps).squeeze()\n",
    "        assert eps.shape == (num_samples,)\n",
    "        Y = mu + eps\n",
    "        \n",
    "        exp_mean[i, j] = np.mean(Y) \n",
    "        good_mean[i,j] = np.mean(Y[0:good_points])\n",
    "        \n",
    "        \n",
    "        MPsi = []\n",
    "\n",
    "        for k in range(len(C)):\n",
    "    \n",
    "            MPsi.append(Psi(C[k],L, N))\n",
    "        \n",
    "        to_opti = lambda beta: -log_p(beta[1:], beta[0], theta1, theta2, theta, Y, X, C, MPsi)\n",
    "\n",
    "\n",
    "        nab_p = lambda beta: grad(to_opti)(beta)\n",
    "        \n",
    "        beta = minimize(to_opti, beta_0 , jac=nab_p, method='Newton-CG').x\n",
    "        \n",
    "        aproximation = np.zeros(len(C))\n",
    "\n",
    "\n",
    "        for l in range(num_samples):\n",
    "    \n",
    "            aproximation[l] = f(C[l], np.exp(beta[1]), beta[2:], MPsi[l])\n",
    "    \n",
    "        \n",
    "        \n",
    "        alg_mean[i,j] = beta[0]\n",
    "        \n",
    "        alpha_alg[i,j,:] = beta[1:]\n",
    "        \n",
    "        second_alg[i,j] = second_aprox(Y, aproximation)\n"
   ]
  },
  {
   "cell_type": "code",
   "execution_count": 45,
   "metadata": {},
   "outputs": [
    {
     "data": {
      "text/plain": [
       "[Text(0, 0.5, '$E[| \\\\mu - \\\\hat{\\\\mu}| ]/\\\\mu$'),\n",
       " Text(0.5, 0, 'Percentage of good points'),\n",
       " Text(0.5, 1.0, 'Error in estimated $\\\\mu$')]"
      ]
     },
     "execution_count": 45,
     "metadata": {},
     "output_type": "execute_result"
    },
    {
     "data": {
      "image/png": "[encoded data removed]",
      "text/plain": [
       "<Figure size 432x288 with 1 Axes>"
      ]
     },
     "metadata": {
      "needs_background": "light"
     },
     "output_type": "display_data"
    }
   ],
   "source": [
    "error_alg_20 = np.mean(np.absolute(alg_mean - mu)/mu, axis = 1)\n",
    "error_exp_20 = np.mean(np.absolute(exp_mean - mu)/mu, axis = 1)\n",
    "error_good_20 = np.mean(np.absolute(good_mean - mu)/mu, axis = 1)\n",
    "error_second_20 = np.mean(np.absolute(second_alg - mu)/mu, axis = 1)\n",
    "\n",
    "\n",
    "percentage = np.array([4, 8, 12, 16,20])/20 \n",
    "\n",
    "fig, ax = plt.subplots()\n",
    "ax.plot(percentage, error_alg_20, c = 'b', label = 'MPE')\n",
    "ax.plot(percentage, error_exp_20, c = 'k', label = 'Experimental mean')\n",
    "ax.plot(percentage, error_good_20, c = 'r', label = 'Experimental mean of good samples')\n",
    "ax.plot(percentage, error_second_20, c = 'g', label = 'With approx. of the variance')\n",
    "\n",
    "ax.legend()\n",
    "ax.set(xlabel='Percentage of good points', ylabel='$E[| \\mu - \\hat{\\mu}| ]/\\mu$',\n",
    "       title='Error in estimated $\\mu$')\n"
   ]
  },
  {
   "cell_type": "code",
   "execution_count": null,
   "metadata": {},
   "outputs": [],
   "source": [
    "# plt.plot(error_alg_40, c = 'b')\n",
    "# plt.plot(error_exp_40, c = 'k')\n",
    "# plt.plot(error_good_40, c = 'r')"
   ]
  },
  {
   "cell_type": "code",
   "execution_count": null,
   "metadata": {},
   "outputs": [],
   "source": []
  }
 ],
 "metadata": {
  "kernelspec": {
   "display_name": "Python 3",
   "language": "python",
   "name": "python3"
  },
  "language_info": {
   "codemirror_mode": {
    "name": "ipython",
    "version": 3
   },
   "file_extension": ".py",
   "mimetype": "text/x-python",
   "name": "python",
   "nbconvert_exporter": "python",
   "pygments_lexer": "ipython3",
   "version": "3.7.4"
  }
 },
 "nbformat": 4,
 "nbformat_minor": 2
}
